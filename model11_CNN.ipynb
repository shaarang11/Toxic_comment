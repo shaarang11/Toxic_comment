{
 "cells": [
  {
   "cell_type": "code",
   "execution_count": 6,
   "metadata": {
    "id": "bQj6pwpXjqlM"
   },
   "outputs": [],
   "source": [
    "import pandas as pd\n",
    "import tensorflow as tf\n",
    "from tensorflow.keras.callbacks import EarlyStopping, ModelCheckpoint\n",
    "from tensorflow.keras.layers import Dense, Embedding, Input\n",
    "from tensorflow.keras.layers import LSTM, Bidirectional, GlobalMaxPool1D, Dropout, GlobalAveragePooling1D,Flatten, GlobalAveragePooling2D,GlobalMaxPool3D\n",
    "from tensorflow.keras.models import Model, Sequential\n",
    "from tensorflow.keras.preprocessing import text, sequence\n",
    "import matplotlib.pyplot as plt\n",
    "from tensorflow.keras  import layers\n",
    "import numpy as np\n",
    "from sklearn.metrics import plot_confusion_matrix"
   ]
  },
  {
   "cell_type": "code",
   "execution_count": 7,
   "metadata": {
    "id": "oKuDpE5YjwqI"
   },
   "outputs": [],
   "source": [
    "from sklearn.metrics import accuracy_score\n",
    "from sklearn.metrics import precision_score\n",
    "from sklearn.metrics import recall_score\n",
    "from sklearn.metrics import f1_score\n",
    "from sklearn.metrics import cohen_kappa_score\n",
    "from sklearn.metrics import roc_auc_score\n",
    "from sklearn.metrics import confusion_matrix"
   ]
  },
  {
   "cell_type": "code",
   "execution_count": 8,
   "metadata": {
    "id": "9HRZLYVZjy6k"
   },
   "outputs": [],
   "source": [
    "max_features = 20000\n",
    "maxlen = 100\n",
    "embedding_dim = 128"
   ]
  },
  {
   "cell_type": "code",
   "execution_count": 9,
   "metadata": {
    "id": "2qtcfaT9jzB-"
   },
   "outputs": [],
   "source": [
    "path  =  \"/content/drive/MyDrive/new1/data/train.csv/train.csv\"\n",
    "train =  pd.read_csv(path)\n",
    "train = train.sample(frac=1)"
   ]
  },
  {
   "cell_type": "code",
   "execution_count": 10,
   "metadata": {
    "id": "O3TFq5cVj4Tr"
   },
   "outputs": [],
   "source": [
    "list_sentences_train = train[\"comment_text\"].fillna(\"CVxTz\").values\n",
    "list_classes = [\"toxic\", \"severe_toxic\", \"obscene\", \"threat\", \"insult\", \"identity_hate\"]\n",
    "y = train[list_classes].values\n",
    "\n",
    "tokenizer = text.Tokenizer(num_words=max_features)\n",
    "tokenizer.fit_on_texts(list(list_sentences_train))\n",
    "list_tokenized_train = tokenizer.texts_to_sequences(list_sentences_train)\n",
    "\n",
    "X_t = sequence.pad_sequences(list_tokenized_train, maxlen=maxlen)\n",
    "x_train, x_test = X_t[:111700], X_t[111700:]\n",
    "y_train, y_test = y[:111700],  y[111700:]"
   ]
  },
  {
   "cell_type": "code",
   "execution_count": 11,
   "metadata": {
    "id": "VSFNYTO3kUZR"
   },
   "outputs": [],
   "source": [
    "def create_ngram_set(input_list, ngram_value=2):\n",
    "    gram_list = []\n",
    "    for i in range(ngram_value):\n",
    "        gram_list.append(input_list[i:])\n",
    "    return set(zip(*gram_list))\n",
    "\n",
    "def add_ngram(sequences, token_indice, ngram_range=2):\n",
    "    new_sequences = []\n",
    "    for input_list in sequences:\n",
    "        new_list = input_list[:]\n",
    "        for ngram_value in range(2, ngram_range + 1):\n",
    "            for i in range(len(new_list) - ngram_value + 1):\n",
    "                ngram = tuple(new_list[i:i + ngram_value])\n",
    "                if ngram in token_indice:\n",
    "                    new_list = np.append(new_list , token_indice[ngram])\n",
    "        new_sequences.append(new_list)\n",
    "    return new_sequences"
   ]
  },
  {
   "cell_type": "code",
   "execution_count": 12,
   "metadata": {
    "id": "tlB4Kz7bka98"
   },
   "outputs": [],
   "source": [
    "num_classes = len(list_classes)\n",
    "ngram_range = 2\n",
    "batch_size = 1024\n",
    "epochs = 5\n",
    "max_words = 20000\n",
    "maxlen = 100\n",
    "embedding_dims = 128\n",
    "\n",
    "\n",
    "#y_train = tf.keras.utils.to_categorical(y_train, num_classes)\n",
    "#y_test = tf.keras.utils.to_categorical(y_test, num_classes)\n",
    "\n",
    "if ngram_range > 1:\n",
    "\n",
    "    # Create set of unique n-gram from the training set    \n",
    "    ngram_set = set()\n",
    "    for input_list in x_train:\n",
    "        for i in range(2, ngram_range + 1):\n",
    "            set_of_ngram = create_ngram_set(input_list, ngram_value=i)\n",
    "            ngram_set.update(set_of_ngram)\n",
    "\n",
    "    # Dictionary mapping n-gram token to a unique integer\n",
    "    # Integer values are greater than max_words in order\n",
    "    # to avoid collision with existing features\n",
    "    start_index = max_words + 1\n",
    "    token_indice = {v: k + start_index for k, v in enumerate(ngram_set)}\n",
    "    indice_token = {token_indice[k]: k for k in token_indice}\n",
    "\n",
    "    # max_words is the highest integer that could be found in the dataset\n",
    "    max_words = np.max(list(indice_token.keys())) + 1\n",
    "\n",
    "    # Augmenting x_train and x_test with n-grams features\n",
    "    x_train = add_ngram(x_train, token_indice, ngram_range)\n",
    "    x_test = add_ngram(x_test, token_indice, ngram_range)\n",
    "\n",
    "# Pad the input vectors to ensure a consistent length\n",
    "x_train = sequence.pad_sequences(x_train, maxlen=maxlen)\n",
    "x_test = sequence.pad_sequences(x_test, maxlen=maxlen)"
   ]
  },
  {
   "cell_type": "code",
   "execution_count": 13,
   "metadata": {
    "colab": {
     "base_uri": "https://localhost:8080/"
    },
    "id": "R0RzydTLl6Dr",
    "outputId": "fb76a825-cf93-4e4c-e927-336f67219ac6"
   },
   "outputs": [
    {
     "name": "stdout",
     "output_type": "stream",
     "text": [
      "[[5.50275138e-04 1.64954630e-01 1.64993986e-01 ... 9.53377711e-01\n",
      "  5.41994541e-01 8.10866917e-01]\n",
      " [3.17658829e-02 1.64954630e-01 1.64993986e-01 ... 3.54202531e-01\n",
      "  7.95382353e-01 5.77094927e-01]\n",
      " [3.92696348e-02 1.64954630e-01 1.64993986e-01 ... 1.80034086e-01\n",
      "  5.79040035e-01 4.77388692e-01]\n",
      " ...\n",
      " [2.05102551e-03 1.64954630e-01 1.64993986e-01 ... 6.50631368e-01\n",
      "  2.06779541e-02 5.39992644e-02]\n",
      " [5.33966983e-01 1.64954630e-01 6.16226069e-01 ... 3.34292789e-01\n",
      "  8.38061383e-01 8.95195151e-02]\n",
      " [8.45022511e-01 1.64954630e-01 1.64993986e-01 ... 1.78475965e-01\n",
      "  1.04191286e-01 4.85710601e-02]] 111700\n",
      "[[1.50165182e-04 2.31237307e-03 5.16302970e-05 ... 6.09319722e-01\n",
      "  9.39392149e-01 4.70316056e-02]\n",
      " [5.37090800e-02 1.87692620e-06 0.00000000e+00 ... 1.63489787e-01\n",
      "  7.33384713e-01 3.42745216e-01]\n",
      " [9.60556612e-02 3.78951399e-03 2.21540911e-04 ... 4.11137359e-01\n",
      "  4.73997214e-01 5.29329604e-01]\n",
      " ...\n",
      " [6.71238362e-02 1.03230941e-05 5.82014257e-05 ... 4.91445204e-01\n",
      "  2.15394467e-01 2.42507302e-02]\n",
      " [1.77194914e-02 1.20686354e-03 7.50986139e-06 ... 4.50228259e-02\n",
      "  7.58153647e-02 3.64813662e-01]\n",
      " [4.80528581e-03 3.75385239e-06 2.80681069e-04 ... 9.43412357e-01\n",
      "  2.09112695e-01 3.35282516e-01]] 47871\n",
      "[[0 0 0 0 0 0]\n",
      " [0 0 0 0 0 0]\n",
      " [0 0 0 0 0 0]\n",
      " ...\n",
      " [0 0 0 0 0 0]\n",
      " [0 0 0 0 0 0]\n",
      " [0 0 0 0 0 0]] 111700\n",
      "[[0 0 0 0 0 0]\n",
      " [0 0 0 0 0 0]\n",
      " [0 0 0 0 0 0]\n",
      " ...\n",
      " [0 0 0 0 0 0]\n",
      " [0 0 0 0 0 0]\n",
      " [0 0 0 0 0 0]] 47871\n"
     ]
    }
   ],
   "source": [
    "#We normalize this data because some values are greater than 20000 \n",
    "from sklearn.preprocessing import MinMaxScaler\n",
    "scaler = MinMaxScaler()\n",
    "x_train = scaler.fit_transform(x_train)\n",
    "x_test = scaler.fit_transform(x_test)\n",
    "\n",
    "print(x_train,len(x_train))\n",
    "print(x_test,len(x_test))\n",
    "print(y_train, len(y_train))\n",
    "print(y_test, len(y_test))"
   ]
  },
  {
   "cell_type": "code",
   "execution_count": 14,
   "metadata": {
    "id": "TzLudf3Ej_uw"
   },
   "outputs": [],
   "source": [
    "def plot_loss_curves(history):\n",
    "  loss = history.history['loss']\n",
    "  val_loss = history.history['val_loss']\n",
    "  accuracy = history.history['accuracy']\n",
    "  val_accuracy = history.history['val_accuracy']\n",
    "  epochs = range(len(history.history['loss']))\n",
    "  plt.plot(epochs, loss, label='training_loss')\n",
    "  plt.plot(epochs, val_loss, label='val_loss')\n",
    "  plt.ylabel('Loss')\n",
    "  plt.xlabel('Epochs')\n",
    "  plt.legend()\n",
    "  plt.figure()\n",
    "  plt.plot(epochs, accuracy, label='training_accuracy')\n",
    "  plt.plot(epochs, val_accuracy, label='val_accuracy')\n",
    "  plt.ylabel('Accuracy')\n",
    "  plt.xlabel('Epochs')\n",
    "  plt.legend()"
   ]
  },
  {
   "cell_type": "code",
   "execution_count": 15,
   "metadata": {
    "id": "k1VnmSAwkDCJ"
   },
   "outputs": [],
   "source": [
    "file_path = \"../models/weights_base.best.hdf5\"\n",
    "checkpoint = ModelCheckpoint(file_path, verbose=1, save_best_only=True, mode=\"min\")\n",
    "early = EarlyStopping(mode=\"min\", patience=20)\n",
    "callbacks_list = [checkpoint, early]  # early\n",
    "batch_size = 64\n",
    "epochs = 5"
   ]
  },
  {
   "cell_type": "code",
   "execution_count": 16,
   "metadata": {
    "colab": {
     "base_uri": "https://localhost:8080/"
    },
    "id": "FbxFJr5eoZLa",
    "outputId": "9a5bf6d7-4ceb-462a-a896-a03dab478629"
   },
   "outputs": [
    {
     "name": "stdout",
     "output_type": "stream",
     "text": [
      "210338\n"
     ]
    }
   ],
   "source": [
    "vocab_size = len(tokenizer.word_index) + 1\n",
    "print(vocab_size)"
   ]
  },
  {
   "cell_type": "code",
   "execution_count": 17,
   "metadata": {
    "id": "5cfD8z7okmIs"
   },
   "outputs": [],
   "source": [
    "filters = 500 #Changed from 250 to 500\n",
    "kernel_size =  10 #Changed from 5 to 10\n",
    "\n",
    "model = Sequential()\n",
    "model.add(layers.Embedding(vocab_size, embedding_dim, input_length=maxlen))\n",
    "model.add(layers.Dropout(0.2))#Changed from 0.1 to 0.2\n",
    "model.add(layers.Conv1D(filters, kernel_size,padding='valid', activation='relu', strides=1))\n",
    "model.add(layers.GlobalMaxPooling1D())\n",
    "model.add(Dense(50, activation = 'relu'))#Changed from 100 to 50\n",
    "model.add(layers.Dropout(0.2))#Changed from 0.1 to 0.2\n",
    "model.add(layers.Dense(6, activation='sigmoid'))"
   ]
  },
  {
   "cell_type": "code",
   "execution_count": 19,
   "metadata": {
    "colab": {
     "base_uri": "https://localhost:8080/"
    },
    "id": "zJKZZtWEkq-Z",
    "outputId": "a7ce765d-f279-477e-e867-68db4c5fb71e"
   },
   "outputs": [
    {
     "name": "stdout",
     "output_type": "stream",
     "text": [
      "Model: \"sequential\"\n",
      "_________________________________________________________________\n",
      " Layer (type)                Output Shape              Param #   \n",
      "=================================================================\n",
      " embedding (Embedding)       (None, 100, 128)          26923264  \n",
      "                                                                 \n",
      " dropout (Dropout)           (None, 100, 128)          0         \n",
      "                                                                 \n",
      " conv1d (Conv1D)             (None, 91, 500)           640500    \n",
      "                                                                 \n",
      " global_max_pooling1d (Globa  (None, 500)              0         \n",
      " lMaxPooling1D)                                                  \n",
      "                                                                 \n",
      " dense (Dense)               (None, 50)                25050     \n",
      "                                                                 \n",
      " dropout_1 (Dropout)         (None, 50)                0         \n",
      "                                                                 \n",
      " dense_1 (Dense)             (None, 6)                 306       \n",
      "                                                                 \n",
      "=================================================================\n",
      "Total params: 27,589,120\n",
      "Trainable params: 27,589,120\n",
      "Non-trainable params: 0\n",
      "_________________________________________________________________\n"
     ]
    }
   ],
   "source": [
    "#model = get_model_bidirectional()\n",
    "model.compile(optimizer='adam',loss='binary_crossentropy', metrics=['accuracy'])\n",
    "model.summary()"
   ]
  },
  {
   "cell_type": "code",
   "execution_count": 20,
   "metadata": {
    "colab": {
     "base_uri": "https://localhost:8080/"
    },
    "id": "qkwfC-Ovk1MR",
    "outputId": "fdd62476-319e-4d39-fa72-f5b69e33c7ef"
   },
   "outputs": [
    {
     "name": "stdout",
     "output_type": "stream",
     "text": [
      "Epoch 1/5\n",
      "1222/1222 [==============================] - ETA: 0s - loss: 0.1523 - accuracy: 0.8305\n",
      "Epoch 00001: val_loss improved from inf to 0.14087, saving model to ../models/weights_base.best.hdf5\n",
      "1222/1222 [==============================] - 925s 756ms/step - loss: 0.1523 - accuracy: 0.8305 - val_loss: 0.1409 - val_accuracy: 0.9939\n",
      "Epoch 2/5\n",
      "1222/1222 [==============================] - ETA: 0s - loss: 0.1465 - accuracy: 0.9817\n",
      "Epoch 00002: val_loss did not improve from 0.14087\n",
      "1222/1222 [==============================] - 908s 743ms/step - loss: 0.1465 - accuracy: 0.9817 - val_loss: 0.1444 - val_accuracy: 0.9939\n",
      "Epoch 3/5\n",
      "1222/1222 [==============================] - ETA: 0s - loss: 0.1453 - accuracy: 0.9935\n",
      "Epoch 00003: val_loss did not improve from 0.14087\n",
      "1222/1222 [==============================] - 906s 741ms/step - loss: 0.1453 - accuracy: 0.9935 - val_loss: 0.1411 - val_accuracy: 0.9939\n",
      "Epoch 4/5\n",
      "1222/1222 [==============================] - ETA: 0s - loss: 0.1449 - accuracy: 0.9939\n",
      "Epoch 00004: val_loss did not improve from 0.14087\n",
      "1222/1222 [==============================] - 913s 747ms/step - loss: 0.1449 - accuracy: 0.9939 - val_loss: 0.1420 - val_accuracy: 0.9939\n",
      "Epoch 5/5\n",
      "1222/1222 [==============================] - ETA: 0s - loss: 0.1444 - accuracy: 0.9939\n",
      "Epoch 00005: val_loss improved from 0.14087 to 0.14079, saving model to ../models/weights_base.best.hdf5\n",
      "1222/1222 [==============================] - 908s 743ms/step - loss: 0.1444 - accuracy: 0.9939 - val_loss: 0.1408 - val_accuracy: 0.9939\n"
     ]
    }
   ],
   "source": [
    "model1 = model.fit(x_train, y_train, batch_size=batch_size, epochs=epochs, validation_split=0.3, callbacks=callbacks_list)"
   ]
  },
  {
   "cell_type": "code",
   "execution_count": 21,
   "metadata": {
    "id": "dq27Vi9Ik4kS"
   },
   "outputs": [],
   "source": [
    "model.save_weights(\"../models/model_weights.h5\")\n",
    "with open(\"../models/model_architecture.json\", \"w\") as f:\n",
    "    f.write(model.to_json())"
   ]
  },
  {
   "cell_type": "code",
   "execution_count": 22,
   "metadata": {
    "colab": {
     "base_uri": "https://localhost:8080/"
    },
    "id": "UIaqYxoak80l",
    "outputId": "411ed5ea-fc5b-45a3-afe7-244f18b4c602"
   },
   "outputs": [
    {
     "name": "stdout",
     "output_type": "stream",
     "text": [
      "47/47 [==============================] - 83s 2s/step\n",
      "[[0.10802928 0.01177663 0.06492174 0.00348619 0.06209031 0.01068059]\n",
      " [0.10802928 0.01177663 0.06492174 0.00348619 0.06209031 0.01068059]\n",
      " [0.10802928 0.01177663 0.06492174 0.00348619 0.06209031 0.01068059]\n",
      " ...\n",
      " [0.10802928 0.01177663 0.06492174 0.00348619 0.06209031 0.01068059]\n",
      " [0.10802928 0.01177663 0.06492174 0.00348619 0.06209031 0.01068059]\n",
      " [0.10802928 0.01177663 0.06492174 0.00348619 0.06209031 0.01068059]]\n"
     ]
    }
   ],
   "source": [
    "y_pred = model.predict(x_test, batch_size=1024, verbose=1)\n",
    "print(y_pred)"
   ]
  },
  {
   "cell_type": "code",
   "execution_count": 23,
   "metadata": {
    "colab": {
     "base_uri": "https://localhost:8080/",
     "height": 445
    },
    "id": "LJx6AlaOk_0-",
    "outputId": "a8380704-063a-468c-815d-e42614201c2f"
   },
   "outputs": [
    {
     "data": {
      "text/plain": [
       "<matplotlib.axes._subplots.AxesSubplot at 0x7fd5e145b990>"
      ]
     },
     "execution_count": 23,
     "metadata": {},
     "output_type": "execute_result"
    },
    {
     "data": {
      "image/png": "[encoded data removed]",
      "text/plain": [
       "<Figure size 720x504 with 1 Axes>"
      ]
     },
     "metadata": {
      "needs_background": "light"
     },
     "output_type": "display_data"
    }
   ],
   "source": [
    "pd.DataFrame(model1.history).plot(figsize=(10, 7))"
   ]
  },
  {
   "cell_type": "code",
   "execution_count": 24,
   "metadata": {
    "colab": {
     "base_uri": "https://localhost:8080/",
     "height": 542
    },
    "id": "WmoB2AbYlHy-",
    "outputId": "02a056bf-0fdd-4077-90b1-58da1e6b42f9"
   },
   "outputs": [
    {
     "data": {
      "image/png": "[encoded data removed]",
      "text/plain": [
       "<Figure size 432x288 with 1 Axes>"
      ]
     },
     "metadata": {
      "needs_background": "light"
     },
     "output_type": "display_data"
    },
    {
     "data": {
      "image/png": "[encoded data removed]",
      "text/plain": [
       "<Figure size 432x288 with 1 Axes>"
      ]
     },
     "metadata": {
      "needs_background": "light"
     },
     "output_type": "display_data"
    }
   ],
   "source": [
    "plot_loss_curves(model1)"
   ]
  },
  {
   "cell_type": "code",
   "execution_count": 27,
   "metadata": {
    "id": "Rj455bKrlLJN"
   },
   "outputs": [],
   "source": [
    "y_pred1 = []\n",
    "for i in  range(len(y_pred)):\n",
    " seq_prediction = list(map(lambda x: 0 if x<0.5 else 1, y_pred[i]))\n",
    " y_pred1.append(seq_prediction)\n",
    "#print(seq_predictions[0])\n",
    "\n",
    "#Convert y_test vector from [0 0 0 0 0 0] to [0,0,0,0,0,0] as y_test1\n",
    "y_test1= []\n",
    "for i in  range(len(y_test)):\n",
    " seq_prediction = list(map(lambda x: 0 if x<0.5 else 1, y_test[i]))\n",
    " y_test1.append(seq_prediction)\n",
    "#print(y_test1)\n"
   ]
  },
  {
   "cell_type": "code",
   "execution_count": 28,
   "metadata": {
    "id": "iCg6PXhnBUY9"
   },
   "outputs": [],
   "source": [
    "y_test1 = np.array(y_test1)\n",
    "y_pred1=np.array(y_pred1)"
   ]
  },
  {
   "cell_type": "code",
   "execution_count": 29,
   "metadata": {
    "colab": {
     "base_uri": "https://localhost:8080/"
    },
    "id": "1m4NnoE8rgKW",
    "outputId": "2eeea6fb-da01-418a-e3b9-8424c9b43028"
   },
   "outputs": [
    {
     "name": "stdout",
     "output_type": "stream",
     "text": [
      "Accuracy: 0.0\n",
      "Hamming Loss: 0.036358129138727\n",
      "Precision: 0.0\n",
      "Recall: 0.0\n",
      "F1Measure: 0.0\n",
      "Exact Match Ratio: 0.8991038415742307\n",
      "0/1 loss ratio: 0.10089615842576925\n"
     ]
    }
   ],
   "source": [
    "def Accuracy(y_true, y_pred):\n",
    "    temp = 0\n",
    "    for i in range(y_true.shape[0]):\n",
    "        if  (sum(np.logical_or(y_true[i], y_pred[i]))==0):\n",
    "             continue\n",
    "        temp += sum(np.logical_and(y_true[i], y_pred[i])) / sum(np.logical_or(y_true[i], y_pred[i]))\n",
    "    return temp / y_true.shape[0]\n",
    "    \n",
    "def Hamming_Loss(y_true, y_pred):\n",
    "    temp=0\n",
    "    for i in range(y_true.shape[0]):\n",
    "        temp += np.size(y_true[i] == y_pred[i]) - np.count_nonzero(y_true[i] == y_pred[i])\n",
    "    return temp/(y_true.shape[0] * y_true.shape[1])\n",
    "\n",
    "def Precision(y_true, y_pred):\n",
    "      temp = 0\n",
    "      for i in range(y_true.shape[0]):\n",
    "          if sum(y_true[i]) == 0:\n",
    "              continue\n",
    "          temp+= sum(np.logical_and(y_true[i], y_pred[i]))/ sum(y_true[i])\n",
    "      return temp/ y_true.shape[0]\n",
    "                                \n",
    "def Recall(y_true, y_pred):\n",
    "      temp = 0\n",
    "      for i in range(y_true.shape[0]):\n",
    "          if sum(y_pred[i]) == 0:\n",
    "              continue\n",
    "          temp+= sum(np.logical_and(y_true[i], y_pred[i]))/ sum(y_pred[i])\n",
    "      return temp/ y_true.shape[0]\n",
    "                                \n",
    "def F1Measure(y_true, y_pred):\n",
    "    temp = 0\n",
    "    for i in range(y_true.shape[0]):\n",
    "        if (sum(y_true[i]) == 0) and (sum(y_pred[i]) == 0):\n",
    "            continue\n",
    "        temp+= (2*sum(np.logical_and(y_true[i], y_pred[i])))/ (sum(y_true[i])+sum(y_pred[i]))\n",
    "    return temp/ y_true.shape[0]       \n",
    "\n",
    "\n",
    "print(\"Accuracy:\", Accuracy(y_test1, y_pred1))                        \n",
    "print(\"Hamming Loss:\", Hamming_Loss(y_test1, y_pred1))   \n",
    "print(\"Precision:\", Precision(y_test1, y_pred1))      \n",
    "print(\"Recall:\", Recall(y_test1, y_pred1))   \n",
    "print(\"F1Measure:\",F1Measure(y_test1, y_pred1))  \n",
    "print(\"Exact Match Ratio:\", np.all(y_pred1 == y_test1, axis=1).mean())\n",
    "print(\"0/1 loss ratio:\",np.any(y_test1 != y_pred1, axis=1).mean())"
   ]
  },
  {
   "cell_type": "code",
   "execution_count": 30,
   "metadata": {
    "colab": {
     "base_uri": "https://localhost:8080/"
    },
    "id": "8WJyShTVCElc",
    "outputId": "ba0c4af0-18d5-475e-ccb2-14c3a5933734"
   },
   "outputs": [
    {
     "name": "stdout",
     "output_type": "stream",
     "text": [
      "Exact Match Ratio: 0.8991038415742307\n",
      "Zero one loss: 0.10089615842576927\n",
      "Hamming loss: 0.036358129138727\n"
     ]
    }
   ],
   "source": [
    "import sklearn.metrics\n",
    "print('Exact Match Ratio: {0}'.format(sklearn.metrics.accuracy_score(y_test1, y_pred1, normalize=True, sample_weight=None)))\n",
    "print('Zero one loss: {0}'.format(sklearn.metrics.zero_one_loss(y_true=y_test1, y_pred=y_pred1))) \n",
    "print('Hamming loss: {0}'.format(sklearn.metrics.hamming_loss(y_test1, y_pred1)))"
   ]
  },
  {
   "cell_type": "code",
   "execution_count": 31,
   "metadata": {
    "colab": {
     "base_uri": "https://localhost:8080/"
    },
    "id": "PZ9z0n1NmJRQ",
    "outputId": "f16e1990-99f4-4523-ec22-902537f190d4"
   },
   "outputs": [
    {
     "name": "stdout",
     "output_type": "stream",
     "text": [
      "Jaccard Score: 0.0\n",
      "Recall: 0.0\n",
      "Precision: 0.0\n",
      "F1 Measure: 0.0\n"
     ]
    },
    {
     "name": "stderr",
     "output_type": "stream",
     "text": [
      "/usr/local/lib/python3.7/dist-packages/sklearn/metrics/_classification.py:1308: UndefinedMetricWarning: Jaccard is ill-defined and being set to 0.0 in samples with no true or predicted labels. Use `zero_division` parameter to control this behavior.\n",
      "  _warn_prf(average, modifier, msg_start, len(result))\n",
      "/usr/local/lib/python3.7/dist-packages/sklearn/metrics/_classification.py:1308: UndefinedMetricWarning: Precision is ill-defined and being set to 0.0 in samples with no predicted labels. Use `zero_division` parameter to control this behavior.\n",
      "  _warn_prf(average, modifier, msg_start, len(result))\n",
      "/usr/local/lib/python3.7/dist-packages/sklearn/metrics/_classification.py:1308: UndefinedMetricWarning: Recall is ill-defined and being set to 0.0 in samples with no true labels. Use `zero_division` parameter to control this behavior.\n",
      "  _warn_prf(average, modifier, msg_start, len(result))\n",
      "/usr/local/lib/python3.7/dist-packages/sklearn/metrics/_classification.py:1570: UndefinedMetricWarning: F-score is ill-defined and being set to 0.0 in samples with no true nor predicted labels. Use `zero_division` parameter to control this behavior.\n",
      "  _warn_prf(average, \"true nor predicted\", \"F-score is\", len(true_sum))\n"
     ]
    }
   ],
   "source": [
    "#samples\n",
    "print('Jaccard Score: {0}'.format(sklearn.metrics.jaccard_score(y_true=y_test1, y_pred=y_pred1,average='samples')))\n",
    "print('Recall: {0}'.format(sklearn.metrics.precision_score(y_true=y_test1, y_pred=y_pred1, average='samples'))) \n",
    "print('Precision: {0}'.format(sklearn.metrics.recall_score(y_true=y_test1, y_pred=y_pred1, average='samples')))\n",
    "print('F1 Measure: {0}'.format(sklearn.metrics.f1_score(y_true=y_test1, y_pred=y_pred1, average='samples'))) \n",
    "\n"
   ]
  },
  {
   "cell_type": "code",
   "execution_count": 32,
   "metadata": {
    "colab": {
     "base_uri": "https://localhost:8080/"
    },
    "id": "ZrgONr7OmU1-",
    "outputId": "1cd86cc2-830f-419f-de3b-013358de683f"
   },
   "outputs": [
    {
     "name": "stdout",
     "output_type": "stream",
     "text": [
      "Jaccard Score: 0.0\n",
      "Recall: 0.0\n",
      "Precision: 0.0\n",
      "F1 Measure: 0.0\n"
     ]
    },
    {
     "name": "stderr",
     "output_type": "stream",
     "text": [
      "/usr/local/lib/python3.7/dist-packages/sklearn/metrics/_classification.py:1308: UndefinedMetricWarning: Precision is ill-defined and being set to 0.0 due to no predicted samples. Use `zero_division` parameter to control this behavior.\n",
      "  _warn_prf(average, modifier, msg_start, len(result))\n"
     ]
    }
   ],
   "source": [
    "#micro\n",
    "print('Jaccard Score: {0}'.format(sklearn.metrics.jaccard_score(y_true=y_test1, y_pred=y_pred1,average='micro')))\n",
    "print('Recall: {0}'.format(sklearn.metrics.precision_score(y_true=y_test1, y_pred=y_pred1, average='micro'))) \n",
    "print('Precision: {0}'.format(sklearn.metrics.recall_score(y_true=y_test1, y_pred=y_pred1, average='micro')))\n",
    "print('F1 Measure: {0}'.format(sklearn.metrics.f1_score(y_true=y_test1, y_pred=y_pred1, average='micro'))) \n"
   ]
  },
  {
   "cell_type": "code",
   "execution_count": 33,
   "metadata": {
    "colab": {
     "base_uri": "https://localhost:8080/"
    },
    "id": "K5R_u5H7p9Kd",
    "outputId": "7ab9ffd7-7f97-4d43-dd1f-8eef427a13b8"
   },
   "outputs": [
    {
     "name": "stdout",
     "output_type": "stream",
     "text": [
      "Jaccard Score: 0.0\n",
      "Recall: 0.0\n"
     ]
    },
    {
     "name": "stderr",
     "output_type": "stream",
     "text": [
      "/usr/local/lib/python3.7/dist-packages/sklearn/metrics/_classification.py:1308: UndefinedMetricWarning: Precision is ill-defined and being set to 0.0 in labels with no predicted samples. Use `zero_division` parameter to control this behavior.\n",
      "  _warn_prf(average, modifier, msg_start, len(result))\n"
     ]
    },
    {
     "name": "stdout",
     "output_type": "stream",
     "text": [
      "Precision: 0.0\n",
      "F1 Measure: 0.0\n"
     ]
    }
   ],
   "source": [
    "#macro\n",
    "print('Jaccard Score: {0}'.format(sklearn.metrics.jaccard_score(y_true=y_test1, y_pred=y_pred1,average='macro')))\n",
    "print('Recall: {0}'.format(sklearn.metrics.precision_score(y_true=y_test1, y_pred=y_pred1, average='macro'))) \n",
    "print('Precision: {0}'.format(sklearn.metrics.recall_score(y_true=y_test1, y_pred=y_pred1, average='macro')))\n",
    "print('F1 Measure: {0}'.format(sklearn.metrics.f1_score(y_true=y_test1, y_pred=y_pred1, average='macro'))) \n"
   ]
  },
  {
   "cell_type": "code",
   "execution_count": 34,
   "metadata": {
    "colab": {
     "base_uri": "https://localhost:8080/"
    },
    "id": "xYLfGcacCpRA",
    "outputId": "0637ff58-bfa3-420f-99b7-4c708659d230"
   },
   "outputs": [
    {
     "name": "stdout",
     "output_type": "stream",
     "text": [
      "Jaccard Score: 0.0\n",
      "Recall: 0.0\n"
     ]
    },
    {
     "name": "stderr",
     "output_type": "stream",
     "text": [
      "/usr/local/lib/python3.7/dist-packages/sklearn/metrics/_classification.py:1308: UndefinedMetricWarning: Precision is ill-defined and being set to 0.0 in labels with no predicted samples. Use `zero_division` parameter to control this behavior.\n",
      "  _warn_prf(average, modifier, msg_start, len(result))\n"
     ]
    },
    {
     "name": "stdout",
     "output_type": "stream",
     "text": [
      "Precision: 0.0\n",
      "F1 Measure: 0.0\n"
     ]
    }
   ],
   "source": [
    "#weighted\n",
    "print('Jaccard Score: {0}'.format(sklearn.metrics.jaccard_score(y_true=y_test1, y_pred=y_pred1,average='weighted')))\n",
    "print('Recall: {0}'.format(sklearn.metrics.precision_score(y_true=y_test1, y_pred=y_pred1, average='weighted'))) \n",
    "print('Precision: {0}'.format(sklearn.metrics.recall_score(y_true=y_test1, y_pred=y_pred1, average='weighted')))\n",
    "print('F1 Measure: {0}'.format(sklearn.metrics.f1_score(y_true=y_test1, y_pred=y_pred1, average='weighted'))) \n"
   ]
  },
  {
   "cell_type": "code",
   "execution_count": 35,
   "metadata": {
    "colab": {
     "base_uri": "https://localhost:8080/"
    },
    "id": "UFGH6RTUuWzf",
    "outputId": "b9f3f7aa-4367-4fc3-e906-cece40df5d2a"
   },
   "outputs": [
    {
     "name": "stdout",
     "output_type": "stream",
     "text": [
      "              precision    recall  f1-score   support\n",
      "\n",
      "           0       0.00      0.00      0.00      4579\n",
      "           1       0.00      0.00      0.00       451\n",
      "           2       0.00      0.00      0.00      2513\n",
      "           3       0.00      0.00      0.00       156\n",
      "           4       0.00      0.00      0.00      2346\n",
      "           5       0.00      0.00      0.00       398\n",
      "\n",
      "   micro avg       0.00      0.00      0.00     10443\n",
      "   macro avg       0.00      0.00      0.00     10443\n",
      "weighted avg       0.00      0.00      0.00     10443\n",
      " samples avg       0.00      0.00      0.00     10443\n",
      "\n"
     ]
    },
    {
     "name": "stderr",
     "output_type": "stream",
     "text": [
      "/usr/local/lib/python3.7/dist-packages/sklearn/metrics/_classification.py:1308: UndefinedMetricWarning: Precision and F-score are ill-defined and being set to 0.0 in labels with no predicted samples. Use `zero_division` parameter to control this behavior.\n",
      "  _warn_prf(average, modifier, msg_start, len(result))\n",
      "/usr/local/lib/python3.7/dist-packages/sklearn/metrics/_classification.py:1308: UndefinedMetricWarning: Precision and F-score are ill-defined and being set to 0.0 due to no predicted samples. Use `zero_division` parameter to control this behavior.\n",
      "  _warn_prf(average, modifier, msg_start, len(result))\n",
      "/usr/local/lib/python3.7/dist-packages/sklearn/metrics/_classification.py:1308: UndefinedMetricWarning: Precision and F-score are ill-defined and being set to 0.0 in samples with no predicted labels. Use `zero_division` parameter to control this behavior.\n",
      "  _warn_prf(average, modifier, msg_start, len(result))\n",
      "/usr/local/lib/python3.7/dist-packages/sklearn/metrics/_classification.py:1308: UndefinedMetricWarning: Recall and F-score are ill-defined and being set to 0.0 in samples with no true labels. Use `zero_division` parameter to control this behavior.\n",
      "  _warn_prf(average, modifier, msg_start, len(result))\n"
     ]
    }
   ],
   "source": [
    "print(sklearn.metrics.classification_report(y_test1, y_pred1))"
   ]
  },
  {
   "cell_type": "code",
   "execution_count": 36,
   "metadata": {
    "colab": {
     "base_uri": "https://localhost:8080/"
    },
    "id": "_SI8pbYUAmak",
    "outputId": "af238738-6998-4943-f0dd-95728b3c50f7"
   },
   "outputs": [
    {
     "data": {
      "text/plain": [
       "array([[[43292,     0],\n",
       "        [ 4579,     0]],\n",
       "\n",
       "       [[47420,     0],\n",
       "        [  451,     0]],\n",
       "\n",
       "       [[45358,     0],\n",
       "        [ 2513,     0]],\n",
       "\n",
       "       [[47715,     0],\n",
       "        [  156,     0]],\n",
       "\n",
       "       [[45525,     0],\n",
       "        [ 2346,     0]],\n",
       "\n",
       "       [[47473,     0],\n",
       "        [  398,     0]]])"
      ]
     },
     "execution_count": 36,
     "metadata": {},
     "output_type": "execute_result"
    }
   ],
   "source": [
    "from sklearn.metrics import multilabel_confusion_matrix\n",
    "multilabel_confusion_matrix(y_test1, y_pred1)"
   ]
  },
  {
   "cell_type": "code",
   "execution_count": 37,
   "metadata": {
    "id": "vdLmi8Gmpk5j"
   },
   "outputs": [],
   "source": [
    "from sklearn.metrics import ConfusionMatrixDisplay\n",
    "from sklearn.metrics import confusion_matrix\n",
    "import matplotlib.pyplot as plt\n",
    "import numpy as np\n",
    "cm = multilabel_confusion_matrix(y_test1, y_pred1)\n",
    "list_classes = [\"toxic\", \"severe_toxic\", \"obscene\", \"threat\", \"insult\", \"identity_hate\"]\n"
   ]
  },
  {
   "cell_type": "code",
   "execution_count": 38,
   "metadata": {
    "colab": {
     "base_uri": "https://localhost:8080/",
     "height": 279
    },
    "id": "-k82-KvFE9xh",
    "outputId": "f35a4a9b-85f7-4767-9247-b85174e7f986"
   },
   "outputs": [
    {
     "data": {
      "image/png": "[encoded data removed]",
      "text/plain": [
       "<Figure size 432x288 with 2 Axes>"
      ]
     },
     "metadata": {
      "needs_background": "light"
     },
     "output_type": "display_data"
    }
   ],
   "source": [
    "disp = ConfusionMatrixDisplay(confusion_matrix=cm[0], display_labels=list_classes[0])\n",
    "disp.plot(cmap=plt.cm.Blues)\n",
    "plt.show()"
   ]
  },
  {
   "cell_type": "code",
   "execution_count": 39,
   "metadata": {
    "colab": {
     "base_uri": "https://localhost:8080/",
     "height": 279
    },
    "id": "I6Ic0zJOFB1F",
    "outputId": "4cd83614-f697-453c-ce65-256eba3a34df"
   },
   "outputs": [
    {
     "data": {
      "image/png": "[encoded data removed]",
      "text/plain": [
       "<Figure size 432x288 with 2 Axes>"
      ]
     },
     "metadata": {
      "needs_background": "light"
     },
     "output_type": "display_data"
    }
   ],
   "source": [
    "disp = ConfusionMatrixDisplay(confusion_matrix=cm[1], display_labels=list_classes[1])\n",
    "disp.plot(cmap=plt.cm.Blues)\n",
    "plt.show()"
   ]
  },
  {
   "cell_type": "code",
   "execution_count": 40,
   "metadata": {
    "colab": {
     "base_uri": "https://localhost:8080/",
     "height": 279
    },
    "id": "Y2t6jCzmFD4c",
    "outputId": "5c7273de-bed2-48aa-fb8a-57ca406130df"
   },
   "outputs": [
    {
     "data": {
      "image/png": "[encoded data removed]",
      "text/plain": [
       "<Figure size 432x288 with 2 Axes>"
      ]
     },
     "metadata": {
      "needs_background": "light"
     },
     "output_type": "display_data"
    }
   ],
   "source": [
    "disp = ConfusionMatrixDisplay(confusion_matrix=cm[2], display_labels=list_classes[2])\n",
    "\n",
    "disp.plot(cmap=plt.cm.Blues)\n",
    "plt.show()"
   ]
  },
  {
   "cell_type": "code",
   "execution_count": 41,
   "metadata": {
    "colab": {
     "base_uri": "https://localhost:8080/",
     "height": 279
    },
    "id": "LYaJiEyEFFnm",
    "outputId": "3bd95ef8-b1e1-4ef2-b0b3-6619814651fd"
   },
   "outputs": [
    {
     "data": {
      "image/png": "[encoded data removed]",
      "text/plain": [
       "<Figure size 432x288 with 2 Axes>"
      ]
     },
     "metadata": {
      "needs_background": "light"
     },
     "output_type": "display_data"
    }
   ],
   "source": [
    "disp = ConfusionMatrixDisplay(confusion_matrix=cm[3], display_labels=list_classes[3])\n",
    "disp.plot(cmap=plt.cm.Blues)\n",
    "plt.show()"
   ]
  },
  {
   "cell_type": "code",
   "execution_count": 42,
   "metadata": {
    "colab": {
     "base_uri": "https://localhost:8080/",
     "height": 279
    },
    "id": "TS1eLDjFFH1_",
    "outputId": "78f1ba44-dd07-4b07-9f10-570d4b92b7d3"
   },
   "outputs": [
    {
     "data": {
      "image/png": "[encoded data removed]",
      "text/plain": [
       "<Figure size 432x288 with 2 Axes>"
      ]
     },
     "metadata": {
      "needs_background": "light"
     },
     "output_type": "display_data"
    }
   ],
   "source": [
    "disp = ConfusionMatrixDisplay(confusion_matrix=cm[4], display_labels=list_classes[4])\n",
    "\n",
    "disp.plot(cmap=plt.cm.Blues)\n",
    "plt.show()"
   ]
  },
  {
   "cell_type": "code",
   "execution_count": 43,
   "metadata": {
    "colab": {
     "base_uri": "https://localhost:8080/",
     "height": 279
    },
    "id": "mtNXiCD2FJ99",
    "outputId": "93547dcb-a31b-435e-94bf-720ff7a7bbc2"
   },
   "outputs": [
    {
     "data": {
      "image/png": "[encoded data removed]",
      "text/plain": [
       "<Figure size 432x288 with 2 Axes>"
      ]
     },
     "metadata": {
      "needs_background": "light"
     },
     "output_type": "display_data"
    }
   ],
   "source": [
    "disp = ConfusionMatrixDisplay(confusion_matrix=cm[5], display_labels=list_classes[5])\n",
    "\n",
    "disp.plot(cmap=plt.cm.Blues)\n",
    "plt.show()"
   ]
  }
 ],
 "metadata": {
  "colab": {
   "collapsed_sections": [],
   "name": "model11_CNN.ipynb",
   "provenance": []
  },
  "kernelspec": {
   "display_name": "Python 3",
   "language": "python",
   "name": "python3"
  },
  "language_info": {
   "codemirror_mode": {
    "name": "ipython",
    "version": 3
   },
   "file_extension": ".py",
   "mimetype": "text/x-python",
   "name": "python",
   "nbconvert_exporter": "python",
   "pygments_lexer": "ipython3",
   "version": "3.8.8"
  }
 },
 "nbformat": 4,
 "nbformat_minor": 1
}
