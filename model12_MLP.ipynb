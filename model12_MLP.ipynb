{
 "cells": [
  {
   "cell_type": "code",
   "execution_count": 2,
   "metadata": {
    "id": "bQj6pwpXjqlM"
   },
   "outputs": [],
   "source": [
    "import pandas as pd\n",
    "import tensorflow as tf\n",
    "from tensorflow.keras.callbacks import EarlyStopping, ModelCheckpoint\n",
    "from tensorflow.keras.layers import Dense, Embedding, Input\n",
    "from tensorflow.keras.layers import LSTM, Bidirectional, GlobalMaxPool1D, Dropout, GlobalAveragePooling1D,Flatten, GlobalAveragePooling2D,GlobalMaxPool3D\n",
    "from tensorflow.keras.models import Model, Sequential\n",
    "from tensorflow.keras.preprocessing import text, sequence\n",
    "import matplotlib.pyplot as plt\n",
    "from tensorflow.keras  import layers\n",
    "import numpy as np\n",
    "from sklearn.metrics import plot_confusion_matrix"
   ]
  },
  {
   "cell_type": "code",
   "execution_count": 3,
   "metadata": {
    "id": "oKuDpE5YjwqI"
   },
   "outputs": [],
   "source": [
    "from sklearn.metrics import accuracy_score\n",
    "from sklearn.metrics import precision_score\n",
    "from sklearn.metrics import recall_score\n",
    "from sklearn.metrics import f1_score\n",
    "from sklearn.metrics import cohen_kappa_score\n",
    "from sklearn.metrics import roc_auc_score\n",
    "from sklearn.metrics import confusion_matrix"
   ]
  },
  {
   "cell_type": "code",
   "execution_count": 4,
   "metadata": {
    "id": "9HRZLYVZjy6k"
   },
   "outputs": [],
   "source": [
    "max_features = 20000\n",
    "maxlen = 100\n",
    "embedding_dim = 128"
   ]
  },
  {
   "cell_type": "code",
   "execution_count": 5,
   "metadata": {
    "id": "2qtcfaT9jzB-"
   },
   "outputs": [],
   "source": [
    "path  =  \"/content/drive/MyDrive/new1/data/train.csv/train.csv\"\n",
    "train =  pd.read_csv(path)\n",
    "train = train.sample(frac=1)"
   ]
  },
  {
   "cell_type": "code",
   "execution_count": 6,
   "metadata": {
    "id": "O3TFq5cVj4Tr"
   },
   "outputs": [],
   "source": [
    "list_sentences_train = train[\"comment_text\"].fillna(\"CVxTz\").values\n",
    "list_classes = [\"toxic\", \"severe_toxic\", \"obscene\", \"threat\", \"insult\", \"identity_hate\"]\n",
    "y = train[list_classes].values\n",
    "\n",
    "tokenizer = text.Tokenizer(num_words=max_features)\n",
    "tokenizer.fit_on_texts(list(list_sentences_train))\n",
    "list_tokenized_train = tokenizer.texts_to_sequences(list_sentences_train)\n",
    "\n",
    "X_t = sequence.pad_sequences(list_tokenized_train, maxlen=maxlen)\n",
    "x_train, x_test = X_t[:111700], X_t[111700:]\n",
    "y_train, y_test = y[:111700],  y[111700:]"
   ]
  },
  {
   "cell_type": "code",
   "execution_count": 7,
   "metadata": {
    "id": "VSFNYTO3kUZR"
   },
   "outputs": [],
   "source": [
    "def create_ngram_set(input_list, ngram_value=2):\n",
    "    gram_list = []\n",
    "    for i in range(ngram_value):\n",
    "        gram_list.append(input_list[i:])\n",
    "    return set(zip(*gram_list))\n",
    "\n",
    "def add_ngram(sequences, token_indice, ngram_range=2):\n",
    "    new_sequences = []\n",
    "    for input_list in sequences:\n",
    "        new_list = input_list[:]\n",
    "        for ngram_value in range(2, ngram_range + 1):\n",
    "            for i in range(len(new_list) - ngram_value + 1):\n",
    "                ngram = tuple(new_list[i:i + ngram_value])\n",
    "                if ngram in token_indice:\n",
    "                    new_list = np.append(new_list , token_indice[ngram])\n",
    "        new_sequences.append(new_list)\n",
    "    return new_sequences"
   ]
  },
  {
   "cell_type": "code",
   "execution_count": 8,
   "metadata": {
    "id": "tlB4Kz7bka98"
   },
   "outputs": [],
   "source": [
    "num_classes = len(list_classes)\n",
    "ngram_range = 2\n",
    "batch_size = 1024\n",
    "epochs = 5\n",
    "max_words = 20000\n",
    "maxlen = 100\n",
    "embedding_dims = 128\n",
    "\n",
    "\n",
    "#y_train = tf.keras.utils.to_categorical(y_train, num_classes)\n",
    "#y_test = tf.keras.utils.to_categorical(y_test, num_classes)\n",
    "\n",
    "if ngram_range > 1:\n",
    "\n",
    "    # Create set of unique n-gram from the training set    \n",
    "    ngram_set = set()\n",
    "    for input_list in x_train:\n",
    "        for i in range(2, ngram_range + 1):\n",
    "            set_of_ngram = create_ngram_set(input_list, ngram_value=i)\n",
    "            ngram_set.update(set_of_ngram)\n",
    "\n",
    "    # Dictionary mapping n-gram token to a unique integer\n",
    "    # Integer values are greater than max_words in order\n",
    "    # to avoid collision with existing features\n",
    "    start_index = max_words + 1\n",
    "    token_indice = {v: k + start_index for k, v in enumerate(ngram_set)}\n",
    "    indice_token = {token_indice[k]: k for k in token_indice}\n",
    "\n",
    "    # max_words is the highest integer that could be found in the dataset\n",
    "    max_words = np.max(list(indice_token.keys())) + 1\n",
    "\n",
    "    # Augmenting x_train and x_test with n-grams features\n",
    "    x_train = add_ngram(x_train, token_indice, ngram_range)\n",
    "    x_test = add_ngram(x_test, token_indice, ngram_range)\n",
    "\n",
    "# Pad the input vectors to ensure a consistent length\n",
    "x_train = sequence.pad_sequences(x_train, maxlen=maxlen)\n",
    "x_test = sequence.pad_sequences(x_test, maxlen=maxlen)"
   ]
  },
  {
   "cell_type": "code",
   "execution_count": 9,
   "metadata": {
    "colab": {
     "base_uri": "https://localhost:8080/"
    },
    "id": "R0RzydTLl6Dr",
    "outputId": "a4e1e0be-20e1-4db4-a80e-831c30f076a5"
   },
   "outputs": [
    {
     "name": "stdout",
     "output_type": "stream",
     "text": [
      "[[0.00805282 0.16498903 0.16506388 ... 0.09857028 0.6032018  0.31684562]\n",
      " [0.01520532 0.79183786 0.5857415  ... 0.63322244 0.50009616 0.12094489]\n",
      " [0.87730706 0.16498903 0.16506388 ... 0.64262663 0.56878892 0.35912232]\n",
      " ...\n",
      " [0.02555895 0.16498903 0.16506388 ... 0.68170246 0.2936361  0.37472564]\n",
      " [0.00375131 0.16498903 0.16506388 ... 0.09261146 0.25603519 0.58025933]\n",
      " [0.14219977 0.16498903 0.16506388 ... 0.91860486 0.48483918 0.20426786]] 111700\n",
      "[[1.62182436e-01 1.31535803e-05 2.48363189e-03 ... 5.96225813e-01\n",
      "  4.30589108e-01 1.70599385e-01]\n",
      " [5.54110822e-01 7.33781870e-04 5.10065097e-04 ... 4.82163680e-01\n",
      "  7.56799692e-01 5.85826819e-01]\n",
      " [1.41528306e-02 7.36600495e-04 2.81803921e-06 ... 2.30926741e-01\n",
      "  3.54543534e-01 2.41812640e-01]\n",
      " ...\n",
      " [1.00020004e-04 1.12744974e-05 1.14600261e-04 ... 2.68920226e-01\n",
      "  8.76232413e-01 7.07613248e-01]\n",
      " [6.69633927e-02 5.63724868e-06 8.07837906e-05 ... 6.74703557e-01\n",
      "  1.70175150e-01 1.12380763e-01]\n",
      " [2.46549310e-02 8.45587303e-06 1.78475817e-05 ... 3.44749467e-01\n",
      "  7.50262186e-01 4.89005444e-01]] 47871\n",
      "[[0 0 0 0 0 0]\n",
      " [0 0 0 0 0 0]\n",
      " [0 0 0 0 0 0]\n",
      " ...\n",
      " [0 0 0 0 0 0]\n",
      " [0 0 0 0 0 0]\n",
      " [0 0 0 0 0 0]] 111700\n",
      "[[0 0 0 0 0 0]\n",
      " [0 0 0 0 0 0]\n",
      " [0 0 0 0 0 0]\n",
      " ...\n",
      " [0 0 0 0 0 0]\n",
      " [0 0 0 0 0 0]\n",
      " [0 0 0 0 0 0]] 47871\n"
     ]
    }
   ],
   "source": [
    "#We normalize this data because some values are greater than 20000 \n",
    "from sklearn.preprocessing import MinMaxScaler\n",
    "scaler = MinMaxScaler()\n",
    "x_train = scaler.fit_transform(x_train)\n",
    "x_test = scaler.fit_transform(x_test)\n",
    "\n",
    "print(x_train,len(x_train))\n",
    "print(x_test,len(x_test))\n",
    "print(y_train, len(y_train))\n",
    "print(y_test, len(y_test))"
   ]
  },
  {
   "cell_type": "code",
   "execution_count": 10,
   "metadata": {
    "id": "TzLudf3Ej_uw"
   },
   "outputs": [],
   "source": [
    "def plot_loss_curves(history):\n",
    "  loss = history.history['loss']\n",
    "  val_loss = history.history['val_loss']\n",
    "  accuracy = history.history['accuracy']\n",
    "  val_accuracy = history.history['val_accuracy']\n",
    "  epochs = range(len(history.history['loss']))\n",
    "  plt.plot(epochs, loss, label='training_loss')\n",
    "  plt.plot(epochs, val_loss, label='val_loss')\n",
    "  plt.ylabel('Loss')\n",
    "  plt.xlabel('Epochs')\n",
    "  plt.legend()\n",
    "  plt.figure()\n",
    "  plt.plot(epochs, accuracy, label='training_accuracy')\n",
    "  plt.plot(epochs, val_accuracy, label='val_accuracy')\n",
    "  plt.ylabel('Accuracy')\n",
    "  plt.xlabel('Epochs')\n",
    "  plt.legend()"
   ]
  },
  {
   "cell_type": "code",
   "execution_count": 11,
   "metadata": {
    "id": "k1VnmSAwkDCJ"
   },
   "outputs": [],
   "source": [
    "file_path = \"../models/weights_base.best.hdf5\"\n",
    "checkpoint = ModelCheckpoint(file_path, verbose=1, save_best_only=True, mode=\"min\")\n",
    "early = EarlyStopping(mode=\"min\", patience=20)\n",
    "callbacks_list = [checkpoint, early]  # early\n",
    "batch_size = 64\n",
    "epochs = 5"
   ]
  },
  {
   "cell_type": "code",
   "execution_count": 12,
   "metadata": {
    "id": "5cfD8z7okmIs"
   },
   "outputs": [],
   "source": [
    "def get_model_MLP():\n",
    "    with tf.device(\"/device:GPU:0\"):\n",
    "        embed_size = 128\n",
    "        inp = Input(shape=(maxlen,))\n",
    "        x = Embedding(max_features, embed_size)(inp)\n",
    "        x = Dense(1000, activation = \"relu\")(x)\n",
    "        x = Flatten()(x)\n",
    "        x = Dense(500, activation = \"relu\")(x)\n",
    "        x = Dense(100, activation = \"relu\")(x)\n",
    "        #x = Dense(50, activation=\"relu\")(x)\n",
    "        #x = Dense(10, activation = \"relu\")(x)\n",
    "        x = Dense(6, activation=\"sigmoid\")(x)\n",
    "        model = Model(inputs=inp, outputs=x)\n",
    "        model.compile(loss=\"binary_crossentropy\", optimizer=\"adam\", metrics=[\"accuracy\"])\n",
    "        return model"
   ]
  },
  {
   "cell_type": "code",
   "execution_count": 13,
   "metadata": {
    "colab": {
     "base_uri": "https://localhost:8080/"
    },
    "id": "zJKZZtWEkq-Z",
    "outputId": "d24d1a1d-ef7f-46ad-fff7-c43a9ebcc4e0"
   },
   "outputs": [
    {
     "name": "stdout",
     "output_type": "stream",
     "text": [
      "Model: \"model\"\n",
      "_________________________________________________________________\n",
      " Layer (type)                Output Shape              Param #   \n",
      "=================================================================\n",
      " input_1 (InputLayer)        [(None, 100)]             0         \n",
      "                                                                 \n",
      " embedding (Embedding)       (None, 100, 128)          2560000   \n",
      "                                                                 \n",
      " dense (Dense)               (None, 100, 1000)         129000    \n",
      "                                                                 \n",
      " flatten (Flatten)           (None, 100000)            0         \n",
      "                                                                 \n",
      " dense_1 (Dense)             (None, 500)               50000500  \n",
      "                                                                 \n",
      " dense_2 (Dense)             (None, 100)               50100     \n",
      "                                                                 \n",
      " dense_3 (Dense)             (None, 6)                 606       \n",
      "                                                                 \n",
      "=================================================================\n",
      "Total params: 52,740,206\n",
      "Trainable params: 52,740,206\n",
      "Non-trainable params: 0\n",
      "_________________________________________________________________\n"
     ]
    }
   ],
   "source": [
    "model = get_model_MLP()\n",
    "model.compile(optimizer='adam',loss='binary_crossentropy', metrics=['accuracy'])\n",
    "model.summary()"
   ]
  },
  {
   "cell_type": "code",
   "execution_count": 14,
   "metadata": {
    "colab": {
     "base_uri": "https://localhost:8080/"
    },
    "id": "qkwfC-Ovk1MR",
    "outputId": "e09184a1-e88c-484d-b701-b36eec740a10"
   },
   "outputs": [
    {
     "name": "stdout",
     "output_type": "stream",
     "text": [
      "Epoch 1/5\n",
      "1222/1222 [==============================] - ETA: 0s - loss: 0.1462 - accuracy: 0.9723\n",
      "Epoch 00001: val_loss improved from inf to 0.13975, saving model to ../models/weights_base.best.hdf5\n",
      "1222/1222 [==============================] - 933s 762ms/step - loss: 0.1462 - accuracy: 0.9723 - val_loss: 0.1398 - val_accuracy: 0.9943\n",
      "Epoch 2/5\n",
      "1222/1222 [==============================] - ETA: 0s - loss: 0.1440 - accuracy: 0.9943\n",
      "Epoch 00002: val_loss did not improve from 0.13975\n",
      "1222/1222 [==============================] - 937s 767ms/step - loss: 0.1440 - accuracy: 0.9943 - val_loss: 0.1400 - val_accuracy: 0.9943\n",
      "Epoch 3/5\n",
      "1222/1222 [==============================] - ETA: 0s - loss: 0.1434 - accuracy: 0.9943\n",
      "Epoch 00003: val_loss did not improve from 0.13975\n",
      "1222/1222 [==============================] - 937s 767ms/step - loss: 0.1434 - accuracy: 0.9943 - val_loss: 0.1403 - val_accuracy: 0.9943\n",
      "Epoch 4/5\n",
      "1222/1222 [==============================] - ETA: 0s - loss: 0.1431 - accuracy: 0.9943\n",
      "Epoch 00004: val_loss did not improve from 0.13975\n",
      "1222/1222 [==============================] - 935s 766ms/step - loss: 0.1431 - accuracy: 0.9943 - val_loss: 0.1443 - val_accuracy: 0.9943\n",
      "Epoch 5/5\n",
      "1222/1222 [==============================] - ETA: 0s - loss: 0.1431 - accuracy: 0.9943\n",
      "Epoch 00005: val_loss improved from 0.13975 to 0.13974, saving model to ../models/weights_base.best.hdf5\n",
      "1222/1222 [==============================] - 937s 767ms/step - loss: 0.1431 - accuracy: 0.9943 - val_loss: 0.1397 - val_accuracy: 0.9943\n"
     ]
    }
   ],
   "source": [
    "model1 = model.fit(x_train, y_train, batch_size=batch_size, epochs=epochs, validation_split=0.3, callbacks=callbacks_list)"
   ]
  },
  {
   "cell_type": "code",
   "execution_count": 15,
   "metadata": {
    "id": "dq27Vi9Ik4kS"
   },
   "outputs": [],
   "source": [
    "model.save_weights(\"../models/model_weights.h5\")\n",
    "with open(\"../models/model_architecture.json\", \"w\") as f:\n",
    "    f.write(model.to_json())"
   ]
  },
  {
   "cell_type": "code",
   "execution_count": 16,
   "metadata": {
    "colab": {
     "base_uri": "https://localhost:8080/"
    },
    "id": "UIaqYxoak80l",
    "outputId": "e954816b-a8d9-48af-80e3-6e6fed92fce4"
   },
   "outputs": [
    {
     "name": "stdout",
     "output_type": "stream",
     "text": [
      "47/47 [==============================] - 106s 2s/step\n",
      "[[0.09206682 0.01210156 0.05599934 0.00311455 0.05320424 0.00802666]\n",
      " [0.09206682 0.01210156 0.05599934 0.00311455 0.05320424 0.00802666]\n",
      " [0.09206682 0.01210156 0.05599934 0.00311455 0.05320424 0.00802666]\n",
      " ...\n",
      " [0.09206682 0.01210156 0.05599934 0.00311455 0.05320424 0.00802666]\n",
      " [0.09206682 0.01210156 0.05599934 0.00311455 0.05320424 0.00802666]\n",
      " [0.09206682 0.01210156 0.05599934 0.00311455 0.05320424 0.00802666]]\n"
     ]
    }
   ],
   "source": [
    "y_pred = model.predict(x_test, batch_size=1024, verbose=1)\n",
    "print(y_pred)"
   ]
  },
  {
   "cell_type": "code",
   "execution_count": 17,
   "metadata": {
    "colab": {
     "base_uri": "https://localhost:8080/",
     "height": 445
    },
    "id": "LJx6AlaOk_0-",
    "outputId": "9acb74de-cec8-4b78-daef-6487bcd549b0"
   },
   "outputs": [
    {
     "data": {
      "text/plain": [
       "<matplotlib.axes._subplots.AxesSubplot at 0x7f58ee7aefd0>"
      ]
     },
     "execution_count": 17,
     "metadata": {},
     "output_type": "execute_result"
    },
    {
     "data": {
      "image/png": "[encoded data removed]",
      "text/plain": [
       "<Figure size 720x504 with 1 Axes>"
      ]
     },
     "metadata": {
      "needs_background": "light"
     },
     "output_type": "display_data"
    }
   ],
   "source": [
    "pd.DataFrame(model1.history).plot(figsize=(10, 7))"
   ]
  },
  {
   "cell_type": "code",
   "execution_count": 18,
   "metadata": {
    "colab": {
     "base_uri": "https://localhost:8080/",
     "height": 540
    },
    "id": "WmoB2AbYlHy-",
    "outputId": "fa35e382-48b9-47c4-864e-fbe109c78044"
   },
   "outputs": [
    {
     "data": {
      "image/png": "[encoded data removed]",
      "text/plain": [
       "<Figure size 432x288 with 1 Axes>"
      ]
     },
     "metadata": {
      "needs_background": "light"
     },
     "output_type": "display_data"
    },
    {
     "data": {
      "image/png": "[encoded data removed]",
      "text/plain": [
       "<Figure size 432x288 with 1 Axes>"
      ]
     },
     "metadata": {
      "needs_background": "light"
     },
     "output_type": "display_data"
    }
   ],
   "source": [
    "plot_loss_curves(model1)"
   ]
  },
  {
   "cell_type": "code",
   "execution_count": 19,
   "metadata": {
    "id": "Rj455bKrlLJN"
   },
   "outputs": [],
   "source": [
    "y_pred1 = []\n",
    "for i in  range(len(y_pred)):\n",
    " seq_prediction = list(map(lambda x: 0 if x<0.5 else 1, y_pred[i]))\n",
    " y_pred1.append(seq_prediction)\n",
    "#print(seq_predictions[0])\n",
    "\n",
    "#Convert y_test vector from [0 0 0 0 0 0] to [0,0,0,0,0,0] as y_test1\n",
    "y_test1= []\n",
    "for i in  range(len(y_test)):\n",
    " seq_prediction = list(map(lambda x: 0 if x<0.5 else 1, y_test[i]))\n",
    " y_test1.append(seq_prediction)\n",
    "#print(y_test1)\n",
    "\n"
   ]
  },
  {
   "cell_type": "code",
   "execution_count": 20,
   "metadata": {
    "id": "iCg6PXhnBUY9"
   },
   "outputs": [],
   "source": [
    "y_test1 = np.array(y_test1)\n",
    "y_pred1=np.array(y_pred1)"
   ]
  },
  {
   "cell_type": "code",
   "execution_count": 21,
   "metadata": {
    "colab": {
     "base_uri": "https://localhost:8080/"
    },
    "id": "1m4NnoE8rgKW",
    "outputId": "e107e11b-e05d-4d6d-fea8-bfb30669b141"
   },
   "outputs": [
    {
     "name": "stdout",
     "output_type": "stream",
     "text": [
      "Accuracy: 0.0\n",
      "Hamming Loss: 0.03657050545563424\n",
      "Precision: 0.0\n",
      "Recall: 0.0\n",
      "F1Measure: 0.0\n",
      "Exact Match Ratio: 0.8978086941989931\n",
      "0/1 loss ratio: 0.10219130580100687\n"
     ]
    }
   ],
   "source": [
    "def Accuracy(y_true, y_pred):\n",
    "    temp = 0\n",
    "    for i in range(y_true.shape[0]):\n",
    "        if  (sum(np.logical_or(y_true[i], y_pred[i]))==0):\n",
    "             continue\n",
    "        temp += sum(np.logical_and(y_true[i], y_pred[i])) / sum(np.logical_or(y_true[i], y_pred[i]))\n",
    "    return temp / y_true.shape[0]\n",
    "    \n",
    "def Hamming_Loss(y_true, y_pred):\n",
    "    temp=0\n",
    "    for i in range(y_true.shape[0]):\n",
    "        temp += np.size(y_true[i] == y_pred[i]) - np.count_nonzero(y_true[i] == y_pred[i])\n",
    "    return temp/(y_true.shape[0] * y_true.shape[1])\n",
    "\n",
    "def Precision(y_true, y_pred):\n",
    "      temp = 0\n",
    "      for i in range(y_true.shape[0]):\n",
    "          if sum(y_true[i]) == 0:\n",
    "              continue\n",
    "          temp+= sum(np.logical_and(y_true[i], y_pred[i]))/ sum(y_true[i])\n",
    "      return temp/ y_true.shape[0]\n",
    "                                \n",
    "def Recall(y_true, y_pred):\n",
    "      temp = 0\n",
    "      for i in range(y_true.shape[0]):\n",
    "          if sum(y_pred[i]) == 0:\n",
    "              continue\n",
    "          temp+= sum(np.logical_and(y_true[i], y_pred[i]))/ sum(y_pred[i])\n",
    "      return temp/ y_true.shape[0]\n",
    "                                \n",
    "def F1Measure(y_true, y_pred):\n",
    "    temp = 0\n",
    "    for i in range(y_true.shape[0]):\n",
    "        if (sum(y_true[i]) == 0) and (sum(y_pred[i]) == 0):\n",
    "            continue\n",
    "        temp+= (2*sum(np.logical_and(y_true[i], y_pred[i])))/ (sum(y_true[i])+sum(y_pred[i]))\n",
    "    return temp/ y_true.shape[0]       \n",
    "\n",
    "\n",
    "print(\"Accuracy:\", Accuracy(y_test1, y_pred1))                        \n",
    "print(\"Hamming Loss:\", Hamming_Loss(y_test1, y_pred1))   \n",
    "print(\"Precision:\", Precision(y_test1, y_pred1))      \n",
    "print(\"Recall:\", Recall(y_test1, y_pred1))   \n",
    "print(\"F1Measure:\",F1Measure(y_test1, y_pred1))  \n",
    "print(\"Exact Match Ratio:\", np.all(y_pred1 == y_test1, axis=1).mean())\n",
    "print(\"0/1 loss ratio:\",np.any(y_test1 != y_pred1, axis=1).mean())"
   ]
  },
  {
   "cell_type": "code",
   "execution_count": 22,
   "metadata": {
    "colab": {
     "base_uri": "https://localhost:8080/"
    },
    "id": "8WJyShTVCElc",
    "outputId": "22abc054-4bfa-44ba-fd62-a2e94ffffc8f"
   },
   "outputs": [
    {
     "name": "stdout",
     "output_type": "stream",
     "text": [
      "Exact Match Ratio: 0.8978086941989931\n",
      "Zero one loss: 0.10219130580100688\n",
      "Hamming loss: 0.03657050545563424\n"
     ]
    }
   ],
   "source": [
    "import sklearn.metrics\n",
    "print('Exact Match Ratio: {0}'.format(sklearn.metrics.accuracy_score(y_test1, y_pred1, normalize=True, sample_weight=None)))\n",
    "print('Zero one loss: {0}'.format(sklearn.metrics.zero_one_loss(y_true=y_test1, y_pred=y_pred1))) \n",
    "print('Hamming loss: {0}'.format(sklearn.metrics.hamming_loss(y_test1, y_pred1)))"
   ]
  },
  {
   "cell_type": "code",
   "execution_count": 23,
   "metadata": {
    "colab": {
     "base_uri": "https://localhost:8080/"
    },
    "id": "PZ9z0n1NmJRQ",
    "outputId": "06b4ec6d-6ab8-4be5-9854-adc54058e086"
   },
   "outputs": [
    {
     "name": "stdout",
     "output_type": "stream",
     "text": [
      "Jaccard Score: 0.0\n",
      "Recall: 0.0\n",
      "Precision: 0.0\n",
      "F1 Measure: 0.0\n"
     ]
    },
    {
     "name": "stderr",
     "output_type": "stream",
     "text": [
      "/usr/local/lib/python3.7/dist-packages/sklearn/metrics/_classification.py:1308: UndefinedMetricWarning: Jaccard is ill-defined and being set to 0.0 in samples with no true or predicted labels. Use `zero_division` parameter to control this behavior.\n",
      "  _warn_prf(average, modifier, msg_start, len(result))\n",
      "/usr/local/lib/python3.7/dist-packages/sklearn/metrics/_classification.py:1308: UndefinedMetricWarning: Precision is ill-defined and being set to 0.0 in samples with no predicted labels. Use `zero_division` parameter to control this behavior.\n",
      "  _warn_prf(average, modifier, msg_start, len(result))\n",
      "/usr/local/lib/python3.7/dist-packages/sklearn/metrics/_classification.py:1308: UndefinedMetricWarning: Recall is ill-defined and being set to 0.0 in samples with no true labels. Use `zero_division` parameter to control this behavior.\n",
      "  _warn_prf(average, modifier, msg_start, len(result))\n",
      "/usr/local/lib/python3.7/dist-packages/sklearn/metrics/_classification.py:1570: UndefinedMetricWarning: F-score is ill-defined and being set to 0.0 in samples with no true nor predicted labels. Use `zero_division` parameter to control this behavior.\n",
      "  _warn_prf(average, \"true nor predicted\", \"F-score is\", len(true_sum))\n"
     ]
    }
   ],
   "source": [
    "#samples\n",
    "print('Jaccard Score: {0}'.format(sklearn.metrics.jaccard_score(y_true=y_test1, y_pred=y_pred1,average='samples')))\n",
    "print('Recall: {0}'.format(sklearn.metrics.precision_score(y_true=y_test1, y_pred=y_pred1, average='samples'))) \n",
    "print('Precision: {0}'.format(sklearn.metrics.recall_score(y_true=y_test1, y_pred=y_pred1, average='samples')))\n",
    "print('F1 Measure: {0}'.format(sklearn.metrics.f1_score(y_true=y_test1, y_pred=y_pred1, average='samples'))) \n",
    "\n"
   ]
  },
  {
   "cell_type": "code",
   "execution_count": 24,
   "metadata": {
    "colab": {
     "base_uri": "https://localhost:8080/"
    },
    "id": "ZrgONr7OmU1-",
    "outputId": "b5cff8d0-b937-45d6-bff5-560a2d9aba32"
   },
   "outputs": [
    {
     "name": "stdout",
     "output_type": "stream",
     "text": [
      "Jaccard Score: 0.0\n",
      "Recall: 0.0\n",
      "Precision: 0.0\n",
      "F1 Measure: 0.0\n"
     ]
    }
   ],
   "source": [
    "#micro\n",
    "print('Jaccard Score: {0}'.format(sklearn.metrics.jaccard_score(y_true=y_test1, y_pred=y_pred1,average='micro')))\n",
    "print('Recall: {0}'.format(sklearn.metrics.precision_score(y_true=y_test1, y_pred=y_pred1, average='micro'))) \n",
    "print('Precision: {0}'.format(sklearn.metrics.recall_score(y_true=y_test1, y_pred=y_pred1, average='micro')))\n",
    "print('F1 Measure: {0}'.format(sklearn.metrics.f1_score(y_true=y_test1, y_pred=y_pred1, average='micro'))) \n"
   ]
  },
  {
   "cell_type": "code",
   "execution_count": 25,
   "metadata": {
    "colab": {
     "base_uri": "https://localhost:8080/"
    },
    "id": "K5R_u5H7p9Kd",
    "outputId": "6ed3b76a-9ff1-4ae1-c106-ad7542d73f31"
   },
   "outputs": [
    {
     "name": "stdout",
     "output_type": "stream",
     "text": [
      "Jaccard Score: 0.0\n",
      "Recall: 0.0\n",
      "Precision: 0.0\n",
      "F1 Measure: 0.0\n"
     ]
    },
    {
     "name": "stderr",
     "output_type": "stream",
     "text": [
      "/usr/local/lib/python3.7/dist-packages/sklearn/metrics/_classification.py:1308: UndefinedMetricWarning: Precision is ill-defined and being set to 0.0 in labels with no predicted samples. Use `zero_division` parameter to control this behavior.\n",
      "  _warn_prf(average, modifier, msg_start, len(result))\n"
     ]
    }
   ],
   "source": [
    "#macro\n",
    "print('Jaccard Score: {0}'.format(sklearn.metrics.jaccard_score(y_true=y_test1, y_pred=y_pred1,average='macro')))\n",
    "print('Recall: {0}'.format(sklearn.metrics.precision_score(y_true=y_test1, y_pred=y_pred1, average='macro'))) \n",
    "print('Precision: {0}'.format(sklearn.metrics.recall_score(y_true=y_test1, y_pred=y_pred1, average='macro')))\n",
    "print('F1 Measure: {0}'.format(sklearn.metrics.f1_score(y_true=y_test1, y_pred=y_pred1, average='macro'))) \n"
   ]
  },
  {
   "cell_type": "code",
   "execution_count": 26,
   "metadata": {
    "colab": {
     "base_uri": "https://localhost:8080/"
    },
    "id": "xYLfGcacCpRA",
    "outputId": "b8f724c5-821a-4e70-9d1c-b6411c3150d3"
   },
   "outputs": [
    {
     "name": "stdout",
     "output_type": "stream",
     "text": [
      "Jaccard Score: 0.0\n"
     ]
    },
    {
     "name": "stderr",
     "output_type": "stream",
     "text": [
      "/usr/local/lib/python3.7/dist-packages/sklearn/metrics/_classification.py:1308: UndefinedMetricWarning: Precision is ill-defined and being set to 0.0 in labels with no predicted samples. Use `zero_division` parameter to control this behavior.\n",
      "  _warn_prf(average, modifier, msg_start, len(result))\n"
     ]
    },
    {
     "name": "stdout",
     "output_type": "stream",
     "text": [
      "Recall: 0.0\n",
      "Precision: 0.0\n",
      "F1 Measure: 0.0\n"
     ]
    }
   ],
   "source": [
    "#weighted\n",
    "print('Jaccard Score: {0}'.format(sklearn.metrics.jaccard_score(y_true=y_test1, y_pred=y_pred1,average='weighted')))\n",
    "print('Recall: {0}'.format(sklearn.metrics.precision_score(y_true=y_test1, y_pred=y_pred1, average='weighted'))) \n",
    "print('Precision: {0}'.format(sklearn.metrics.recall_score(y_true=y_test1, y_pred=y_pred1, average='weighted')))\n",
    "print('F1 Measure: {0}'.format(sklearn.metrics.f1_score(y_true=y_test1, y_pred=y_pred1, average='weighted'))) \n"
   ]
  },
  {
   "cell_type": "code",
   "execution_count": 27,
   "metadata": {
    "colab": {
     "base_uri": "https://localhost:8080/"
    },
    "id": "UFGH6RTUuWzf",
    "outputId": "cd95c717-c454-4290-f85a-f0ba40c547f6"
   },
   "outputs": [
    {
     "name": "stdout",
     "output_type": "stream",
     "text": [
      "              precision    recall  f1-score   support\n",
      "\n",
      "           0       0.00      0.00      0.00      4587\n",
      "           1       0.00      0.00      0.00       447\n",
      "           2       0.00      0.00      0.00      2577\n",
      "           3       0.00      0.00      0.00       132\n",
      "           4       0.00      0.00      0.00      2343\n",
      "           5       0.00      0.00      0.00       410\n",
      "\n",
      "   micro avg       0.00      0.00      0.00     10496\n",
      "   macro avg       0.00      0.00      0.00     10496\n",
      "weighted avg       0.00      0.00      0.00     10496\n",
      " samples avg       0.00      0.00      0.00     10496\n",
      "\n"
     ]
    },
    {
     "name": "stderr",
     "output_type": "stream",
     "text": [
      "/usr/local/lib/python3.7/dist-packages/sklearn/metrics/_classification.py:1308: UndefinedMetricWarning: Precision and F-score are ill-defined and being set to 0.0 in labels with no predicted samples. Use `zero_division` parameter to control this behavior.\n",
      "  _warn_prf(average, modifier, msg_start, len(result))\n",
      "/usr/local/lib/python3.7/dist-packages/sklearn/metrics/_classification.py:1308: UndefinedMetricWarning: Precision and F-score are ill-defined and being set to 0.0 in samples with no predicted labels. Use `zero_division` parameter to control this behavior.\n",
      "  _warn_prf(average, modifier, msg_start, len(result))\n",
      "/usr/local/lib/python3.7/dist-packages/sklearn/metrics/_classification.py:1308: UndefinedMetricWarning: Recall and F-score are ill-defined and being set to 0.0 in samples with no true labels. Use `zero_division` parameter to control this behavior.\n",
      "  _warn_prf(average, modifier, msg_start, len(result))\n"
     ]
    }
   ],
   "source": [
    "print(sklearn.metrics.classification_report(y_test1, y_pred1))"
   ]
  },
  {
   "cell_type": "code",
   "execution_count": 28,
   "metadata": {
    "colab": {
     "base_uri": "https://localhost:8080/"
    },
    "id": "_SI8pbYUAmak",
    "outputId": "1594bfd7-50ba-4265-81ea-d2c99038696a"
   },
   "outputs": [
    {
     "data": {
      "text/plain": [
       "array([[[43278,     6],\n",
       "        [ 4587,     0]],\n",
       "\n",
       "       [[47423,     1],\n",
       "        [  447,     0]],\n",
       "\n",
       "       [[45294,     0],\n",
       "        [ 2577,     0]],\n",
       "\n",
       "       [[47739,     0],\n",
       "        [  132,     0]],\n",
       "\n",
       "       [[45527,     1],\n",
       "        [ 2343,     0]],\n",
       "\n",
       "       [[47461,     0],\n",
       "        [  410,     0]]])"
      ]
     },
     "execution_count": 28,
     "metadata": {},
     "output_type": "execute_result"
    }
   ],
   "source": [
    "from sklearn.metrics import multilabel_confusion_matrix\n",
    "multilabel_confusion_matrix(y_test1, y_pred1)"
   ]
  },
  {
   "cell_type": "code",
   "execution_count": 29,
   "metadata": {
    "id": "vdLmi8Gmpk5j"
   },
   "outputs": [],
   "source": [
    "from sklearn.metrics import ConfusionMatrixDisplay\n",
    "from sklearn.metrics import confusion_matrix\n",
    "import matplotlib.pyplot as plt\n",
    "import numpy as np\n",
    "cm = multilabel_confusion_matrix(y_test1, y_pred1)\n",
    "list_classes = [\"toxic\", \"severe_toxic\", \"obscene\", \"threat\", \"insult\", \"identity_hate\"]\n"
   ]
  },
  {
   "cell_type": "code",
   "execution_count": 30,
   "metadata": {
    "colab": {
     "base_uri": "https://localhost:8080/",
     "height": 279
    },
    "id": "-k82-KvFE9xh",
    "outputId": "45c5dab8-8e62-48ea-f70b-1f9693913544"
   },
   "outputs": [
    {
     "data": {
      "image/png": "[encoded data removed]",
      "text/plain": [
       "<Figure size 432x288 with 2 Axes>"
      ]
     },
     "metadata": {
      "needs_background": "light"
     },
     "output_type": "display_data"
    }
   ],
   "source": [
    "disp = ConfusionMatrixDisplay(confusion_matrix=cm[0], display_labels=list_classes[0])\n",
    "disp.plot(cmap=plt.cm.Blues)\n",
    "plt.show()"
   ]
  },
  {
   "cell_type": "code",
   "execution_count": 31,
   "metadata": {
    "colab": {
     "base_uri": "https://localhost:8080/",
     "height": 279
    },
    "id": "I6Ic0zJOFB1F",
    "outputId": "6fa41309-a71b-42f9-d6d7-0f178afe3bc9"
   },
   "outputs": [
    {
     "data": {
      "image/png": "[encoded data removed]",
      "text/plain": [
       "<Figure size 432x288 with 2 Axes>"
      ]
     },
     "metadata": {
      "needs_background": "light"
     },
     "output_type": "display_data"
    }
   ],
   "source": [
    "disp = ConfusionMatrixDisplay(confusion_matrix=cm[1], display_labels=list_classes[1])\n",
    "disp.plot(cmap=plt.cm.Blues)\n",
    "plt.show()"
   ]
  },
  {
   "cell_type": "code",
   "execution_count": 32,
   "metadata": {
    "colab": {
     "base_uri": "https://localhost:8080/",
     "height": 279
    },
    "id": "Y2t6jCzmFD4c",
    "outputId": "17a4824e-3c04-4f3b-c77b-a8feb401a3c2"
   },
   "outputs": [
    {
     "data": {
      "image/png": "[encoded data removed]",
      "text/plain": [
       "<Figure size 432x288 with 2 Axes>"
      ]
     },
     "metadata": {
      "needs_background": "light"
     },
     "output_type": "display_data"
    }
   ],
   "source": [
    "disp = ConfusionMatrixDisplay(confusion_matrix=cm[2], display_labels=list_classes[2])\n",
    "\n",
    "disp.plot(cmap=plt.cm.Blues)\n",
    "plt.show()"
   ]
  },
  {
   "cell_type": "code",
   "execution_count": 33,
   "metadata": {
    "colab": {
     "base_uri": "https://localhost:8080/",
     "height": 279
    },
    "id": "LYaJiEyEFFnm",
    "outputId": "ea4f5cfd-8ba8-4a4c-aa14-0e9076bbd382"
   },
   "outputs": [
    {
     "data": {
      "image/png": "[encoded data removed]",
      "text/plain": [
       "<Figure size 432x288 with 2 Axes>"
      ]
     },
     "metadata": {
      "needs_background": "light"
     },
     "output_type": "display_data"
    }
   ],
   "source": [
    "disp = ConfusionMatrixDisplay(confusion_matrix=cm[3], display_labels=list_classes[3])\n",
    "disp.plot(cmap=plt.cm.Blues)\n",
    "plt.show()"
   ]
  },
  {
   "cell_type": "code",
   "execution_count": 34,
   "metadata": {
    "colab": {
     "base_uri": "https://localhost:8080/",
     "height": 279
    },
    "id": "TS1eLDjFFH1_",
    "outputId": "9a2639c5-fc9a-4333-994b-79bacbc4b282"
   },
   "outputs": [
    {
     "data": {
      "image/png": "[encoded data removed]",
      "text/plain": [
       "<Figure size 432x288 with 2 Axes>"
      ]
     },
     "metadata": {
      "needs_background": "light"
     },
     "output_type": "display_data"
    }
   ],
   "source": [
    "disp = ConfusionMatrixDisplay(confusion_matrix=cm[4], display_labels=list_classes[4])\n",
    "\n",
    "disp.plot(cmap=plt.cm.Blues)\n",
    "plt.show()"
   ]
  },
  {
   "cell_type": "code",
   "execution_count": 35,
   "metadata": {
    "colab": {
     "base_uri": "https://localhost:8080/",
     "height": 279
    },
    "id": "mtNXiCD2FJ99",
    "outputId": "ea97f70a-7a01-495c-afc9-bec99cdff84b"
   },
   "outputs": [
    {
     "data": {
      "image/png": "[encoded data removed]",
      "text/plain": [
       "<Figure size 432x288 with 2 Axes>"
      ]
     },
     "metadata": {
      "needs_background": "light"
     },
     "output_type": "display_data"
    }
   ],
   "source": [
    "disp = ConfusionMatrixDisplay(confusion_matrix=cm[5], display_labels=list_classes[5])\n",
    "\n",
    "disp.plot(cmap=plt.cm.Blues)\n",
    "plt.show()"
   ]
  }
 ],
 "metadata": {
  "colab": {
   "collapsed_sections": [],
   "name": "model12_MLP.ipynb",
   "provenance": []
  },
  "kernelspec": {
   "display_name": "Python 3",
   "language": "python",
   "name": "python3"
  },
  "language_info": {
   "codemirror_mode": {
    "name": "ipython",
    "version": 3
   },
   "file_extension": ".py",
   "mimetype": "text/x-python",
   "name": "python",
   "nbconvert_exporter": "python",
   "pygments_lexer": "ipython3",
   "version": "3.8.8"
  }
 },
 "nbformat": 4,
 "nbformat_minor": 1
}
