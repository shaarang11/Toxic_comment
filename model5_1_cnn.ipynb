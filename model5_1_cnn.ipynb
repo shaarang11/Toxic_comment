{
 "cells": [
  {
   "cell_type": "code",
   "execution_count": 15,
   "metadata": {
    "id": "K_ewI0NafpIF"
   },
   "outputs": [],
   "source": [
    "import pandas as pd\n",
    "import tensorflow as tf\n",
    "from tensorflow.keras.callbacks import EarlyStopping, ModelCheckpoint\n",
    "from tensorflow.keras.layers import Dense, Embedding, Input\n",
    "from tensorflow.keras.layers import LSTM, Bidirectional, GlobalMaxPool1D, Dropout, GlobalAveragePooling1D,Flatten, GlobalAveragePooling2D,GlobalMaxPool3D\n",
    "from tensorflow.keras.models import Model, Sequential\n",
    "from tensorflow.keras.preprocessing import text, sequence\n",
    "import matplotlib.pyplot as plt\n",
    "from tensorflow.keras  import layers\n",
    "import numpy as np"
   ]
  },
  {
   "cell_type": "code",
   "execution_count": 16,
   "metadata": {
    "id": "gHseb3OhgWrK"
   },
   "outputs": [],
   "source": [
    "from sklearn.metrics import accuracy_score\n",
    "from sklearn.metrics import precision_score\n",
    "from sklearn.metrics import recall_score\n",
    "from sklearn.metrics import f1_score\n",
    "from sklearn.metrics import cohen_kappa_score\n",
    "from sklearn.metrics import roc_auc_score\n",
    "from sklearn.metrics import confusion_matrix"
   ]
  },
  {
   "cell_type": "code",
   "execution_count": 17,
   "metadata": {
    "id": "jwix70_FI1PF"
   },
   "outputs": [],
   "source": [
    "path  =  \"/content/drive/MyDrive/new1/data/train.csv/train.csv\"\n",
    "train =  pd.read_csv(path)\n",
    "train = data.sample(frac=1)"
   ]
  },
  {
   "cell_type": "code",
   "execution_count": 18,
   "metadata": {
    "colab": {
     "base_uri": "https://localhost:8080/"
    },
    "id": "4TOmU8xCI6Oa",
    "outputId": "897a523f-6ffc-4adb-bd33-5c613d28922b"
   },
   "outputs": [
    {
     "data": {
      "text/plain": [
       "<bound method NDFrame.describe of                       id  ... identity_hate\n",
       "2029    0583be1568566122  ...             0\n",
       "101121  1d40cf206baae3c9  ...             0\n",
       "68494   b73ab3dde4725c5e  ...             0\n",
       "122920  9196df2930f773de  ...             0\n",
       "18856   31bdb06b082bb022  ...             0\n",
       "...                  ...  ...           ...\n",
       "154625  b0c3a2a7f4643f64  ...             0\n",
       "48219   80e5a4a8fdf66e23  ...             0\n",
       "73193   c3d31809128dfacb  ...             0\n",
       "78894   d3239062ab22d4e2  ...             0\n",
       "43657   74876b8611575101  ...             0\n",
       "\n",
       "[159571 rows x 8 columns]>"
      ]
     },
     "execution_count": 18,
     "metadata": {},
     "output_type": "execute_result"
    }
   ],
   "source": [
    "data.describe"
   ]
  },
  {
   "cell_type": "code",
   "execution_count": 19,
   "metadata": {
    "colab": {
     "base_uri": "https://localhost:8080/",
     "height": 264
    },
    "id": "fzTPV8CAKtXy",
    "outputId": "0953fbaf-ab44-4f3f-d6cd-2543d9214242"
   },
   "outputs": [
    {
     "data": {
      "image/png": "[encoded data removed]",
      "text/plain": [
       "<Figure size 432x288 with 1 Axes>"
      ]
     },
     "metadata": {
      "needs_background": "light"
     },
     "output_type": "display_data"
    }
   ],
   "source": [
    "list_classes = [\"toxic\", \"severe_toxic\", \"obscene\", \"threat\", \"insult\", \"identity_hate\"]\n",
    "\n",
    "toxic =  sum(train[\"toxic\"])\n",
    "severe_toxic = sum(train[\"severe_toxic\"])\n",
    "obscene = sum(train[\"obscene\"])\n",
    "threat = sum(train[\"threat\"])\n",
    "insult =  sum(train[\"insult\"])\n",
    "identity_hate = sum(train[\"identity_hate\"])\n",
    "\n",
    "\n",
    "list_value = [toxic, severe_toxic, obscene, threat, insult, identity_hate]\n",
    "\n",
    "\n",
    "plt.barh(list_classes, list_value)\n",
    "  \n",
    "for index, value in enumerate(list_value):\n",
    "    plt.text(value, index,str(value))\n",
    "  \n",
    "plt.show()\n"
   ]
  },
  {
   "cell_type": "code",
   "execution_count": 20,
   "metadata": {
    "id": "9wnALcDsgjtz"
   },
   "outputs": [],
   "source": [
    "max_features = 20000 # how many unique words to use (i.e num rows in embedding vector)\n",
    "maxlen = 100 # max number of words in a comment to use\n",
    "embedding_dim = 128  # how big is each word vector\n",
    "\n",
    "\n",
    "list_sentences_train = data[\"comment_text\"].fillna(\"CVxTz\").values\n",
    "list_classes = [\"toxic\", \"severe_toxic\", \"obscene\", \"threat\", \"insult\", \"identity_hate\"]\n",
    "y = data[list_classes].values\n",
    "\n",
    "tokenizer = text.Tokenizer(num_words=max_features)\n",
    "tokenizer.fit_on_texts(list(list_sentences_train))\n",
    "list_tokenized_train = tokenizer.texts_to_sequences(list_sentences_train)\n",
    "\n",
    "X_t = sequence.pad_sequences(list_tokenized_train, maxlen=maxlen)\n",
    "x_train, x_test = X_t[:111700], X_t[111700:]\n",
    "y_train, y_test = y[:111700],  y[111700:]"
   ]
  },
  {
   "cell_type": "code",
   "execution_count": 21,
   "metadata": {
    "id": "KPSljt3ogkm2"
   },
   "outputs": [],
   "source": [
    "def plot_loss_curves(history):\n",
    "  loss = history.history['loss']\n",
    "  val_loss = history.history['val_loss']\n",
    "  accuracy = history.history['accuracy']\n",
    "  val_accuracy = history.history['val_accuracy']\n",
    "  epochs = range(len(history.history['loss']))\n",
    "  plt.plot(epochs, loss, label='training_loss')\n",
    "  plt.plot(epochs, val_loss, label='val_loss')\n",
    "  plt.ylabel('Loss')\n",
    "  plt.xlabel('Epochs')\n",
    "  plt.legend()\n",
    "  plt.figure()\n",
    "  plt.plot(epochs, accuracy, label='training_accuracy')\n",
    "  plt.plot(epochs, val_accuracy, label='val_accuracy')\n",
    "  plt.ylabel('Accuracy')\n",
    "  plt.xlabel('Epochs')\n",
    "  plt.legend()"
   ]
  },
  {
   "cell_type": "code",
   "execution_count": 22,
   "metadata": {
    "id": "Togx1grng2CV"
   },
   "outputs": [],
   "source": [
    "#update this for each  model\n",
    "file_path = \"../models/weights_base.best.hdf5\"\n",
    "checkpoint = ModelCheckpoint(file_path, verbose=1, save_best_only=True, mode=\"min\")\n",
    "early = EarlyStopping(mode=\"min\", patience=20)\n",
    "callbacks_list = [checkpoint, early]  # early\n",
    "\n",
    "batch_size = 64\n",
    "epochs = 5\n"
   ]
  },
  {
   "cell_type": "code",
   "execution_count": 23,
   "metadata": {
    "colab": {
     "base_uri": "https://localhost:8080/"
    },
    "id": "_FRPJGwtmUgG",
    "outputId": "2e1ab196-ff7e-4fb3-98f9-e3bcfaba4a24"
   },
   "outputs": [
    {
     "name": "stdout",
     "output_type": "stream",
     "text": [
      "210338\n"
     ]
    }
   ],
   "source": [
    "vocab_size = len(tokenizer.word_index) + 1\n",
    "print(vocab_size)"
   ]
  },
  {
   "cell_type": "code",
   "execution_count": 24,
   "metadata": {
    "id": "rb-V9ddjgzRT"
   },
   "outputs": [],
   "source": [
    "#subbstitute for other models\n",
    "filters = 250\n",
    "kernel_size =  5\n",
    "model = Sequential()\n",
    "model.add(layers.Embedding(vocab_size, embedding_dim, input_length=maxlen))\n",
    "model.add(layers.Dropout(0.1))\n",
    "model.add(layers.Conv1D(filters, kernel_size,padding='valid', activation='relu', strides=1))\n",
    "model.add(layers.GlobalMaxPooling1D())\n",
    "model.add(Dense(100, activation = 'relu'))\n",
    "model.add(layers.Dropout(0.1))\n",
    "model.add(layers.Dense(6, activation='sigmoid'))"
   ]
  },
  {
   "cell_type": "code",
   "execution_count": 25,
   "metadata": {
    "colab": {
     "base_uri": "https://localhost:8080/"
    },
    "id": "ezgCVKJqg8uD",
    "outputId": "fb98fe4b-bf58-49ae-cc80-b087c4cfad01"
   },
   "outputs": [
    {
     "name": "stdout",
     "output_type": "stream",
     "text": [
      "Model: \"sequential\"\n",
      "_________________________________________________________________\n",
      " Layer (type)                Output Shape              Param #   \n",
      "=================================================================\n",
      " embedding (Embedding)       (None, 100, 128)          26923264  \n",
      "                                                                 \n",
      " dropout (Dropout)           (None, 100, 128)          0         \n",
      "                                                                 \n",
      " conv1d (Conv1D)             (None, 96, 250)           160250    \n",
      "                                                                 \n",
      " global_max_pooling1d (Globa  (None, 250)              0         \n",
      " lMaxPooling1D)                                                  \n",
      "                                                                 \n",
      " dense (Dense)               (None, 100)               25100     \n",
      "                                                                 \n",
      " dropout_1 (Dropout)         (None, 100)               0         \n",
      "                                                                 \n",
      " dense_1 (Dense)             (None, 6)                 606       \n",
      "                                                                 \n",
      "=================================================================\n",
      "Total params: 27,109,220\n",
      "Trainable params: 27,109,220\n",
      "Non-trainable params: 0\n",
      "_________________________________________________________________\n"
     ]
    }
   ],
   "source": [
    "model.compile(optimizer='adam',loss='binary_crossentropy', metrics=['accuracy'])\n",
    "model.summary()"
   ]
  },
  {
   "cell_type": "code",
   "execution_count": 26,
   "metadata": {
    "colab": {
     "base_uri": "https://localhost:8080/"
    },
    "id": "0xcWYK4ThDIh",
    "outputId": "28bf915a-109e-4989-e8b7-14bfa262e91b"
   },
   "outputs": [
    {
     "name": "stdout",
     "output_type": "stream",
     "text": [
      "Epoch 1/5\n",
      "1222/1222 [==============================] - ETA: 0s - loss: 0.0726 - accuracy: 0.9198\n",
      "Epoch 00001: val_loss improved from inf to 0.05171, saving model to ../models/weights_base.best.hdf5\n",
      "1222/1222 [==============================] - 520s 425ms/step - loss: 0.0726 - accuracy: 0.9198 - val_loss: 0.0517 - val_accuracy: 0.9941\n",
      "Epoch 2/5\n",
      "1222/1222 [==============================] - ETA: 0s - loss: 0.0453 - accuracy: 0.9572\n",
      "Epoch 00002: val_loss improved from 0.05171 to 0.05079, saving model to ../models/weights_base.best.hdf5\n",
      "1222/1222 [==============================] - 515s 421ms/step - loss: 0.0453 - accuracy: 0.9572 - val_loss: 0.0508 - val_accuracy: 0.9927\n",
      "Epoch 3/5\n",
      "1222/1222 [==============================] - ETA: 0s - loss: 0.0356 - accuracy: 0.8752\n",
      "Epoch 00003: val_loss did not improve from 0.05079\n",
      "1222/1222 [==============================] - 512s 419ms/step - loss: 0.0356 - accuracy: 0.8752 - val_loss: 0.0571 - val_accuracy: 0.9359\n",
      "Epoch 4/5\n",
      "1222/1222 [==============================] - ETA: 0s - loss: 0.0267 - accuracy: 0.7336\n",
      "Epoch 00004: val_loss did not improve from 0.05079\n",
      "1222/1222 [==============================] - 515s 421ms/step - loss: 0.0267 - accuracy: 0.7336 - val_loss: 0.0640 - val_accuracy: 0.4076\n",
      "Epoch 5/5\n",
      "1222/1222 [==============================] - ETA: 0s - loss: 0.0204 - accuracy: 0.6827\n",
      "Epoch 00005: val_loss did not improve from 0.05079\n",
      "1222/1222 [==============================] - 515s 422ms/step - loss: 0.0204 - accuracy: 0.6827 - val_loss: 0.0719 - val_accuracy: 0.8043\n"
     ]
    }
   ],
   "source": [
    "model1 = model.fit(x_train, y_train, batch_size=batch_size, epochs=epochs, validation_split=0.3, callbacks=callbacks_list)"
   ]
  },
  {
   "cell_type": "code",
   "execution_count": 27,
   "metadata": {
    "colab": {
     "base_uri": "https://localhost:8080/"
    },
    "id": "w4FdozgnhLxg",
    "outputId": "f4ea1f9b-a0b1-4830-b8e5-8939669136e2"
   },
   "outputs": [
    {
     "name": "stdout",
     "output_type": "stream",
     "text": [
      "748/748 [==============================] - 29s 39ms/step\n",
      "[[6.6989362e-03 9.5448760e-11 2.0560290e-06 6.0613843e-09 7.2436292e-06\n",
      "  2.7440394e-09]\n",
      " [6.7936658e-06 3.0356977e-11 1.2017967e-06 2.2763385e-09 1.3947368e-07\n",
      "  1.3401801e-09]\n",
      " [3.7187338e-04 6.8586992e-08 4.3118598e-06 4.8226798e-06 6.2163395e-05\n",
      "  3.0496716e-04]\n",
      " ...\n",
      " [5.6385147e-10 8.9891016e-18 1.0826715e-11 1.7602652e-14 3.0846440e-11\n",
      "  7.4120540e-14]\n",
      " [3.2646733e-06 1.2739792e-08 6.8426602e-06 4.1224234e-07 7.2812718e-06\n",
      "  1.5722277e-06]\n",
      " [3.2314628e-01 9.7815355e-06 1.5372813e-02 5.7978694e-05 1.8676221e-03\n",
      "  5.8855847e-05]]\n"
     ]
    }
   ],
   "source": [
    "y_pred = model.predict(x_test, batch_size=64, verbose=1)\n",
    "print(y_pred)"
   ]
  },
  {
   "cell_type": "code",
   "execution_count": 28,
   "metadata": {
    "colab": {
     "base_uri": "https://localhost:8080/"
    },
    "id": "Lnl6eU4OhZKB",
    "outputId": "29e4be0a-e037-4f9e-acb9-097eb13bc99b"
   },
   "outputs": [
    {
     "name": "stdout",
     "output_type": "stream",
     "text": [
      "loss: 0.07090464979410172\n",
      "accuracy: 0.8037434220314026\n"
     ]
    }
   ],
   "source": [
    "loss, accuracy = model.evaluate(x_test, y_test, verbose=0)\n",
    "print(\"loss:\", loss);\n",
    "print(\"accuracy:\", accuracy)"
   ]
  },
  {
   "cell_type": "code",
   "execution_count": 29,
   "metadata": {
    "colab": {
     "base_uri": "https://localhost:8080/",
     "height": 445
    },
    "id": "WekT6NU5hPBz",
    "outputId": "13194061-3a75-48ed-f66d-899180001b56"
   },
   "outputs": [
    {
     "data": {
      "text/plain": [
       "<matplotlib.axes._subplots.AxesSubplot at 0x7f3e7ceb4650>"
      ]
     },
     "execution_count": 29,
     "metadata": {},
     "output_type": "execute_result"
    },
    {
     "data": {
      "image/png": "[encoded data removed]",
      "text/plain": [
       "<Figure size 720x504 with 1 Axes>"
      ]
     },
     "metadata": {
      "needs_background": "light"
     },
     "output_type": "display_data"
    }
   ],
   "source": [
    "pd.DataFrame(model1.history).plot(figsize=(10, 7))"
   ]
  },
  {
   "cell_type": "code",
   "execution_count": 30,
   "metadata": {
    "colab": {
     "base_uri": "https://localhost:8080/",
     "height": 540
    },
    "id": "0bq9qj-yhWo3",
    "outputId": "83c5883c-5955-4fd5-d3dd-0bc576dfc173"
   },
   "outputs": [
    {
     "data": {
      "image/png": "[encoded data removed]",
      "text/plain": [
       "<Figure size 432x288 with 1 Axes>"
      ]
     },
     "metadata": {
      "needs_background": "light"
     },
     "output_type": "display_data"
    },
    {
     "data": {
      "image/png": "[encoded data removed]",
      "text/plain": [
       "<Figure size 432x288 with 1 Axes>"
      ]
     },
     "metadata": {
      "needs_background": "light"
     },
     "output_type": "display_data"
    }
   ],
   "source": [
    "plot_loss_curves(model1)"
   ]
  },
  {
   "cell_type": "code",
   "execution_count": 31,
   "metadata": {
    "id": "r7vQSoJZGFvR"
   },
   "outputs": [],
   "source": [
    "y_pred1 = []\n",
    "for i in  range(len(y_pred)):\n",
    " seq_prediction = list(map(lambda x: 0 if x<0.5 else 1, y_pred[i]))\n",
    " y_pred1.append(seq_prediction)\n",
    "#print(seq_predictions[0])\n",
    "\n",
    "#Convert y_test vector from [0 0 0 0 0 0] to [0,0,0,0,0,0] as y_test1\n",
    "y_test1= []\n",
    "for i in  range(len(y_test)):\n",
    " seq_prediction = list(map(lambda x: 0 if x<0.5 else 1, y_test[i]))\n",
    " y_test1.append(seq_prediction)\n",
    "#print(y_test1)"
   ]
  },
  {
   "cell_type": "code",
   "execution_count": 32,
   "metadata": {
    "id": "ZhpreZlaFeLe"
   },
   "outputs": [],
   "source": [
    "y_test1 = np.array(y_test1)\n",
    "y_pred1=np.array(y_pred1)"
   ]
  },
  {
   "cell_type": "code",
   "execution_count": 33,
   "metadata": {
    "colab": {
     "base_uri": "https://localhost:8080/"
    },
    "id": "FXeJdg-Bh_bC",
    "outputId": "85d4e328-c192-4ba3-de2d-708255dcb3ec"
   },
   "outputs": [
    {
     "name": "stdout",
     "output_type": "stream",
     "text": [
      "Accuracy: 0.05906115741611128\n",
      "Hamming Loss: 0.019890260631001373\n",
      "Precision: 0.06613189613753628\n",
      "Recall: 0.07049709984472137\n",
      "F1Measure: 0.0652146206542392\n",
      "Exact Match Ratio: 0.9103423784754862\n",
      "0/1 loss ratio: 0.0896576215245138\n"
     ]
    }
   ],
   "source": [
    "def Accuracy(y_true, y_pred):\n",
    "    temp = 0\n",
    "    for i in range(y_true.shape[0]):\n",
    "        if  (sum(np.logical_or(y_true[i], y_pred[i]))==0):\n",
    "             continue\n",
    "        temp += sum(np.logical_and(y_true[i], y_pred[i])) / sum(np.logical_or(y_true[i], y_pred[i]))\n",
    "    return temp / y_true.shape[0]\n",
    "    \n",
    "def Hamming_Loss(y_true, y_pred):\n",
    "    temp=0\n",
    "    for i in range(y_true.shape[0]):\n",
    "        temp += np.size(y_true[i] == y_pred[i]) - np.count_nonzero(y_true[i] == y_pred[i])\n",
    "    return temp/(y_true.shape[0] * y_true.shape[1])\n",
    "\n",
    "def Precision(y_true, y_pred):\n",
    "      temp = 0\n",
    "      for i in range(y_true.shape[0]):\n",
    "          if sum(y_true[i]) == 0:\n",
    "              continue\n",
    "          temp+= sum(np.logical_and(y_true[i], y_pred[i]))/ sum(y_true[i])\n",
    "      return temp/ y_true.shape[0]\n",
    "                                \n",
    "def Recall(y_true, y_pred):\n",
    "      temp = 0\n",
    "      for i in range(y_true.shape[0]):\n",
    "          if sum(y_pred[i]) == 0:\n",
    "              continue\n",
    "          temp+= sum(np.logical_and(y_true[i], y_pred[i]))/ sum(y_pred[i])\n",
    "      return temp/ y_true.shape[0]\n",
    "                                \n",
    "def F1Measure(y_true, y_pred):\n",
    "    temp = 0\n",
    "    for i in range(y_true.shape[0]):\n",
    "        if (sum(y_true[i]) == 0) and (sum(y_pred[i]) == 0):\n",
    "            continue\n",
    "        temp+= (2*sum(np.logical_and(y_true[i], y_pred[i])))/ (sum(y_true[i])+sum(y_pred[i]))\n",
    "    return temp/ y_true.shape[0]       \n",
    "\n",
    "\n",
    "print(\"Accuracy:\", Accuracy(y_test1, y_pred1))                        \n",
    "print(\"Hamming Loss:\", Hamming_Loss(y_test1, y_pred1))   \n",
    "print(\"Precision:\", Precision(y_test1, y_pred1))      \n",
    "print(\"Recall:\", Recall(y_test1, y_pred1))   \n",
    "print(\"F1Measure:\",F1Measure(y_test1, y_pred1))  \n",
    "print(\"Exact Match Ratio:\", np.all(y_pred1 == y_test1, axis=1).mean())\n",
    "print(\"0/1 loss ratio:\",np.any(y_test1 != y_pred1, axis=1).mean())"
   ]
  },
  {
   "cell_type": "code",
   "execution_count": 34,
   "metadata": {
    "colab": {
     "base_uri": "https://localhost:8080/"
    },
    "id": "fqbw2ZyUIUcT",
    "outputId": "a45a0169-75c5-4184-8fa8-1ff43d867200"
   },
   "outputs": [
    {
     "name": "stdout",
     "output_type": "stream",
     "text": [
      "Exact Match Ratio: 0.9103423784754862\n",
      "Zero one loss: 0.08965762152451384\n",
      "Hamming loss: 0.019890260631001373\n"
     ]
    }
   ],
   "source": [
    "import sklearn.metrics\n",
    "print('Exact Match Ratio: {0}'.format(sklearn.metrics.accuracy_score(y_test1, y_pred1, normalize=True, sample_weight=None)))\n",
    "print('Zero one loss: {0}'.format(sklearn.metrics.zero_one_loss(y_true=y_test1, y_pred=y_pred1))) \n",
    "print('Hamming loss: {0}'.format(sklearn.metrics.hamming_loss(y_test1, y_pred1)))"
   ]
  },
  {
   "cell_type": "code",
   "execution_count": 35,
   "metadata": {
    "colab": {
     "base_uri": "https://localhost:8080/"
    },
    "id": "C_aE2F4yGpay",
    "outputId": "44015d1f-1699-42aa-e18d-d96cf1679fdb"
   },
   "outputs": [
    {
     "name": "stdout",
     "output_type": "stream",
     "text": [
      "Jaccard Score: 0.05906115741611136\n",
      "Recall: 0.07049709984472158\n",
      "Precision: 0.0661318961375363\n",
      "F1 Measure: 0.06521462065423964\n"
     ]
    },
    {
     "name": "stderr",
     "output_type": "stream",
     "text": [
      "/usr/local/lib/python3.7/dist-packages/sklearn/metrics/_classification.py:1308: UndefinedMetricWarning: Jaccard is ill-defined and being set to 0.0 in samples with no true or predicted labels. Use `zero_division` parameter to control this behavior.\n",
      "  _warn_prf(average, modifier, msg_start, len(result))\n",
      "/usr/local/lib/python3.7/dist-packages/sklearn/metrics/_classification.py:1308: UndefinedMetricWarning: Precision is ill-defined and being set to 0.0 in samples with no predicted labels. Use `zero_division` parameter to control this behavior.\n",
      "  _warn_prf(average, modifier, msg_start, len(result))\n",
      "/usr/local/lib/python3.7/dist-packages/sklearn/metrics/_classification.py:1308: UndefinedMetricWarning: Recall is ill-defined and being set to 0.0 in samples with no true labels. Use `zero_division` parameter to control this behavior.\n",
      "  _warn_prf(average, modifier, msg_start, len(result))\n",
      "/usr/local/lib/python3.7/dist-packages/sklearn/metrics/_classification.py:1570: UndefinedMetricWarning: F-score is ill-defined and being set to 0.0 in samples with no true nor predicted labels. Use `zero_division` parameter to control this behavior.\n",
      "  _warn_prf(average, \"true nor predicted\", \"F-score is\", len(true_sum))\n"
     ]
    }
   ],
   "source": [
    "#samples\n",
    "print('Jaccard Score: {0}'.format(sklearn.metrics.jaccard_score(y_true=y_test1, y_pred=y_pred1,average='samples')))\n",
    "print('Recall: {0}'.format(sklearn.metrics.precision_score(y_true=y_test1, y_pred=y_pred1, average='samples'))) \n",
    "print('Precision: {0}'.format(sklearn.metrics.recall_score(y_true=y_test1, y_pred=y_pred1, average='samples')))\n",
    "print('F1 Measure: {0}'.format(sklearn.metrics.f1_score(y_true=y_test1, y_pred=y_pred1, average='samples')))"
   ]
  },
  {
   "cell_type": "code",
   "execution_count": 36,
   "metadata": {
    "colab": {
     "base_uri": "https://localhost:8080/"
    },
    "id": "YX4_xHryGqMH",
    "outputId": "f6297a78-fc1f-4289-adab-fd697e09a4cf"
   },
   "outputs": [
    {
     "name": "stdout",
     "output_type": "stream",
     "text": [
      "Jaccard Score: 0.564922702002894\n",
      "Recall: 0.75949626292618\n",
      "Precision: 0.6879985160452606\n",
      "F1 Measure: 0.7219816049442795\n"
     ]
    }
   ],
   "source": [
    "#micro\n",
    "print('Jaccard Score: {0}'.format(sklearn.metrics.jaccard_score(y_true=y_test1, y_pred=y_pred1,average='micro')))\n",
    "print('Recall: {0}'.format(sklearn.metrics.precision_score(y_true=y_test1, y_pred=y_pred1, average='micro'))) \n",
    "print('Precision: {0}'.format(sklearn.metrics.recall_score(y_true=y_test1, y_pred=y_pred1, average='micro')))\n",
    "print('F1 Measure: {0}'.format(sklearn.metrics.f1_score(y_true=y_test1, y_pred=y_pred1, average='micro')))"
   ]
  },
  {
   "cell_type": "code",
   "execution_count": 37,
   "metadata": {
    "colab": {
     "base_uri": "https://localhost:8080/"
    },
    "id": "ekeqxMiFGtLn",
    "outputId": "8101829e-ec9a-4196-f2e4-3bee2f775e8f"
   },
   "outputs": [
    {
     "name": "stdout",
     "output_type": "stream",
     "text": [
      "Jaccard Score: 0.4287014067081995\n",
      "Recall: 0.6741676011299416\n",
      "Precision: 0.5254384550800696\n",
      "F1 Measure: 0.5806350255337813\n"
     ]
    }
   ],
   "source": [
    "#macro\n",
    "print('Jaccard Score: {0}'.format(sklearn.metrics.jaccard_score(y_true=y_test1, y_pred=y_pred1,average='macro')))\n",
    "print('Recall: {0}'.format(sklearn.metrics.precision_score(y_true=y_test1, y_pred=y_pred1, average='macro'))) \n",
    "print('Precision: {0}'.format(sklearn.metrics.recall_score(y_true=y_test1, y_pred=y_pred1, average='macro')))\n",
    "print('F1 Measure: {0}'.format(sklearn.metrics.f1_score(y_true=y_test1, y_pred=y_pred1, average='macro'))) "
   ]
  },
  {
   "cell_type": "code",
   "execution_count": 38,
   "metadata": {
    "colab": {
     "base_uri": "https://localhost:8080/"
    },
    "id": "UDCpFpiyG0KV",
    "outputId": "89ff4b7b-a0f9-48d3-9f0e-4182cdda19e3"
   },
   "outputs": [
    {
     "name": "stdout",
     "output_type": "stream",
     "text": [
      "Jaccard Score: 0.5680262505124187\n",
      "Recall: 0.7588516444696863\n",
      "Precision: 0.6879985160452606\n",
      "F1 Measure: 0.7175506974308652\n"
     ]
    }
   ],
   "source": [
    "#weighted\n",
    "print('Jaccard Score: {0}'.format(sklearn.metrics.jaccard_score(y_true=y_test1, y_pred=y_pred1,average='weighted')))\n",
    "print('Recall: {0}'.format(sklearn.metrics.precision_score(y_true=y_test1, y_pred=y_pred1, average='weighted'))) \n",
    "print('Precision: {0}'.format(sklearn.metrics.recall_score(y_true=y_test1, y_pred=y_pred1, average='weighted')))\n",
    "print('F1 Measure: {0}'.format(sklearn.metrics.f1_score(y_true=y_test1, y_pred=y_pred1, average='weighted'))) "
   ]
  },
  {
   "cell_type": "code",
   "execution_count": 39,
   "metadata": {
    "colab": {
     "base_uri": "https://localhost:8080/"
    },
    "id": "DuO2yfYuG18K",
    "outputId": "ec518e3c-9048-4848-c478-3abf7e9bb9bc"
   },
   "outputs": [
    {
     "name": "stdout",
     "output_type": "stream",
     "text": [
      "              precision    recall  f1-score   support\n",
      "\n",
      "           0       0.75      0.79      0.77      4676\n",
      "           1       0.51      0.35      0.41       497\n",
      "           2       0.87      0.69      0.77      2619\n",
      "           3       0.65      0.27      0.38       158\n",
      "           4       0.75      0.64      0.69      2411\n",
      "           5       0.51      0.43      0.46       421\n",
      "\n",
      "   micro avg       0.76      0.69      0.72     10782\n",
      "   macro avg       0.67      0.53      0.58     10782\n",
      "weighted avg       0.76      0.69      0.72     10782\n",
      " samples avg       0.07      0.07      0.07     10782\n",
      "\n"
     ]
    },
    {
     "name": "stderr",
     "output_type": "stream",
     "text": [
      "/usr/local/lib/python3.7/dist-packages/sklearn/metrics/_classification.py:1308: UndefinedMetricWarning: Precision and F-score are ill-defined and being set to 0.0 in samples with no predicted labels. Use `zero_division` parameter to control this behavior.\n",
      "  _warn_prf(average, modifier, msg_start, len(result))\n",
      "/usr/local/lib/python3.7/dist-packages/sklearn/metrics/_classification.py:1308: UndefinedMetricWarning: Recall and F-score are ill-defined and being set to 0.0 in samples with no true labels. Use `zero_division` parameter to control this behavior.\n",
      "  _warn_prf(average, modifier, msg_start, len(result))\n"
     ]
    }
   ],
   "source": [
    "print(sklearn.metrics.classification_report(y_test1, y_pred1))"
   ]
  },
  {
   "cell_type": "code",
   "execution_count": 40,
   "metadata": {
    "colab": {
     "base_uri": "https://localhost:8080/"
    },
    "id": "c5TaGjhrG3sv",
    "outputId": "5b878074-c5dd-4b47-dace-1a318a190dc3"
   },
   "outputs": [
    {
     "data": {
      "text/plain": [
       "array([[[41989,  1206],\n",
       "        [  990,  3686]],\n",
       "\n",
       "       [[47210,   164],\n",
       "        [  324,   173]],\n",
       "\n",
       "       [[44993,   259],\n",
       "        [  821,  1798]],\n",
       "\n",
       "       [[47690,    23],\n",
       "        [  116,    42]],\n",
       "\n",
       "       [[44933,   527],\n",
       "        [  871,  1540]],\n",
       "\n",
       "       [[47280,   170],\n",
       "        [  242,   179]]])"
      ]
     },
     "execution_count": 40,
     "metadata": {},
     "output_type": "execute_result"
    }
   ],
   "source": [
    "from sklearn.metrics import multilabel_confusion_matrix\n",
    "multilabel_confusion_matrix(y_test1, y_pred1)"
   ]
  },
  {
   "cell_type": "code",
   "execution_count": 41,
   "metadata": {
    "id": "3k_0Q4jHG7Ts"
   },
   "outputs": [],
   "source": [
    "from sklearn.metrics import ConfusionMatrixDisplay\n",
    "from sklearn.metrics import confusion_matrix\n",
    "import matplotlib.pyplot as plt\n",
    "import numpy as np\n",
    "cm = multilabel_confusion_matrix(y_test1, y_pred1)"
   ]
  },
  {
   "cell_type": "code",
   "execution_count": 42,
   "metadata": {
    "colab": {
     "base_uri": "https://localhost:8080/",
     "height": 279
    },
    "id": "Goi9Qm-hG730",
    "outputId": "d628677b-e213-453b-c491-71810c6f53ce"
   },
   "outputs": [
    {
     "data": {
      "image/png": "[encoded data removed]",
      "text/plain": [
       "<Figure size 432x288 with 2 Axes>"
      ]
     },
     "metadata": {
      "needs_background": "light"
     },
     "output_type": "display_data"
    }
   ],
   "source": [
    "disp = ConfusionMatrixDisplay(confusion_matrix=cm[0], display_labels=list_classes[0])\n",
    "disp.plot(cmap=plt.cm.Blues)\n",
    "plt.show()"
   ]
  },
  {
   "cell_type": "code",
   "execution_count": 43,
   "metadata": {
    "colab": {
     "base_uri": "https://localhost:8080/",
     "height": 279
    },
    "id": "zV48RHdxG9iu",
    "outputId": "64c6af00-05d6-4529-cb0c-6c652e524fd3"
   },
   "outputs": [
    {
     "data": {
      "image/png": "[encoded data removed]",
      "text/plain": [
       "<Figure size 432x288 with 2 Axes>"
      ]
     },
     "metadata": {
      "needs_background": "light"
     },
     "output_type": "display_data"
    }
   ],
   "source": [
    "disp = ConfusionMatrixDisplay(confusion_matrix=cm[1], display_labels=list_classes[1])\n",
    "disp.plot(cmap=plt.cm.Blues)\n",
    "plt.show()"
   ]
  },
  {
   "cell_type": "code",
   "execution_count": 44,
   "metadata": {
    "colab": {
     "base_uri": "https://localhost:8080/",
     "height": 279
    },
    "id": "ZP0uLj9nG_vg",
    "outputId": "e802c74c-8e76-4a93-c6d8-d5254d3654d5"
   },
   "outputs": [
    {
     "data": {
      "image/png": "[encoded data removed]",
      "text/plain": [
       "<Figure size 432x288 with 2 Axes>"
      ]
     },
     "metadata": {
      "needs_background": "light"
     },
     "output_type": "display_data"
    }
   ],
   "source": [
    "disp = ConfusionMatrixDisplay(confusion_matrix=cm[2], display_labels=list_classes[2])\n",
    "disp.plot(cmap=plt.cm.Blues)\n",
    "plt.show()"
   ]
  },
  {
   "cell_type": "code",
   "execution_count": 45,
   "metadata": {
    "colab": {
     "base_uri": "https://localhost:8080/",
     "height": 279
    },
    "id": "7535MKhVHCbX",
    "outputId": "a0654768-f69e-475b-b026-13814f91dc56"
   },
   "outputs": [
    {
     "data": {
      "image/png": "[encoded data removed]",
      "text/plain": [
       "<Figure size 432x288 with 2 Axes>"
      ]
     },
     "metadata": {
      "needs_background": "light"
     },
     "output_type": "display_data"
    }
   ],
   "source": [
    "disp = ConfusionMatrixDisplay(confusion_matrix=cm[3], display_labels=list_classes[3])\n",
    "disp.plot(cmap=plt.cm.Blues)\n",
    "plt.show()"
   ]
  },
  {
   "cell_type": "code",
   "execution_count": 46,
   "metadata": {
    "colab": {
     "base_uri": "https://localhost:8080/",
     "height": 279
    },
    "id": "d89Zvao9HF3z",
    "outputId": "6b2c42f4-80fa-4de4-8565-46fb09489fd9"
   },
   "outputs": [
    {
     "data": {
      "image/png": "[encoded data removed]",
      "text/plain": [
       "<Figure size 432x288 with 2 Axes>"
      ]
     },
     "metadata": {
      "needs_background": "light"
     },
     "output_type": "display_data"
    }
   ],
   "source": [
    "disp = ConfusionMatrixDisplay(confusion_matrix=cm[4], display_labels=list_classes[4])\n",
    "disp.plot(cmap=plt.cm.Blues)\n",
    "plt.show()"
   ]
  },
  {
   "cell_type": "code",
   "execution_count": 47,
   "metadata": {
    "colab": {
     "base_uri": "https://localhost:8080/",
     "height": 279
    },
    "id": "pE1kKYjwHIWR",
    "outputId": "8ab19a1e-36a0-4625-a9aa-580624d820cd"
   },
   "outputs": [
    {
     "data": {
      "image/png": "[encoded data removed]",
      "text/plain": [
       "<Figure size 432x288 with 2 Axes>"
      ]
     },
     "metadata": {
      "needs_background": "light"
     },
     "output_type": "display_data"
    }
   ],
   "source": [
    "disp = ConfusionMatrixDisplay(confusion_matrix=cm[5], display_labels=list_classes[5])\n",
    "disp.plot(cmap=plt.cm.Blues)\n",
    "plt.show()"
   ]
  }
 ],
 "metadata": {
  "colab": {
   "collapsed_sections": [],
   "name": "model5.1_cnn.ipynb",
   "provenance": []
  },
  "kernelspec": {
   "display_name": "Python 3",
   "language": "python",
   "name": "python3"
  },
  "language_info": {
   "codemirror_mode": {
    "name": "ipython",
    "version": 3
   },
   "file_extension": ".py",
   "mimetype": "text/x-python",
   "name": "python",
   "nbconvert_exporter": "python",
   "pygments_lexer": "ipython3",
   "version": "3.8.8"
  }
 },
 "nbformat": 4,
 "nbformat_minor": 1
}
