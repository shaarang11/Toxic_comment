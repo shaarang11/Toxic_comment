{
 "cells": [
  {
   "cell_type": "code",
   "execution_count": 6,
   "metadata": {
    "id": "cshkQLbgeks0"
   },
   "outputs": [],
   "source": [
    "import pandas as pd\n",
    "import matplotlib.pyplot as plt\n",
    "import seaborn as sns\n",
    "import numpy as np"
   ]
  },
  {
   "cell_type": "code",
   "execution_count": 7,
   "metadata": {
    "id": "uAEm2LyYe582"
   },
   "outputs": [],
   "source": [
    "path  =  \"/content/drive/MyDrive/new1/data/train.csv/train.csv\"\n",
    "train =  pd.read_csv(path)\n",
    "train = train.sample(frac=1)"
   ]
  },
  {
   "cell_type": "code",
   "execution_count": 8,
   "metadata": {
    "colab": {
     "base_uri": "https://localhost:8080/",
     "height": 205
    },
    "id": "v_4BPOQVe8iV",
    "outputId": "e04ff3e6-d9cd-4e2f-d942-c93db50c73b1"
   },
   "outputs": [
    {
     "data": {
      "text/html": [
       "<div>\n",
       "<style scoped>\n",
       "    .dataframe tbody tr th:only-of-type {\n",
       "        vertical-align: middle;\n",
       "    }\n",
       "\n",
       "    .dataframe tbody tr th {\n",
       "        vertical-align: top;\n",
       "    }\n",
       "\n",
       "    .dataframe thead th {\n",
       "        text-align: right;\n",
       "    }\n",
       "</style>\n",
       "<table border=\"1\" class=\"dataframe\">\n",
       "  <thead>\n",
       "    <tr style=\"text-align: right;\">\n",
       "      <th></th>\n",
       "      <th>id</th>\n",
       "      <th>comment_text</th>\n",
       "      <th>toxic</th>\n",
       "      <th>severe_toxic</th>\n",
       "      <th>obscene</th>\n",
       "      <th>threat</th>\n",
       "      <th>insult</th>\n",
       "      <th>identity_hate</th>\n",
       "    </tr>\n",
       "  </thead>\n",
       "  <tbody>\n",
       "    <tr>\n",
       "      <th>26780</th>\n",
       "      <td>46f96cc5717f395a</td>\n",
       "      <td>Point well taken.  Done.</td>\n",
       "      <td>0</td>\n",
       "      <td>0</td>\n",
       "      <td>0</td>\n",
       "      <td>0</td>\n",
       "      <td>0</td>\n",
       "      <td>0</td>\n",
       "    </tr>\n",
       "    <tr>\n",
       "      <th>156921</th>\n",
       "      <td>d5af077462f356d7</td>\n",
       "      <td>\":::* I'm not using jabs or insults of any kin...</td>\n",
       "      <td>0</td>\n",
       "      <td>0</td>\n",
       "      <td>0</td>\n",
       "      <td>0</td>\n",
       "      <td>0</td>\n",
       "      <td>0</td>\n",
       "    </tr>\n",
       "    <tr>\n",
       "      <th>35584</th>\n",
       "      <td>5f17cc76145c860d</td>\n",
       "      <td>\"\\n The HMC definition of public school seems ...</td>\n",
       "      <td>0</td>\n",
       "      <td>0</td>\n",
       "      <td>0</td>\n",
       "      <td>0</td>\n",
       "      <td>0</td>\n",
       "      <td>0</td>\n",
       "    </tr>\n",
       "    <tr>\n",
       "      <th>3475</th>\n",
       "      <td>095dd6cfb134cc49</td>\n",
       "      <td>eps with her as co-HW no longer air; therefore...</td>\n",
       "      <td>0</td>\n",
       "      <td>0</td>\n",
       "      <td>0</td>\n",
       "      <td>0</td>\n",
       "      <td>0</td>\n",
       "      <td>0</td>\n",
       "    </tr>\n",
       "    <tr>\n",
       "      <th>25940</th>\n",
       "      <td>44ae6367ed2cfc66</td>\n",
       "      <td>Awww, my deepest appologies, here's a Kleenex.</td>\n",
       "      <td>0</td>\n",
       "      <td>0</td>\n",
       "      <td>0</td>\n",
       "      <td>0</td>\n",
       "      <td>0</td>\n",
       "      <td>0</td>\n",
       "    </tr>\n",
       "  </tbody>\n",
       "</table>\n",
       "</div>"
      ],
      "text/plain": [
       "                      id  ... identity_hate\n",
       "26780   46f96cc5717f395a  ...             0\n",
       "156921  d5af077462f356d7  ...             0\n",
       "35584   5f17cc76145c860d  ...             0\n",
       "3475    095dd6cfb134cc49  ...             0\n",
       "25940   44ae6367ed2cfc66  ...             0\n",
       "\n",
       "[5 rows x 8 columns]"
      ]
     },
     "execution_count": 8,
     "metadata": {},
     "output_type": "execute_result"
    }
   ],
   "source": [
    "df=train\n",
    "train.head()\n"
   ]
  },
  {
   "cell_type": "code",
   "execution_count": 9,
   "metadata": {
    "colab": {
     "base_uri": "https://localhost:8080/",
     "height": 299
    },
    "id": "hMNsPMxre-iy",
    "outputId": "386255bd-f002-4ad5-f456-af59146565f3"
   },
   "outputs": [
    {
     "data": {
      "text/html": [
       "<div>\n",
       "<style scoped>\n",
       "    .dataframe tbody tr th:only-of-type {\n",
       "        vertical-align: middle;\n",
       "    }\n",
       "\n",
       "    .dataframe tbody tr th {\n",
       "        vertical-align: top;\n",
       "    }\n",
       "\n",
       "    .dataframe thead th {\n",
       "        text-align: right;\n",
       "    }\n",
       "</style>\n",
       "<table border=\"1\" class=\"dataframe\">\n",
       "  <thead>\n",
       "    <tr style=\"text-align: right;\">\n",
       "      <th></th>\n",
       "      <th>toxic</th>\n",
       "      <th>severe_toxic</th>\n",
       "      <th>obscene</th>\n",
       "      <th>threat</th>\n",
       "      <th>insult</th>\n",
       "      <th>identity_hate</th>\n",
       "    </tr>\n",
       "  </thead>\n",
       "  <tbody>\n",
       "    <tr>\n",
       "      <th>count</th>\n",
       "      <td>159571.000000</td>\n",
       "      <td>159571.000000</td>\n",
       "      <td>159571.000000</td>\n",
       "      <td>159571.000000</td>\n",
       "      <td>159571.000000</td>\n",
       "      <td>159571.000000</td>\n",
       "    </tr>\n",
       "    <tr>\n",
       "      <th>mean</th>\n",
       "      <td>0.095844</td>\n",
       "      <td>0.009996</td>\n",
       "      <td>0.052948</td>\n",
       "      <td>0.002996</td>\n",
       "      <td>0.049364</td>\n",
       "      <td>0.008805</td>\n",
       "    </tr>\n",
       "    <tr>\n",
       "      <th>std</th>\n",
       "      <td>0.294379</td>\n",
       "      <td>0.099477</td>\n",
       "      <td>0.223931</td>\n",
       "      <td>0.054650</td>\n",
       "      <td>0.216627</td>\n",
       "      <td>0.093420</td>\n",
       "    </tr>\n",
       "    <tr>\n",
       "      <th>min</th>\n",
       "      <td>0.000000</td>\n",
       "      <td>0.000000</td>\n",
       "      <td>0.000000</td>\n",
       "      <td>0.000000</td>\n",
       "      <td>0.000000</td>\n",
       "      <td>0.000000</td>\n",
       "    </tr>\n",
       "    <tr>\n",
       "      <th>25%</th>\n",
       "      <td>0.000000</td>\n",
       "      <td>0.000000</td>\n",
       "      <td>0.000000</td>\n",
       "      <td>0.000000</td>\n",
       "      <td>0.000000</td>\n",
       "      <td>0.000000</td>\n",
       "    </tr>\n",
       "    <tr>\n",
       "      <th>50%</th>\n",
       "      <td>0.000000</td>\n",
       "      <td>0.000000</td>\n",
       "      <td>0.000000</td>\n",
       "      <td>0.000000</td>\n",
       "      <td>0.000000</td>\n",
       "      <td>0.000000</td>\n",
       "    </tr>\n",
       "    <tr>\n",
       "      <th>75%</th>\n",
       "      <td>0.000000</td>\n",
       "      <td>0.000000</td>\n",
       "      <td>0.000000</td>\n",
       "      <td>0.000000</td>\n",
       "      <td>0.000000</td>\n",
       "      <td>0.000000</td>\n",
       "    </tr>\n",
       "    <tr>\n",
       "      <th>max</th>\n",
       "      <td>1.000000</td>\n",
       "      <td>1.000000</td>\n",
       "      <td>1.000000</td>\n",
       "      <td>1.000000</td>\n",
       "      <td>1.000000</td>\n",
       "      <td>1.000000</td>\n",
       "    </tr>\n",
       "  </tbody>\n",
       "</table>\n",
       "</div>"
      ],
      "text/plain": [
       "               toxic   severe_toxic  ...         insult  identity_hate\n",
       "count  159571.000000  159571.000000  ...  159571.000000  159571.000000\n",
       "mean        0.095844       0.009996  ...       0.049364       0.008805\n",
       "std         0.294379       0.099477  ...       0.216627       0.093420\n",
       "min         0.000000       0.000000  ...       0.000000       0.000000\n",
       "25%         0.000000       0.000000  ...       0.000000       0.000000\n",
       "50%         0.000000       0.000000  ...       0.000000       0.000000\n",
       "75%         0.000000       0.000000  ...       0.000000       0.000000\n",
       "max         1.000000       1.000000  ...       1.000000       1.000000\n",
       "\n",
       "[8 rows x 6 columns]"
      ]
     },
     "execution_count": 9,
     "metadata": {},
     "output_type": "execute_result"
    }
   ],
   "source": [
    "train.describe()"
   ]
  },
  {
   "cell_type": "code",
   "execution_count": 11,
   "metadata": {
    "colab": {
     "base_uri": "https://localhost:8080/",
     "height": 264
    },
    "id": "lTlrmJmWQpGN",
    "outputId": "b55f8196-578a-4b00-a0f2-8f6ff417daa2"
   },
   "outputs": [
    {
     "data": {
      "image/png": "[encoded data removed]",
      "text/plain": [
       "<Figure size 432x288 with 1 Axes>"
      ]
     },
     "metadata": {
      "needs_background": "light"
     },
     "output_type": "display_data"
    }
   ],
   "source": [
    "list_classes = [\"toxic\", \"severe_toxic\", \"obscene\", \"threat\", \"insult\", \"identity_hate\"]\n",
    "\n",
    "toxic =  sum(train[\"toxic\"])\n",
    "severe_toxic = sum(train[\"severe_toxic\"])\n",
    "obscene = sum(train[\"obscene\"])\n",
    "threat = sum(train[\"threat\"])\n",
    "insult =  sum(train[\"insult\"])\n",
    "identity_hate = sum(train[\"identity_hate\"])\n",
    "\n",
    "\n",
    "list_value = [toxic, severe_toxic, obscene, threat, insult, identity_hate]\n",
    "\n",
    "\n",
    "plt.barh(list_classes, list_value)\n",
    "  \n",
    "for index, value in enumerate(list_value):\n",
    "    plt.text(value, index,str(value))\n",
    "  \n",
    "plt.show()"
   ]
  },
  {
   "cell_type": "code",
   "execution_count": 10,
   "metadata": {
    "colab": {
     "base_uri": "https://localhost:8080/",
     "height": 965
    },
    "id": "6hthinEAfCjc",
    "outputId": "4e5f1012-07b0-47b3-faa2-f36486d02a84"
   },
   "outputs": [
    {
     "data": {
      "image/png": "[encoded data removed]",
      "text/plain": [
       "<Figure size 720x720 with 2 Axes>"
      ]
     },
     "metadata": {
      "needs_background": "light"
     },
     "output_type": "display_data"
    },
    {
     "data": {
      "image/png": "[encoded data removed]",
      "text/plain": [
       "<Figure size 576x432 with 1 Axes>"
      ]
     },
     "metadata": {
      "needs_background": "light"
     },
     "output_type": "display_data"
    }
   ],
   "source": [
    "Tile = list(df.columns[2:])\n",
    "df_Tile = df[Tile].copy()\n",
    "\n",
    "toxic_rows = df_Tile.sum(axis=1)\n",
    "toxic_rows = (toxic_rows > 0)\n",
    "\n",
    "Tile.append('any_label')#Any label is summation ofalllabels.\n",
    "df_Tile['any_label'] = toxic_rows\n",
    "\n",
    "count_dic = {}\n",
    "for comment_type in Tile:\n",
    "    counts = list()\n",
    "    others = list(Tile)\n",
    "    df_selection = df_Tile[(df_Tile[comment_type]==1)]\n",
    "    others.remove(comment_type)\n",
    "    counts.append(('total', len(df_selection)))\n",
    "    for other in others:\n",
    "        counts.append((other, df_selection[other].sum()))\n",
    "    count_dic[comment_type] = counts\n",
    "\n",
    "\n",
    "del(df_selection)\n",
    "\n",
    "def heatmap(df, title):\n",
    "    plt.figure('heatmap', figsize=[10,10])\n",
    "    plt.title(title)\n",
    "    df_corr = df.corr()\n",
    "    sns.heatmap(df_corr, vmax=0.6, square=True, annot=True, cmap='winter')\n",
    "    plt.yticks(rotation = 45)\n",
    "    plt.xticks(rotation = 45)\n",
    "    plt.show()\n",
    "\n",
    "heatmap(df_Tile, 'Comment Type Heatmap')\n",
    "\n",
    "\n",
    "\n",
    "totals = []\n",
    "for key, value in count_dic.items():\n",
    "    totals.append(value[0][1])\n",
    "   \n",
    "    \n",
    "\n",
    "plt.figure('Comment Type Counts', figsize=[8,6])\n",
    "plt.title('Comment Type Counts')\n",
    "sns.barplot(x=list(count_dic.keys()), y=totals)\n",
    "plt.show()"
   ]
  },
  {
   "cell_type": "code",
   "execution_count": null,
   "metadata": {
    "id": "b_4CTgkSQoOr"
   },
   "outputs": [],
   "source": []
  }
 ],
 "metadata": {
  "colab": {
   "name": "EDA.ipynb",
   "provenance": []
  },
  "kernelspec": {
   "display_name": "Python 3",
   "language": "python",
   "name": "python3"
  },
  "language_info": {
   "codemirror_mode": {
    "name": "ipython",
    "version": 3
   },
   "file_extension": ".py",
   "mimetype": "text/x-python",
   "name": "python",
   "nbconvert_exporter": "python",
   "pygments_lexer": "ipython3",
   "version": "3.8.8"
  }
 },
 "nbformat": 4,
 "nbformat_minor": 1
}
