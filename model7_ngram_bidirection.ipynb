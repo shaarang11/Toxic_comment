{
 "cells": [
  {
   "cell_type": "code",
   "execution_count": null,
   "metadata": {
    "id": "bQj6pwpXjqlM"
   },
   "outputs": [],
   "source": [
    "import pandas as pd\n",
    "import tensorflow as tf\n",
    "from tensorflow.keras.callbacks import EarlyStopping, ModelCheckpoint\n",
    "from tensorflow.keras.layers import Dense, Embedding, Input\n",
    "from tensorflow.keras.layers import LSTM, Bidirectional, GlobalMaxPool1D, Dropout, GlobalAveragePooling1D,Flatten, GlobalAveragePooling2D,GlobalMaxPool3D\n",
    "from tensorflow.keras.models import Model, Sequential\n",
    "from tensorflow.keras.preprocessing import text, sequence\n",
    "import matplotlib.pyplot as plt\n",
    "from tensorflow.keras  import layers\n",
    "import numpy as np\n",
    "from sklearn.metrics import plot_confusion_matrix"
   ]
  },
  {
   "cell_type": "code",
   "execution_count": null,
   "metadata": {
    "id": "oKuDpE5YjwqI"
   },
   "outputs": [],
   "source": [
    "from sklearn.metrics import accuracy_score\n",
    "from sklearn.metrics import precision_score\n",
    "from sklearn.metrics import recall_score\n",
    "from sklearn.metrics import f1_score\n",
    "from sklearn.metrics import cohen_kappa_score\n",
    "from sklearn.metrics import roc_auc_score\n",
    "from sklearn.metrics import confusion_matrix"
   ]
  },
  {
   "cell_type": "code",
   "execution_count": null,
   "metadata": {
    "id": "9HRZLYVZjy6k"
   },
   "outputs": [],
   "source": [
    "max_features = 20000\n",
    "maxlen = 100\n",
    "embedding_dim = 128"
   ]
  },
  {
   "cell_type": "code",
   "execution_count": null,
   "metadata": {
    "id": "2qtcfaT9jzB-"
   },
   "outputs": [],
   "source": [
    "path  =  \"/content/drive/MyDrive/new1/data/train.csv/train.csv\"\n",
    "train =  pd.read_csv(path)\n",
    "train = train.sample(frac=1)"
   ]
  },
  {
   "cell_type": "code",
   "execution_count": null,
   "metadata": {
    "id": "O3TFq5cVj4Tr"
   },
   "outputs": [],
   "source": [
    "list_sentences_train = train[\"comment_text\"].fillna(\"CVxTz\").values\n",
    "list_classes = [\"toxic\", \"severe_toxic\", \"obscene\", \"threat\", \"insult\", \"identity_hate\"]\n",
    "y = train[list_classes].values\n",
    "\n",
    "tokenizer = text.Tokenizer(num_words=max_features)\n",
    "tokenizer.fit_on_texts(list(list_sentences_train))\n",
    "list_tokenized_train = tokenizer.texts_to_sequences(list_sentences_train)\n",
    "\n",
    "X_t = sequence.pad_sequences(list_tokenized_train, maxlen=maxlen)\n",
    "x_train, x_test = X_t[:111700], X_t[111700:]\n",
    "y_train, y_test = y[:111700],  y[111700:]"
   ]
  },
  {
   "cell_type": "code",
   "execution_count": null,
   "metadata": {
    "id": "VSFNYTO3kUZR"
   },
   "outputs": [],
   "source": [
    "def create_ngram_set(input_list, ngram_value=2):\n",
    "    gram_list = []\n",
    "    for i in range(ngram_value):\n",
    "        gram_list.append(input_list[i:])\n",
    "    return set(zip(*gram_list))\n",
    "\n",
    "def add_ngram(sequences, token_indice, ngram_range=2):\n",
    "    new_sequences = []\n",
    "    for input_list in sequences:\n",
    "        new_list = input_list[:]\n",
    "        for ngram_value in range(2, ngram_range + 1):\n",
    "            for i in range(len(new_list) - ngram_value + 1):\n",
    "                ngram = tuple(new_list[i:i + ngram_value])\n",
    "                if ngram in token_indice:\n",
    "                    new_list = np.append(new_list , token_indice[ngram])\n",
    "        new_sequences.append(new_list)\n",
    "    return new_sequences"
   ]
  },
  {
   "cell_type": "code",
   "execution_count": null,
   "metadata": {
    "id": "tlB4Kz7bka98"
   },
   "outputs": [],
   "source": [
    "num_classes = len(list_classes)\n",
    "ngram_range = 2\n",
    "batch_size = 1024\n",
    "epochs = 5\n",
    "max_words = 20000\n",
    "maxlen = 100\n",
    "embedding_dims = 128\n",
    "\n",
    "\n",
    "#y_train = tf.keras.utils.to_categorical(y_train, num_classes)\n",
    "#y_test = tf.keras.utils.to_categorical(y_test, num_classes)\n",
    "\n",
    "if ngram_range > 1:\n",
    "\n",
    "    # Create set of unique n-gram from the training set    \n",
    "    ngram_set = set()\n",
    "    for input_list in x_train:\n",
    "        for i in range(2, ngram_range + 1):\n",
    "            set_of_ngram = create_ngram_set(input_list, ngram_value=i)\n",
    "            ngram_set.update(set_of_ngram)\n",
    "\n",
    "    # Dictionary mapping n-gram token to a unique integer\n",
    "    # Integer values are greater than max_words in order\n",
    "    # to avoid collision with existing features\n",
    "    start_index = max_words + 1\n",
    "    token_indice = {v: k + start_index for k, v in enumerate(ngram_set)}\n",
    "    indice_token = {token_indice[k]: k for k in token_indice}\n",
    "\n",
    "    # max_words is the highest integer that could be found in the dataset\n",
    "    max_words = np.max(list(indice_token.keys())) + 1\n",
    "\n",
    "    # Augmenting x_train and x_test with n-grams features\n",
    "    x_train = add_ngram(x_train, token_indice, ngram_range)\n",
    "    x_test = add_ngram(x_test, token_indice, ngram_range)\n",
    "\n",
    "# Pad the input vectors to ensure a consistent length\n",
    "x_train = sequence.pad_sequences(x_train, maxlen=maxlen)\n",
    "x_test = sequence.pad_sequences(x_test, maxlen=maxlen)"
   ]
  },
  {
   "cell_type": "code",
   "execution_count": null,
   "metadata": {
    "colab": {
     "base_uri": "https://localhost:8080/"
    },
    "id": "R0RzydTLl6Dr",
    "outputId": "547611b6-2479-468a-cd9c-2d46c8688454"
   },
   "outputs": [
    {
     "name": "stdout",
     "output_type": "stream",
     "text": [
      "[[1.35087807e-03 3.67564690e-02 3.32438798e-01 ... 1.37230367e-02\n",
      "  3.79038164e-01 2.36314307e-01]\n",
      " [2.15139841e-02 1.65249961e-01 1.65239495e-01 ... 2.72151541e-01\n",
      "  4.05915381e-01 3.75220907e-01]\n",
      " [1.90123580e-03 6.74644451e-01 9.84470890e-01 ... 9.96450047e-01\n",
      "  7.75773647e-01 4.54664078e-01]\n",
      " ...\n",
      " [5.50357733e-04 1.65249961e-01 1.65239495e-01 ... 2.49673295e-01\n",
      "  1.83301183e-01 5.47732151e-01]\n",
      " [8.73617852e-01 1.65249961e-01 1.65239495e-01 ... 5.38926455e-02\n",
      "  4.19265436e-02 5.48703854e-01]\n",
      " [9.89643268e-02 6.15258674e-01 8.74014112e-01 ... 9.63475124e-02\n",
      "  1.79802119e-01 3.64375171e-01]] 111700\n",
      "[[3.00495818e-04 1.60401267e-05 1.81099143e-01 ... 8.52074135e-01\n",
      "  7.12665813e-01 5.15658014e-02]\n",
      " [1.15690890e-02 1.59457730e-04 3.50590270e-04 ... 1.55729235e-01\n",
      "  8.09749306e-01 1.39262519e-01]\n",
      " [1.25206591e-03 1.08884154e-03 3.66568915e-05 ... 8.96318598e-01\n",
      "  6.40327582e-01 7.99795567e-01]\n",
      " ...\n",
      " [4.41728853e-02 7.38789367e-03 1.45593654e-03 ... 1.19223327e-01\n",
      "  1.86322188e-01 6.17270461e-01]\n",
      " [5.35884209e-03 1.22659793e-05 3.75968118e-06 ... 9.13074192e-01\n",
      "  8.56536283e-01 7.53249462e-01]\n",
      " [1.43236340e-02 1.35303187e-03 5.63952177e-06 ... 8.76183140e-01\n",
      "  5.18848277e-01 5.41128534e-01]] 47871\n",
      "[[1 0 0 0 0 0]\n",
      " [0 0 0 0 0 0]\n",
      " [0 0 0 0 0 0]\n",
      " ...\n",
      " [0 0 0 0 0 0]\n",
      " [0 0 0 0 0 0]\n",
      " [0 0 0 0 0 0]] 111700\n",
      "[[0 0 0 0 0 0]\n",
      " [0 0 0 0 0 0]\n",
      " [0 0 0 0 0 0]\n",
      " ...\n",
      " [0 0 0 0 0 0]\n",
      " [0 0 0 0 0 0]\n",
      " [1 0 1 0 0 0]] 47871\n"
     ]
    }
   ],
   "source": [
    "#We normalize this data because some values are greater than 20000 \n",
    "from sklearn.preprocessing import MinMaxScaler\n",
    "scaler = MinMaxScaler()\n",
    "x_train = scaler.fit_transform(x_train)\n",
    "x_test = scaler.fit_transform(x_test)\n",
    "\n",
    "print(x_train,len(x_train))\n",
    "print(x_test,len(x_test))\n",
    "print(y_train, len(y_train))\n",
    "print(y_test, len(y_test))"
   ]
  },
  {
   "cell_type": "code",
   "execution_count": null,
   "metadata": {
    "id": "TzLudf3Ej_uw"
   },
   "outputs": [],
   "source": [
    "def plot_loss_curves(history):\n",
    "  loss = history.history['loss']\n",
    "  val_loss = history.history['val_loss']\n",
    "  accuracy = history.history['accuracy']\n",
    "  val_accuracy = history.history['val_accuracy']\n",
    "  epochs = range(len(history.history['loss']))\n",
    "  plt.plot(epochs, loss, label='training_loss')\n",
    "  plt.plot(epochs, val_loss, label='val_loss')\n",
    "  plt.ylabel('Loss')\n",
    "  plt.xlabel('Epochs')\n",
    "  plt.legend()\n",
    "  plt.figure()\n",
    "  plt.plot(epochs, accuracy, label='training_accuracy')\n",
    "  plt.plot(epochs, val_accuracy, label='val_accuracy')\n",
    "  plt.ylabel('Accuracy')\n",
    "  plt.xlabel('Epochs')\n",
    "  plt.legend()"
   ]
  },
  {
   "cell_type": "code",
   "execution_count": null,
   "metadata": {
    "id": "k1VnmSAwkDCJ"
   },
   "outputs": [],
   "source": [
    "file_path = \"../models/weights_base.best.hdf5\"\n",
    "checkpoint = ModelCheckpoint(file_path, verbose=1, save_best_only=True, mode=\"min\")\n",
    "early = EarlyStopping(mode=\"min\", patience=20)\n",
    "callbacks_list = [checkpoint, early]  # early\n",
    "batch_size = 64\n",
    "epochs = 5"
   ]
  },
  {
   "cell_type": "code",
   "execution_count": null,
   "metadata": {
    "id": "5cfD8z7okmIs"
   },
   "outputs": [],
   "source": [
    "def get_model_bidirectional():\n",
    "    with tf.device(\"/device:GPU:0\"):\n",
    "        embed_size = 128\n",
    "        inp = Input(shape=(maxlen,))\n",
    "        x = Embedding(max_features, embed_size)(inp)\n",
    "        x = Bidirectional(LSTM(50, return_sequences=True))(x)\n",
    "        x = GlobalMaxPool1D()(x)\n",
    "        x = Dropout(0.1)(x)\n",
    "        x = Dense(50, activation=\"relu\",)(x)\n",
    "        x = Dropout(0.1)(x)\n",
    "        x = Dense(6, activation=\"sigmoid\")(x)\n",
    "        model = Model(inputs=inp, outputs=x)\n",
    "        model.compile(loss=\"binary_crossentropy\", optimizer=\"adam\", metrics=[\"accuracy\"])\n",
    "        return model"
   ]
  },
  {
   "cell_type": "code",
   "execution_count": null,
   "metadata": {
    "colab": {
     "base_uri": "https://localhost:8080/"
    },
    "id": "zJKZZtWEkq-Z",
    "outputId": "934541e6-0175-4af2-db37-ca862a76a850"
   },
   "outputs": [
    {
     "name": "stdout",
     "output_type": "stream",
     "text": [
      "Model: \"model_1\"\n",
      "_________________________________________________________________\n",
      " Layer (type)                Output Shape              Param #   \n",
      "=================================================================\n",
      " input_2 (InputLayer)        [(None, 100)]             0         \n",
      "                                                                 \n",
      " embedding_1 (Embedding)     (None, 100, 128)          2560000   \n",
      "                                                                 \n",
      " bidirectional_1 (Bidirectio  (None, 100, 100)         71600     \n",
      " nal)                                                            \n",
      "                                                                 \n",
      " global_max_pooling1d_1 (Glo  (None, 100)              0         \n",
      " balMaxPooling1D)                                                \n",
      "                                                                 \n",
      " dropout_2 (Dropout)         (None, 100)               0         \n",
      "                                                                 \n",
      " dense_2 (Dense)             (None, 50)                5050      \n",
      "                                                                 \n",
      " dropout_3 (Dropout)         (None, 50)                0         \n",
      "                                                                 \n",
      " dense_3 (Dense)             (None, 6)                 306       \n",
      "                                                                 \n",
      "=================================================================\n",
      "Total params: 2,636,956\n",
      "Trainable params: 2,636,956\n",
      "Non-trainable params: 0\n",
      "_________________________________________________________________\n"
     ]
    }
   ],
   "source": [
    "model = get_model_bidirectional()\n",
    "model.compile(optimizer='adam',loss='binary_crossentropy', metrics=['accuracy'])\n",
    "model.summary()"
   ]
  },
  {
   "cell_type": "code",
   "execution_count": null,
   "metadata": {
    "colab": {
     "base_uri": "https://localhost:8080/"
    },
    "id": "qkwfC-Ovk1MR",
    "outputId": "ad6a501a-2c35-4644-d2b5-12aa28a39082"
   },
   "outputs": [
    {
     "name": "stdout",
     "output_type": "stream",
     "text": [
      "Epoch 1/5\n",
      "1222/1222 [==============================] - ETA: 0s - loss: 0.1523 - accuracy: 0.8602\n",
      "Epoch 00001: val_loss improved from inf to 0.14412, saving model to ../models/weights_base.best.hdf5\n",
      "1222/1222 [==============================] - 270s 217ms/step - loss: 0.1523 - accuracy: 0.8602 - val_loss: 0.1441 - val_accuracy: 0.9939\n",
      "Epoch 2/5\n",
      "1222/1222 [==============================] - ETA: 0s - loss: 0.1417 - accuracy: 0.9791\n",
      "Epoch 00002: val_loss did not improve from 0.14412\n",
      "1222/1222 [==============================] - 259s 212ms/step - loss: 0.1417 - accuracy: 0.9791 - val_loss: 0.1442 - val_accuracy: 0.9939\n",
      "Epoch 3/5\n",
      "1222/1222 [==============================] - ETA: 0s - loss: 0.1413 - accuracy: 0.9917\n",
      "Epoch 00003: val_loss did not improve from 0.14412\n",
      "1222/1222 [==============================] - 261s 214ms/step - loss: 0.1413 - accuracy: 0.9917 - val_loss: 0.1447 - val_accuracy: 0.9939\n",
      "Epoch 4/5\n",
      "1222/1222 [==============================] - ETA: 0s - loss: 0.1411 - accuracy: 0.9943\n",
      "Epoch 00004: val_loss did not improve from 0.14412\n",
      "1222/1222 [==============================] - 257s 211ms/step - loss: 0.1411 - accuracy: 0.9943 - val_loss: 0.1444 - val_accuracy: 0.9939\n",
      "Epoch 5/5\n",
      "1222/1222 [==============================] - ETA: 0s - loss: 0.1409 - accuracy: 0.9945\n",
      "Epoch 00005: val_loss did not improve from 0.14412\n",
      "1222/1222 [==============================] - 261s 214ms/step - loss: 0.1409 - accuracy: 0.9945 - val_loss: 0.1450 - val_accuracy: 0.9939\n"
     ]
    }
   ],
   "source": [
    "model1 = model.fit(x_train, y_train, batch_size=batch_size, epochs=epochs, validation_split=0.3, callbacks=callbacks_list)"
   ]
  },
  {
   "cell_type": "code",
   "execution_count": null,
   "metadata": {
    "id": "dq27Vi9Ik4kS"
   },
   "outputs": [],
   "source": [
    "model.save_weights(\"../models/model_weights.h5\")\n",
    "with open(\"../models/model_architecture.json\", \"w\") as f:\n",
    "    f.write(model.to_json())"
   ]
  },
  {
   "cell_type": "code",
   "execution_count": null,
   "metadata": {
    "colab": {
     "base_uri": "https://localhost:8080/"
    },
    "id": "UIaqYxoak80l",
    "outputId": "28d3812d-0992-48e6-d0f8-965ac8032eae"
   },
   "outputs": [
    {
     "name": "stdout",
     "output_type": "stream",
     "text": [
      "47/47 [==============================] - 27s 562ms/step\n",
      "[[0.08850884 0.00616831 0.04126719 0.00178975 0.04246703 0.00688484]\n",
      " [0.08850884 0.00616831 0.04126719 0.00178975 0.04246703 0.00688484]\n",
      " [0.08850884 0.00616831 0.04126719 0.00178975 0.04246703 0.00688484]\n",
      " ...\n",
      " [0.08850884 0.00616831 0.04126719 0.00178975 0.04246703 0.00688484]\n",
      " [0.08850884 0.00616831 0.04126719 0.00178975 0.04246703 0.00688484]\n",
      " [0.08850884 0.00616831 0.04126719 0.00178975 0.04246703 0.00688484]]\n"
     ]
    }
   ],
   "source": [
    "y_pred = model.predict(x_test, batch_size=1024, verbose=1)\n",
    "print(y_pred)"
   ]
  },
  {
   "cell_type": "code",
   "execution_count": null,
   "metadata": {
    "colab": {
     "base_uri": "https://localhost:8080/",
     "height": 446
    },
    "id": "LJx6AlaOk_0-",
    "outputId": "f4d41ffc-a7a3-4aaf-8563-9ec64cd245f5"
   },
   "outputs": [
    {
     "data": {
      "text/plain": [
       "<matplotlib.axes._subplots.AxesSubplot at 0x7fc328b7f250>"
      ]
     },
     "execution_count": 43,
     "metadata": {},
     "output_type": "execute_result"
    },
    {
     "data": {
      "image/png": "[encoded data removed]",
      "text/plain": [
       "<Figure size 720x504 with 1 Axes>"
      ]
     },
     "metadata": {
      "needs_background": "light"
     },
     "output_type": "display_data"
    }
   ],
   "source": [
    "pd.DataFrame(model1.history).plot(figsize=(10, 7))"
   ]
  },
  {
   "cell_type": "code",
   "execution_count": null,
   "metadata": {
    "colab": {
     "base_uri": "https://localhost:8080/",
     "height": 544
    },
    "id": "WmoB2AbYlHy-",
    "outputId": "7f8a8167-28bc-48ad-91d1-4e011672b5d1"
   },
   "outputs": [
    {
     "data": {
      "image/png": "[encoded data removed]",
      "text/plain": [
       "<Figure size 432x288 with 1 Axes>"
      ]
     },
     "metadata": {
      "needs_background": "light"
     },
     "output_type": "display_data"
    },
    {
     "data": {
      "image/png": "[encoded data removed]",
      "text/plain": [
       "<Figure size 432x288 with 1 Axes>"
      ]
     },
     "metadata": {
      "needs_background": "light"
     },
     "output_type": "display_data"
    }
   ],
   "source": [
    "plot_loss_curves(model1)"
   ]
  },
  {
   "cell_type": "code",
   "execution_count": null,
   "metadata": {
    "colab": {
     "base_uri": "https://localhost:8080/"
    },
    "id": "Rj455bKrlLJN",
    "outputId": "2b157509-54b6-4d61-f7df-1ca8ce8f111d"
   },
   "outputs": [
    {
     "name": "stdout",
     "output_type": "stream",
     "text": [
      "0.8982264836748762\n"
     ]
    }
   ],
   "source": [
    "y_pred1 = []\n",
    "for i in  range(len(y_pred)):\n",
    " seq_prediction = list(map(lambda x: 0 if x<0.5 else 1, y_pred[i]))\n",
    " y_pred1.append(seq_prediction)\n",
    "#print(seq_predictions[0])\n",
    "\n",
    "#Convert y_test vector from [0 0 0 0 0 0] to [0,0,0,0,0,0] as y_test1\n",
    "y_test1= []\n",
    "for i in  range(len(y_test)):\n",
    " seq_prediction = list(map(lambda x: 0 if x<0.5 else 1, y_test[i]))\n",
    " y_test1.append(seq_prediction)\n",
    "#print(y_test1)\n",
    "\n",
    "t = 0\n",
    "for i in range(len(y_test)):\n",
    "  #print(seq_predictions[i], y_test1[i])\n",
    "  if seq_predictions[i]==y_test1[i]:\n",
    "      t = t+1\n",
    "print(t/len(y_test1))"
   ]
  },
  {
   "cell_type": "code",
   "execution_count": null,
   "metadata": {
    "id": "iCg6PXhnBUY9"
   },
   "outputs": [],
   "source": [
    "y_test1 = np.array(y_test1)\n",
    "y_pred1=np.array(y_pred1)"
   ]
  },
  {
   "cell_type": "code",
   "execution_count": null,
   "metadata": {
    "colab": {
     "base_uri": "https://localhost:8080/"
    },
    "id": "1m4NnoE8rgKW",
    "outputId": "43ba2908-9abb-48f1-ce30-d60f37936e6b"
   },
   "outputs": [
    {
     "name": "stdout",
     "output_type": "stream",
     "text": [
      "Accuracy: 0.0\n",
      "Hamming Loss: 0.03679332650943856\n",
      "Precision: 0.0\n",
      "Recall: 0.0\n",
      "F1Measure: 0.0\n",
      "Exact Match Ratio: 0.8982264836748762\n",
      "0/1 loss ratio: 0.10177351632512377\n"
     ]
    }
   ],
   "source": [
    "def Accuracy(y_true, y_pred):\n",
    "    temp = 0\n",
    "    for i in range(y_true.shape[0]):\n",
    "        if  (sum(np.logical_or(y_true[i], y_pred[i]))==0):\n",
    "             continue\n",
    "        temp += sum(np.logical_and(y_true[i], y_pred[i])) / sum(np.logical_or(y_true[i], y_pred[i]))\n",
    "    return temp / y_true.shape[0]\n",
    "    \n",
    "def Hamming_Loss(y_true, y_pred):\n",
    "    temp=0\n",
    "    for i in range(y_true.shape[0]):\n",
    "        temp += np.size(y_true[i] == y_pred[i]) - np.count_nonzero(y_true[i] == y_pred[i])\n",
    "    return temp/(y_true.shape[0] * y_true.shape[1])\n",
    "\n",
    "def Precision(y_true, y_pred):\n",
    "      temp = 0\n",
    "      for i in range(y_true.shape[0]):\n",
    "          if sum(y_true[i]) == 0:\n",
    "              continue\n",
    "          temp+= sum(np.logical_and(y_true[i], y_pred[i]))/ sum(y_true[i])\n",
    "      return temp/ y_true.shape[0]\n",
    "                                \n",
    "def Recall(y_true, y_pred):\n",
    "      temp = 0\n",
    "      for i in range(y_true.shape[0]):\n",
    "          if sum(y_pred[i]) == 0:\n",
    "              continue\n",
    "          temp+= sum(np.logical_and(y_true[i], y_pred[i]))/ sum(y_pred[i])\n",
    "      return temp/ y_true.shape[0]\n",
    "                                \n",
    "def F1Measure(y_true, y_pred):\n",
    "    temp = 0\n",
    "    for i in range(y_true.shape[0]):\n",
    "        if (sum(y_true[i]) == 0) and (sum(y_pred[i]) == 0):\n",
    "            continue\n",
    "        temp+= (2*sum(np.logical_and(y_true[i], y_pred[i])))/ (sum(y_true[i])+sum(y_pred[i]))\n",
    "    return temp/ y_true.shape[0]       \n",
    "\n",
    "\n",
    "print(\"Accuracy:\", Accuracy(y_test1, y_pred1))                        \n",
    "print(\"Hamming Loss:\", Hamming_Loss(y_test1, y_pred1))   \n",
    "print(\"Precision:\", Precision(y_test1, y_pred1))      \n",
    "print(\"Recall:\", Recall(y_test1, y_pred1))   \n",
    "print(\"F1Measure:\",F1Measure(y_test1, y_pred1))  \n",
    "print(\"Exact Match Ratio:\", np.all(y_pred1 == y_test1, axis=1).mean())\n",
    "print(\"0/1 loss ratio:\",np.any(y_test1 != y_pred1, axis=1).mean())"
   ]
  },
  {
   "cell_type": "code",
   "execution_count": null,
   "metadata": {
    "colab": {
     "base_uri": "https://localhost:8080/"
    },
    "id": "8WJyShTVCElc",
    "outputId": "8dbae6ce-546d-4a46-86c7-30b435c80c32"
   },
   "outputs": [
    {
     "name": "stdout",
     "output_type": "stream",
     "text": [
      "Exact Match Ratio: 0.8982264836748762\n",
      "Zero one loss: 0.10177351632512377\n",
      "Hamming loss: 0.03679332650943856\n"
     ]
    }
   ],
   "source": [
    "import sklearn.metrics\n",
    "print('Exact Match Ratio: {0}'.format(sklearn.metrics.accuracy_score(y_test1, y_pred1, normalize=True, sample_weight=None)))\n",
    "print('Zero one loss: {0}'.format(sklearn.metrics.zero_one_loss(y_true=y_test1, y_pred=y_pred1))) \n",
    "print('Hamming loss: {0}'.format(sklearn.metrics.hamming_loss(y_test1, y_pred1)))"
   ]
  },
  {
   "cell_type": "code",
   "execution_count": null,
   "metadata": {
    "colab": {
     "base_uri": "https://localhost:8080/"
    },
    "id": "PZ9z0n1NmJRQ",
    "outputId": "98939d32-510a-409d-dd24-4800c36ac70d"
   },
   "outputs": [
    {
     "name": "stdout",
     "output_type": "stream",
     "text": [
      "Jaccard Score: 0.0\n",
      "Recall: 0.0\n",
      "Precision: 0.0\n",
      "F1 Measure: 0.0\n"
     ]
    },
    {
     "name": "stderr",
     "output_type": "stream",
     "text": [
      "/usr/local/lib/python3.7/dist-packages/sklearn/metrics/_classification.py:1308: UndefinedMetricWarning: Jaccard is ill-defined and being set to 0.0 in samples with no true or predicted labels. Use `zero_division` parameter to control this behavior.\n",
      "  _warn_prf(average, modifier, msg_start, len(result))\n",
      "/usr/local/lib/python3.7/dist-packages/sklearn/metrics/_classification.py:1308: UndefinedMetricWarning: Precision is ill-defined and being set to 0.0 in samples with no predicted labels. Use `zero_division` parameter to control this behavior.\n",
      "  _warn_prf(average, modifier, msg_start, len(result))\n",
      "/usr/local/lib/python3.7/dist-packages/sklearn/metrics/_classification.py:1308: UndefinedMetricWarning: Recall is ill-defined and being set to 0.0 in samples with no true labels. Use `zero_division` parameter to control this behavior.\n",
      "  _warn_prf(average, modifier, msg_start, len(result))\n",
      "/usr/local/lib/python3.7/dist-packages/sklearn/metrics/_classification.py:1570: UndefinedMetricWarning: F-score is ill-defined and being set to 0.0 in samples with no true nor predicted labels. Use `zero_division` parameter to control this behavior.\n",
      "  _warn_prf(average, \"true nor predicted\", \"F-score is\", len(true_sum))\n"
     ]
    }
   ],
   "source": [
    "#samples\n",
    "print('Jaccard Score: {0}'.format(sklearn.metrics.jaccard_score(y_true=y_test1, y_pred=y_pred1,average='samples')))\n",
    "print('Recall: {0}'.format(sklearn.metrics.precision_score(y_true=y_test1, y_pred=y_pred1, average='samples'))) \n",
    "print('Precision: {0}'.format(sklearn.metrics.recall_score(y_true=y_test1, y_pred=y_pred1, average='samples')))\n",
    "print('F1 Measure: {0}'.format(sklearn.metrics.f1_score(y_true=y_test1, y_pred=y_pred1, average='samples'))) \n",
    "\n"
   ]
  },
  {
   "cell_type": "code",
   "execution_count": null,
   "metadata": {
    "colab": {
     "base_uri": "https://localhost:8080/"
    },
    "id": "ZrgONr7OmU1-",
    "outputId": "e310f4cb-323f-4ee0-9ca9-5034e074ef15"
   },
   "outputs": [
    {
     "name": "stdout",
     "output_type": "stream",
     "text": [
      "Jaccard Score: 0.0\n",
      "Recall: 0.0\n",
      "Precision: 0.0\n",
      "F1 Measure: 0.0\n"
     ]
    },
    {
     "name": "stderr",
     "output_type": "stream",
     "text": [
      "/usr/local/lib/python3.7/dist-packages/sklearn/metrics/_classification.py:1308: UndefinedMetricWarning: Precision is ill-defined and being set to 0.0 due to no predicted samples. Use `zero_division` parameter to control this behavior.\n",
      "  _warn_prf(average, modifier, msg_start, len(result))\n"
     ]
    }
   ],
   "source": [
    "#micro\n",
    "print('Jaccard Score: {0}'.format(sklearn.metrics.jaccard_score(y_true=y_test1, y_pred=y_pred1,average='micro')))\n",
    "print('Recall: {0}'.format(sklearn.metrics.precision_score(y_true=y_test1, y_pred=y_pred1, average='micro'))) \n",
    "print('Precision: {0}'.format(sklearn.metrics.recall_score(y_true=y_test1, y_pred=y_pred1, average='micro')))\n",
    "print('F1 Measure: {0}'.format(sklearn.metrics.f1_score(y_true=y_test1, y_pred=y_pred1, average='micro'))) \n"
   ]
  },
  {
   "cell_type": "code",
   "execution_count": null,
   "metadata": {
    "colab": {
     "base_uri": "https://localhost:8080/"
    },
    "id": "K5R_u5H7p9Kd",
    "outputId": "ff0aaffb-e4f4-49cd-b27c-94c480f011ab"
   },
   "outputs": [
    {
     "name": "stdout",
     "output_type": "stream",
     "text": [
      "Jaccard Score: 0.0\n",
      "Recall: 0.0\n",
      "Precision: 0.0\n",
      "F1 Measure: 0.0\n"
     ]
    },
    {
     "name": "stderr",
     "output_type": "stream",
     "text": [
      "/usr/local/lib/python3.7/dist-packages/sklearn/metrics/_classification.py:1308: UndefinedMetricWarning: Precision is ill-defined and being set to 0.0 in labels with no predicted samples. Use `zero_division` parameter to control this behavior.\n",
      "  _warn_prf(average, modifier, msg_start, len(result))\n"
     ]
    }
   ],
   "source": [
    "#macro\n",
    "print('Jaccard Score: {0}'.format(sklearn.metrics.jaccard_score(y_true=y_test1, y_pred=y_pred1,average='macro')))\n",
    "print('Recall: {0}'.format(sklearn.metrics.precision_score(y_true=y_test1, y_pred=y_pred1, average='macro'))) \n",
    "print('Precision: {0}'.format(sklearn.metrics.recall_score(y_true=y_test1, y_pred=y_pred1, average='macro')))\n",
    "print('F1 Measure: {0}'.format(sklearn.metrics.f1_score(y_true=y_test1, y_pred=y_pred1, average='macro'))) \n"
   ]
  },
  {
   "cell_type": "code",
   "execution_count": null,
   "metadata": {
    "colab": {
     "base_uri": "https://localhost:8080/"
    },
    "id": "xYLfGcacCpRA",
    "outputId": "1d0b947f-96a2-439a-fdcc-c17ebec6645d"
   },
   "outputs": [
    {
     "name": "stdout",
     "output_type": "stream",
     "text": [
      "Jaccard Score: 0.0\n",
      "Recall: 0.0\n",
      "Precision: 0.0\n",
      "F1 Measure: 0.0\n"
     ]
    },
    {
     "name": "stderr",
     "output_type": "stream",
     "text": [
      "/usr/local/lib/python3.7/dist-packages/sklearn/metrics/_classification.py:1308: UndefinedMetricWarning: Precision is ill-defined and being set to 0.0 in labels with no predicted samples. Use `zero_division` parameter to control this behavior.\n",
      "  _warn_prf(average, modifier, msg_start, len(result))\n"
     ]
    }
   ],
   "source": [
    "#weighted\n",
    "print('Jaccard Score: {0}'.format(sklearn.metrics.jaccard_score(y_true=y_test1, y_pred=y_pred1,average='weighted')))\n",
    "print('Recall: {0}'.format(sklearn.metrics.precision_score(y_true=y_test1, y_pred=y_pred1, average='weighted'))) \n",
    "print('Precision: {0}'.format(sklearn.metrics.recall_score(y_true=y_test1, y_pred=y_pred1, average='weighted')))\n",
    "print('F1 Measure: {0}'.format(sklearn.metrics.f1_score(y_true=y_test1, y_pred=y_pred1, average='weighted'))) \n"
   ]
  },
  {
   "cell_type": "code",
   "execution_count": null,
   "metadata": {
    "colab": {
     "base_uri": "https://localhost:8080/"
    },
    "id": "UFGH6RTUuWzf",
    "outputId": "64f26413-736a-4b13-f95b-600cdaead241"
   },
   "outputs": [
    {
     "name": "stdout",
     "output_type": "stream",
     "text": [
      "              precision    recall  f1-score   support\n",
      "\n",
      "           0       0.00      0.00      0.00      4577\n",
      "           1       0.00      0.00      0.00       492\n",
      "           2       0.00      0.00      0.00      2556\n",
      "           3       0.00      0.00      0.00       159\n",
      "           4       0.00      0.00      0.00      2370\n",
      "           5       0.00      0.00      0.00       414\n",
      "\n",
      "   micro avg       0.00      0.00      0.00     10568\n",
      "   macro avg       0.00      0.00      0.00     10568\n",
      "weighted avg       0.00      0.00      0.00     10568\n",
      " samples avg       0.00      0.00      0.00     10568\n",
      "\n"
     ]
    },
    {
     "name": "stderr",
     "output_type": "stream",
     "text": [
      "/usr/local/lib/python3.7/dist-packages/sklearn/metrics/_classification.py:1308: UndefinedMetricWarning: Precision and F-score are ill-defined and being set to 0.0 in labels with no predicted samples. Use `zero_division` parameter to control this behavior.\n",
      "  _warn_prf(average, modifier, msg_start, len(result))\n",
      "/usr/local/lib/python3.7/dist-packages/sklearn/metrics/_classification.py:1308: UndefinedMetricWarning: Precision and F-score are ill-defined and being set to 0.0 due to no predicted samples. Use `zero_division` parameter to control this behavior.\n",
      "  _warn_prf(average, modifier, msg_start, len(result))\n",
      "/usr/local/lib/python3.7/dist-packages/sklearn/metrics/_classification.py:1308: UndefinedMetricWarning: Precision and F-score are ill-defined and being set to 0.0 in samples with no predicted labels. Use `zero_division` parameter to control this behavior.\n",
      "  _warn_prf(average, modifier, msg_start, len(result))\n",
      "/usr/local/lib/python3.7/dist-packages/sklearn/metrics/_classification.py:1308: UndefinedMetricWarning: Recall and F-score are ill-defined and being set to 0.0 in samples with no true labels. Use `zero_division` parameter to control this behavior.\n",
      "  _warn_prf(average, modifier, msg_start, len(result))\n"
     ]
    }
   ],
   "source": [
    "print(sklearn.metrics.classification_report(y_test1, y_pred1))"
   ]
  },
  {
   "cell_type": "code",
   "execution_count": null,
   "metadata": {
    "colab": {
     "base_uri": "https://localhost:8080/"
    },
    "id": "_SI8pbYUAmak",
    "outputId": "acdbf44a-69f1-4ede-a893-d5c618520c6e"
   },
   "outputs": [
    {
     "data": {
      "text/plain": [
       "array([[[43294,     0],\n",
       "        [ 4577,     0]],\n",
       "\n",
       "       [[47379,     0],\n",
       "        [  492,     0]],\n",
       "\n",
       "       [[45315,     0],\n",
       "        [ 2556,     0]],\n",
       "\n",
       "       [[47712,     0],\n",
       "        [  159,     0]],\n",
       "\n",
       "       [[45501,     0],\n",
       "        [ 2370,     0]],\n",
       "\n",
       "       [[47457,     0],\n",
       "        [  414,     0]]])"
      ]
     },
     "execution_count": 64,
     "metadata": {},
     "output_type": "execute_result"
    }
   ],
   "source": [
    "from sklearn.metrics import multilabel_confusion_matrix\n",
    "multilabel_confusion_matrix(y_test1, y_pred1)"
   ]
  },
  {
   "cell_type": "code",
   "execution_count": null,
   "metadata": {
    "id": "vdLmi8Gmpk5j"
   },
   "outputs": [],
   "source": [
    "from sklearn.metrics import ConfusionMatrixDisplay\n",
    "from sklearn.metrics import confusion_matrix\n",
    "import matplotlib.pyplot as plt\n",
    "import numpy as np\n",
    "cm = multilabel_confusion_matrix(y_test1, y_pred1)\n",
    "list_classes = [\"toxic\", \"severe_toxic\", \"obscene\", \"threat\", \"insult\", \"identity_hate\"]\n"
   ]
  },
  {
   "cell_type": "code",
   "execution_count": null,
   "metadata": {
    "colab": {
     "base_uri": "https://localhost:8080/",
     "height": 279
    },
    "id": "-k82-KvFE9xh",
    "outputId": "8a01e508-e021-48c4-e181-e68effeec4da"
   },
   "outputs": [
    {
     "data": {
      "image/png": "[encoded data removed]",
      "text/plain": [
       "<Figure size 432x288 with 2 Axes>"
      ]
     },
     "metadata": {
      "needs_background": "light"
     },
     "output_type": "display_data"
    }
   ],
   "source": [
    "disp = ConfusionMatrixDisplay(confusion_matrix=cm[0], display_labels=list_classes[0])\n",
    "disp.plot(cmap=plt.cm.Blues)\n",
    "plt.show()"
   ]
  },
  {
   "cell_type": "code",
   "execution_count": null,
   "metadata": {
    "colab": {
     "base_uri": "https://localhost:8080/",
     "height": 279
    },
    "id": "I6Ic0zJOFB1F",
    "outputId": "59a01f3d-30c5-4c57-9f90-3cb59b90f896"
   },
   "outputs": [
    {
     "data": {
      "image/png": "[encoded data removed]",
      "text/plain": [
       "<Figure size 432x288 with 2 Axes>"
      ]
     },
     "metadata": {
      "needs_background": "light"
     },
     "output_type": "display_data"
    }
   ],
   "source": [
    "disp = ConfusionMatrixDisplay(confusion_matrix=cm[1], display_labels=list_classes[1])\n",
    "disp.plot(cmap=plt.cm.Blues)\n",
    "plt.show()"
   ]
  },
  {
   "cell_type": "code",
   "execution_count": null,
   "metadata": {
    "colab": {
     "base_uri": "https://localhost:8080/",
     "height": 279
    },
    "id": "Y2t6jCzmFD4c",
    "outputId": "3c021efd-ce6a-42e8-e81a-e214741baeaf"
   },
   "outputs": [
    {
     "data": {
      "image/png": "[encoded data removed]",
      "text/plain": [
       "<Figure size 432x288 with 2 Axes>"
      ]
     },
     "metadata": {
      "needs_background": "light"
     },
     "output_type": "display_data"
    }
   ],
   "source": [
    "disp = ConfusionMatrixDisplay(confusion_matrix=cm[2], display_labels=list_classes[2])\n",
    "\n",
    "disp.plot(cmap=plt.cm.Blues)\n",
    "plt.show()"
   ]
  },
  {
   "cell_type": "code",
   "execution_count": null,
   "metadata": {
    "colab": {
     "base_uri": "https://localhost:8080/",
     "height": 279
    },
    "id": "LYaJiEyEFFnm",
    "outputId": "c4c5568d-21b3-4f7c-8189-6d4f3807f0ab"
   },
   "outputs": [
    {
     "data": {
      "image/png": "[encoded data removed]",
      "text/plain": [
       "<Figure size 432x288 with 2 Axes>"
      ]
     },
     "metadata": {
      "needs_background": "light"
     },
     "output_type": "display_data"
    }
   ],
   "source": [
    "disp = ConfusionMatrixDisplay(confusion_matrix=cm[3], display_labels=list_classes[3])\n",
    "disp.plot(cmap=plt.cm.Blues)\n",
    "plt.show()"
   ]
  },
  {
   "cell_type": "code",
   "execution_count": null,
   "metadata": {
    "colab": {
     "base_uri": "https://localhost:8080/",
     "height": 279
    },
    "id": "TS1eLDjFFH1_",
    "outputId": "02ef7e72-5898-4b9a-f91e-b1ad5c73ae63"
   },
   "outputs": [
    {
     "data": {
      "image/png": "[encoded data removed]",
      "text/plain": [
       "<Figure size 432x288 with 2 Axes>"
      ]
     },
     "metadata": {
      "needs_background": "light"
     },
     "output_type": "display_data"
    }
   ],
   "source": [
    "disp = ConfusionMatrixDisplay(confusion_matrix=cm[4], display_labels=list_classes[4])\n",
    "\n",
    "disp.plot(cmap=plt.cm.Blues)\n",
    "plt.show()"
   ]
  },
  {
   "cell_type": "code",
   "execution_count": null,
   "metadata": {
    "colab": {
     "base_uri": "https://localhost:8080/",
     "height": 279
    },
    "id": "mtNXiCD2FJ99",
    "outputId": "f290db45-ee39-400f-b35c-0c140dcf27ab"
   },
   "outputs": [
    {
     "data": {
      "image/png": "[encoded data removed]",
      "text/plain": [
       "<Figure size 432x288 with 2 Axes>"
      ]
     },
     "metadata": {
      "needs_background": "light"
     },
     "output_type": "display_data"
    }
   ],
   "source": [
    "disp = ConfusionMatrixDisplay(confusion_matrix=cm[5], display_labels=list_classes[5])\n",
    "\n",
    "disp.plot(cmap=plt.cm.Blues)\n",
    "plt.show()"
   ]
  }
 ],
 "metadata": {
  "colab": {
   "collapsed_sections": [],
   "name": "model7_ngram_bidirection.ipynb",
   "provenance": []
  },
  "kernelspec": {
   "display_name": "Python 3",
   "language": "python",
   "name": "python3"
  },
  "language_info": {
   "codemirror_mode": {
    "name": "ipython",
    "version": 3
   },
   "file_extension": ".py",
   "mimetype": "text/x-python",
   "name": "python",
   "nbconvert_exporter": "python",
   "pygments_lexer": "ipython3",
   "version": "3.8.8"
  }
 },
 "nbformat": 4,
 "nbformat_minor": 1
}
