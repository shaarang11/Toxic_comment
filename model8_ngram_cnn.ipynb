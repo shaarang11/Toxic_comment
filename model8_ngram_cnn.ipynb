{
  "nbformat": 4,
  "nbformat_minor": 0,
  "metadata": {
    "colab": {
      "name": "model8_ngram_cnn.ipynb",
      "provenance": [],
      "collapsed_sections": []
    },
    "kernelspec": {
      "name": "python3",
      "display_name": "Python 3"
    },
    "language_info": {
      "name": "python"
    }
  },
  "cells": [
    {
      "cell_type": "code",
      "metadata": {
        "id": "bQj6pwpXjqlM"
      },
      "source": [
        "import pandas as pd\n",
        "import tensorflow as tf\n",
        "from tensorflow.keras.callbacks import EarlyStopping, ModelCheckpoint\n",
        "from tensorflow.keras.layers import Dense, Embedding, Input\n",
        "from tensorflow.keras.layers import LSTM, Bidirectional, GlobalMaxPool1D, Dropout, GlobalAveragePooling1D,Flatten, GlobalAveragePooling2D,GlobalMaxPool3D\n",
        "from tensorflow.keras.models import Model, Sequential\n",
        "from tensorflow.keras.preprocessing import text, sequence\n",
        "import matplotlib.pyplot as plt\n",
        "from tensorflow.keras  import layers\n",
        "import numpy as np\n",
        "from sklearn.metrics import plot_confusion_matrix"
      ],
      "execution_count": 6,
      "outputs": []
    },
    {
      "cell_type": "code",
      "metadata": {
        "id": "oKuDpE5YjwqI"
      },
      "source": [
        "from sklearn.metrics import accuracy_score\n",
        "from sklearn.metrics import precision_score\n",
        "from sklearn.metrics import recall_score\n",
        "from sklearn.metrics import f1_score\n",
        "from sklearn.metrics import cohen_kappa_score\n",
        "from sklearn.metrics import roc_auc_score\n",
        "from sklearn.metrics import confusion_matrix"
      ],
      "execution_count": 7,
      "outputs": []
    },
    {
      "cell_type": "code",
      "metadata": {
        "id": "9HRZLYVZjy6k"
      },
      "source": [
        "max_features = 20000\n",
        "maxlen = 100\n",
        "embedding_dim = 128"
      ],
      "execution_count": 8,
      "outputs": []
    },
    {
      "cell_type": "code",
      "metadata": {
        "id": "2qtcfaT9jzB-"
      },
      "source": [
        "path  =  \"/content/drive/MyDrive/new1/data/train.csv/train.csv\"\n",
        "train =  pd.read_csv(path)\n",
        "train = train.sample(frac=1)"
      ],
      "execution_count": 9,
      "outputs": []
    },
    {
      "cell_type": "code",
      "metadata": {
        "id": "O3TFq5cVj4Tr"
      },
      "source": [
        "list_sentences_train = train[\"comment_text\"].fillna(\"CVxTz\").values\n",
        "list_classes = [\"toxic\", \"severe_toxic\", \"obscene\", \"threat\", \"insult\", \"identity_hate\"]\n",
        "y = train[list_classes].values\n",
        "\n",
        "tokenizer = text.Tokenizer(num_words=max_features)\n",
        "tokenizer.fit_on_texts(list(list_sentences_train))\n",
        "list_tokenized_train = tokenizer.texts_to_sequences(list_sentences_train)\n",
        "\n",
        "X_t = sequence.pad_sequences(list_tokenized_train, maxlen=maxlen)\n",
        "x_train, x_test = X_t[:111700], X_t[111700:]\n",
        "y_train, y_test = y[:111700],  y[111700:]"
      ],
      "execution_count": 10,
      "outputs": []
    },
    {
      "cell_type": "code",
      "metadata": {
        "id": "VSFNYTO3kUZR"
      },
      "source": [
        "def create_ngram_set(input_list, ngram_value=2):\n",
        "    gram_list = []\n",
        "    for i in range(ngram_value):\n",
        "        gram_list.append(input_list[i:])\n",
        "    return set(zip(*gram_list))\n",
        "\n",
        "def add_ngram(sequences, token_indice, ngram_range=2):\n",
        "    new_sequences = []\n",
        "    for input_list in sequences:\n",
        "        new_list = input_list[:]\n",
        "        for ngram_value in range(2, ngram_range + 1):\n",
        "            for i in range(len(new_list) - ngram_value + 1):\n",
        "                ngram = tuple(new_list[i:i + ngram_value])\n",
        "                if ngram in token_indice:\n",
        "                    new_list = np.append(new_list , token_indice[ngram])\n",
        "        new_sequences.append(new_list)\n",
        "    return new_sequences"
      ],
      "execution_count": 11,
      "outputs": []
    },
    {
      "cell_type": "code",
      "metadata": {
        "id": "tlB4Kz7bka98"
      },
      "source": [
        "num_classes = len(list_classes)\n",
        "ngram_range = 2\n",
        "batch_size = 1024\n",
        "epochs = 5\n",
        "max_words = 20000\n",
        "maxlen = 100\n",
        "embedding_dims = 128\n",
        "\n",
        "\n",
        "#y_train = tf.keras.utils.to_categorical(y_train, num_classes)\n",
        "#y_test = tf.keras.utils.to_categorical(y_test, num_classes)\n",
        "\n",
        "if ngram_range > 1:\n",
        "\n",
        "    # Create set of unique n-gram from the training set    \n",
        "    ngram_set = set()\n",
        "    for input_list in x_train:\n",
        "        for i in range(2, ngram_range + 1):\n",
        "            set_of_ngram = create_ngram_set(input_list, ngram_value=i)\n",
        "            ngram_set.update(set_of_ngram)\n",
        "\n",
        "    # Dictionary mapping n-gram token to a unique integer\n",
        "    # Integer values are greater than max_words in order\n",
        "    # to avoid collision with existing features\n",
        "    start_index = max_words + 1\n",
        "    token_indice = {v: k + start_index for k, v in enumerate(ngram_set)}\n",
        "    indice_token = {token_indice[k]: k for k in token_indice}\n",
        "\n",
        "    # max_words is the highest integer that could be found in the dataset\n",
        "    max_words = np.max(list(indice_token.keys())) + 1\n",
        "\n",
        "    # Augmenting x_train and x_test with n-grams features\n",
        "    x_train = add_ngram(x_train, token_indice, ngram_range)\n",
        "    x_test = add_ngram(x_test, token_indice, ngram_range)\n",
        "\n",
        "# Pad the input vectors to ensure a consistent length\n",
        "x_train = sequence.pad_sequences(x_train, maxlen=maxlen)\n",
        "x_test = sequence.pad_sequences(x_test, maxlen=maxlen)"
      ],
      "execution_count": 12,
      "outputs": []
    },
    {
      "cell_type": "code",
      "metadata": {
        "colab": {
          "base_uri": "https://localhost:8080/"
        },
        "id": "R0RzydTLl6Dr",
        "outputId": "1dd27103-6803-413c-da3e-07c19d6b46c1"
      },
      "source": [
        "#We normalize this data because some values are greater than 20000 \n",
        "from sklearn.preprocessing import MinMaxScaler\n",
        "scaler = MinMaxScaler()\n",
        "x_train = scaler.fit_transform(x_train)\n",
        "x_test = scaler.fit_transform(x_test)\n",
        "\n",
        "print(x_train,len(x_train))\n",
        "print(x_test,len(x_test))\n",
        "print(y_train, len(y_train))\n",
        "print(y_test, len(y_test))"
      ],
      "execution_count": 13,
      "outputs": [
        {
          "output_type": "stream",
          "name": "stdout",
          "text": [
            "[[2.45061265e-02 1.65455385e-01 1.65497686e-01 ... 1.65487715e-01\n",
            "  8.75820250e-01 4.94106937e-01]\n",
            " [5.50137534e-04 5.84555852e-01 9.61316514e-01 ... 6.86344976e-01\n",
            "  7.23697976e-01 4.32815254e-01]\n",
            " [2.02050513e-02 1.65455385e-01 1.65497686e-01 ... 2.64623894e-01\n",
            "  6.71606494e-01 4.06880994e-01]\n",
            " ...\n",
            " [1.15028757e-03 5.27222508e-01 9.58554569e-01 ... 5.54296966e-02\n",
            "  9.27036735e-01 7.95510466e-01]\n",
            " [5.42135534e-02 1.93982901e-01 2.06288971e-01 ... 1.87819104e-01\n",
            "  3.89707359e-01 1.48669674e-01]\n",
            " [3.23080770e-02 1.65455385e-01 1.65497686e-01 ... 8.50357128e-01\n",
            "  9.97922002e-01 3.46204198e-01]] 111700\n",
            "[[3.42319812e-01 3.81541897e-03 5.35191167e-05 ... 9.87958727e-01\n",
            "  5.87422871e-01 1.00759705e-01]\n",
            " [2.59190717e-01 3.49124981e-01 9.98413205e-01 ... 3.23285332e-01\n",
            "  3.09058405e-01 3.41196289e-01]\n",
            " [1.00035012e-04 9.12456598e-03 4.69465936e-06 ... 2.85405669e-01\n",
            "  4.32268660e-01 3.92248098e-01]\n",
            " ...\n",
            " [1.74060921e-02 3.01763240e-05 4.69465936e-06 ... 2.30510002e-01\n",
            "  7.16220668e-01 1.54540634e-01]\n",
            " [6.00210074e-04 4.71505063e-06 5.72748441e-05 ... 2.12091011e-01\n",
            "  1.82131881e-01 8.92238244e-01]\n",
            " [2.25078778e-03 1.82068851e-01 1.81281454e-01 ... 7.85789965e-01\n",
            "  6.15448791e-01 1.27366747e-01]] 47871\n",
            "[[0 0 0 0 0 0]\n",
            " [0 0 0 0 0 0]\n",
            " [0 0 0 0 0 0]\n",
            " ...\n",
            " [0 0 0 0 0 0]\n",
            " [0 0 0 0 0 0]\n",
            " [0 0 0 0 0 0]] 111700\n",
            "[[0 0 0 0 0 0]\n",
            " [0 0 0 0 0 0]\n",
            " [0 0 0 0 0 0]\n",
            " ...\n",
            " [0 0 0 0 0 0]\n",
            " [0 0 0 0 0 0]\n",
            " [0 0 0 0 0 0]] 47871\n"
          ]
        }
      ]
    },
    {
      "cell_type": "code",
      "metadata": {
        "id": "TzLudf3Ej_uw"
      },
      "source": [
        "def plot_loss_curves(history):\n",
        "  loss = history.history['loss']\n",
        "  val_loss = history.history['val_loss']\n",
        "  accuracy = history.history['accuracy']\n",
        "  val_accuracy = history.history['val_accuracy']\n",
        "  epochs = range(len(history.history['loss']))\n",
        "  plt.plot(epochs, loss, label='training_loss')\n",
        "  plt.plot(epochs, val_loss, label='val_loss')\n",
        "  plt.ylabel('Loss')\n",
        "  plt.xlabel('Epochs')\n",
        "  plt.legend()\n",
        "  plt.figure()\n",
        "  plt.plot(epochs, accuracy, label='training_accuracy')\n",
        "  plt.plot(epochs, val_accuracy, label='val_accuracy')\n",
        "  plt.ylabel('Accuracy')\n",
        "  plt.xlabel('Epochs')\n",
        "  plt.legend()"
      ],
      "execution_count": 14,
      "outputs": []
    },
    {
      "cell_type": "code",
      "metadata": {
        "id": "k1VnmSAwkDCJ"
      },
      "source": [
        "file_path = \"../models/weights_base.best.hdf5\"\n",
        "checkpoint = ModelCheckpoint(file_path, verbose=1, save_best_only=True, mode=\"min\")\n",
        "early = EarlyStopping(mode=\"min\", patience=20)\n",
        "callbacks_list = [checkpoint, early]  # early\n",
        "batch_size = 64\n",
        "epochs = 5"
      ],
      "execution_count": 15,
      "outputs": []
    },
    {
      "cell_type": "code",
      "metadata": {
        "colab": {
          "base_uri": "https://localhost:8080/"
        },
        "id": "amWVBNqTj1FM",
        "outputId": "0e220fa5-742b-47ef-de28-089567e7bcc0"
      },
      "source": [
        "vocab_size = len(tokenizer.word_index) + 1\n",
        "print(vocab_size)"
      ],
      "execution_count": 17,
      "outputs": [
        {
          "output_type": "stream",
          "name": "stdout",
          "text": [
            "210338\n"
          ]
        }
      ]
    },
    {
      "cell_type": "code",
      "metadata": {
        "id": "5cfD8z7okmIs"
      },
      "source": [
        "filters = 250\n",
        "kernel_size =  5\n",
        "\n",
        "model = Sequential()\n",
        "model.add(layers.Embedding(vocab_size, embedding_dim, input_length=maxlen))\n",
        "model.add(layers.Dropout(0.1))\n",
        "model.add(layers.Conv1D(filters, kernel_size,padding='valid', activation='relu', strides=1))\n",
        "model.add(layers.GlobalMaxPooling1D())\n",
        "model.add(Dense(100, activation = 'relu'))\n",
        "model.add(layers.Dropout(0.1))\n",
        "model.add(layers.Dense(6, activation='sigmoid'))"
      ],
      "execution_count": 23,
      "outputs": []
    },
    {
      "cell_type": "code",
      "metadata": {
        "colab": {
          "base_uri": "https://localhost:8080/"
        },
        "id": "zJKZZtWEkq-Z",
        "outputId": "4d690e37-7b9c-417d-dfb2-a12f7f793d4d"
      },
      "source": [
        "#odel = get_model_bidirectional()\n",
        "model.compile(optimizer='adam',loss='binary_crossentropy', metrics=['accuracy'])\n",
        "model.summary()"
      ],
      "execution_count": 24,
      "outputs": [
        {
          "output_type": "stream",
          "name": "stdout",
          "text": [
            "Model: \"sequential_5\"\n",
            "_________________________________________________________________\n",
            " Layer (type)                Output Shape              Param #   \n",
            "=================================================================\n",
            " embedding_4 (Embedding)     (None, 100, 128)          26923264  \n",
            "                                                                 \n",
            " dropout_6 (Dropout)         (None, 100, 128)          0         \n",
            "                                                                 \n",
            " conv1d_3 (Conv1D)           (None, 96, 250)           160250    \n",
            "                                                                 \n",
            " global_max_pooling1d_2 (Glo  (None, 250)              0         \n",
            " balMaxPooling1D)                                                \n",
            "                                                                 \n",
            " dense_4 (Dense)             (None, 100)               25100     \n",
            "                                                                 \n",
            " dropout_7 (Dropout)         (None, 100)               0         \n",
            "                                                                 \n",
            " dense_5 (Dense)             (None, 6)                 606       \n",
            "                                                                 \n",
            "=================================================================\n",
            "Total params: 27,109,220\n",
            "Trainable params: 27,109,220\n",
            "Non-trainable params: 0\n",
            "_________________________________________________________________\n"
          ]
        }
      ]
    },
    {
      "cell_type": "code",
      "metadata": {
        "colab": {
          "base_uri": "https://localhost:8080/"
        },
        "id": "qkwfC-Ovk1MR",
        "outputId": "23fdcf28-ee36-43a9-ba92-9f598bba4069"
      },
      "source": [
        "model1 = model.fit(x_train, y_train, batch_size=batch_size, epochs=epochs, validation_split=0.3, callbacks=callbacks_list)"
      ],
      "execution_count": 25,
      "outputs": [
        {
          "output_type": "stream",
          "name": "stdout",
          "text": [
            "Epoch 1/5\n",
            "1222/1222 [==============================] - ETA: 0s - loss: 0.1466 - accuracy: 0.9148\n",
            "Epoch 00001: val_loss improved from inf to 0.14987, saving model to ../models/weights_base.best.hdf5\n",
            "1222/1222 [==============================] - 527s 430ms/step - loss: 0.1466 - accuracy: 0.9148 - val_loss: 0.1499 - val_accuracy: 0.9944\n",
            "Epoch 2/5\n",
            "1222/1222 [==============================] - ETA: 0s - loss: 0.1422 - accuracy: 0.9887\n",
            "Epoch 00002: val_loss improved from 0.14987 to 0.14489, saving model to ../models/weights_base.best.hdf5\n",
            "1222/1222 [==============================] - 511s 418ms/step - loss: 0.1422 - accuracy: 0.9887 - val_loss: 0.1449 - val_accuracy: 0.9944\n",
            "Epoch 3/5\n",
            "1222/1222 [==============================] - ETA: 0s - loss: 0.1417 - accuracy: 0.9937\n",
            "Epoch 00003: val_loss did not improve from 0.14489\n",
            "1222/1222 [==============================] - 523s 428ms/step - loss: 0.1417 - accuracy: 0.9937 - val_loss: 0.1450 - val_accuracy: 0.9944\n",
            "Epoch 4/5\n",
            "1222/1222 [==============================] - ETA: 0s - loss: 0.1415 - accuracy: 0.9941\n",
            "Epoch 00004: val_loss did not improve from 0.14489\n",
            "1222/1222 [==============================] - 514s 421ms/step - loss: 0.1415 - accuracy: 0.9941 - val_loss: 0.1450 - val_accuracy: 0.9944\n",
            "Epoch 5/5\n",
            "1222/1222 [==============================] - ETA: 0s - loss: 0.1412 - accuracy: 0.9943\n",
            "Epoch 00005: val_loss did not improve from 0.14489\n",
            "1222/1222 [==============================] - 517s 423ms/step - loss: 0.1412 - accuracy: 0.9943 - val_loss: 0.1450 - val_accuracy: 0.9944\n"
          ]
        }
      ]
    },
    {
      "cell_type": "code",
      "metadata": {
        "id": "dq27Vi9Ik4kS"
      },
      "source": [
        "model.save_weights(\"../models/model_weights.h5\")\n",
        "with open(\"../models/model_architecture.json\", \"w\") as f:\n",
        "    f.write(model.to_json())"
      ],
      "execution_count": 26,
      "outputs": []
    },
    {
      "cell_type": "code",
      "metadata": {
        "colab": {
          "base_uri": "https://localhost:8080/"
        },
        "id": "UIaqYxoak80l",
        "outputId": "2d3de66a-b86c-457a-a60d-b4847c3ffc46"
      },
      "source": [
        "y_pred = model.predict(x_test, batch_size=1024, verbose=1)\n",
        "print(y_pred)"
      ],
      "execution_count": 27,
      "outputs": [
        {
          "output_type": "stream",
          "name": "stdout",
          "text": [
            "47/47 [==============================] - 26s 545ms/step\n",
            "[[0.0905548  0.00851482 0.04869732 0.00351161 0.05078796 0.00741297]\n",
            " [0.0905548  0.00851482 0.04869732 0.00351161 0.05078796 0.00741297]\n",
            " [0.0905548  0.00851482 0.04869732 0.00351161 0.05078796 0.00741297]\n",
            " ...\n",
            " [0.0905548  0.00851482 0.04869732 0.00351161 0.05078796 0.00741297]\n",
            " [0.0905548  0.00851482 0.04869732 0.00351161 0.05078796 0.00741297]\n",
            " [0.0905548  0.00851482 0.04869732 0.00351161 0.05078796 0.00741297]]\n"
          ]
        }
      ]
    },
    {
      "cell_type": "code",
      "metadata": {
        "colab": {
          "base_uri": "https://localhost:8080/",
          "height": 445
        },
        "id": "LJx6AlaOk_0-",
        "outputId": "8d9f6ddd-878a-4000-e14a-02a8eae3dd17"
      },
      "source": [
        "pd.DataFrame(model1.history).plot(figsize=(10, 7))"
      ],
      "execution_count": 28,
      "outputs": [
        {
          "output_type": "execute_result",
          "data": {
            "text/plain": [
              "<matplotlib.axes._subplots.AxesSubplot at 0x7f21d44c2690>"
            ]
          },
          "metadata": {},
          "execution_count": 28
        },
        {
          "output_type": "display_data",
          "data": {
            "image/png": "[encoded data removed]",
            "text/plain": [
              "<Figure size 720x504 with 1 Axes>"
            ]
          },
          "metadata": {
            "needs_background": "light"
          }
        }
      ]
    },
    {
      "cell_type": "code",
      "metadata": {
        "colab": {
          "base_uri": "https://localhost:8080/",
          "height": 540
        },
        "id": "WmoB2AbYlHy-",
        "outputId": "569502d8-f202-49e7-b574-d9bc41add9e2"
      },
      "source": [
        "plot_loss_curves(model1)"
      ],
      "execution_count": 29,
      "outputs": [
        {
          "output_type": "display_data",
          "data": {
            "image/png": "[encoded data removed]",
            "text/plain": [
              "<Figure size 432x288 with 1 Axes>"
            ]
          },
          "metadata": {
            "needs_background": "light"
          }
        },
        {
          "output_type": "display_data",
          "data": {
            "image/png": "[encoded data removed]",
            "text/plain": [
              "<Figure size 432x288 with 1 Axes>"
            ]
          },
          "metadata": {
            "needs_background": "light"
          }
        }
      ]
    },
    {
      "cell_type": "code",
      "metadata": {
        "id": "Rj455bKrlLJN"
      },
      "source": [
        "y_pred1 = []\n",
        "for i in  range(len(y_pred)):\n",
        " seq_prediction = list(map(lambda x: 0 if x<0.5 else 1, y_pred[i]))\n",
        " y_pred1.append(seq_prediction)\n",
        "#print(seq_predictions[0])\n",
        "\n",
        "#Convert y_test vector from [0 0 0 0 0 0] to [0,0,0,0,0,0] as y_test1\n",
        "y_test1= []\n",
        "for i in  range(len(y_test)):\n",
        " seq_prediction = list(map(lambda x: 0 if x<0.5 else 1, y_test[i]))\n",
        " y_test1.append(seq_prediction)\n",
        "#print(y_test1)\n",
        "\n"
      ],
      "execution_count": 32,
      "outputs": []
    },
    {
      "cell_type": "code",
      "metadata": {
        "id": "iCg6PXhnBUY9"
      },
      "source": [
        "y_test1 = np.array(y_test1)\n",
        "y_pred1=np.array(y_pred1)"
      ],
      "execution_count": 33,
      "outputs": []
    },
    {
      "cell_type": "code",
      "metadata": {
        "colab": {
          "base_uri": "https://localhost:8080/"
        },
        "id": "1m4NnoE8rgKW",
        "outputId": "6343c2d2-e84a-421b-a5cc-71308c671263"
      },
      "source": [
        "def Accuracy(y_true, y_pred):\n",
        "    temp = 0\n",
        "    for i in range(y_true.shape[0]):\n",
        "        if  (sum(np.logical_or(y_true[i], y_pred[i]))==0):\n",
        "             continue\n",
        "        temp += sum(np.logical_and(y_true[i], y_pred[i])) / sum(np.logical_or(y_true[i], y_pred[i]))\n",
        "    return temp / y_true.shape[0]\n",
        "    \n",
        "def Hamming_Loss(y_true, y_pred):\n",
        "    temp=0\n",
        "    for i in range(y_true.shape[0]):\n",
        "        temp += np.size(y_true[i] == y_pred[i]) - np.count_nonzero(y_true[i] == y_pred[i])\n",
        "    return temp/(y_true.shape[0] * y_true.shape[1])\n",
        "\n",
        "def Precision(y_true, y_pred):\n",
        "      temp = 0\n",
        "      for i in range(y_true.shape[0]):\n",
        "          if sum(y_true[i]) == 0:\n",
        "              continue\n",
        "          temp+= sum(np.logical_and(y_true[i], y_pred[i]))/ sum(y_true[i])\n",
        "      return temp/ y_true.shape[0]\n",
        "                                \n",
        "def Recall(y_true, y_pred):\n",
        "      temp = 0\n",
        "      for i in range(y_true.shape[0]):\n",
        "          if sum(y_pred[i]) == 0:\n",
        "              continue\n",
        "          temp+= sum(np.logical_and(y_true[i], y_pred[i]))/ sum(y_pred[i])\n",
        "      return temp/ y_true.shape[0]\n",
        "                                \n",
        "def F1Measure(y_true, y_pred):\n",
        "    temp = 0\n",
        "    for i in range(y_true.shape[0]):\n",
        "        if (sum(y_true[i]) == 0) and (sum(y_pred[i]) == 0):\n",
        "            continue\n",
        "        temp+= (2*sum(np.logical_and(y_true[i], y_pred[i])))/ (sum(y_true[i])+sum(y_pred[i]))\n",
        "    return temp/ y_true.shape[0]       \n",
        "\n",
        "\n",
        "print(\"Accuracy:\", Accuracy(y_test1, y_pred1))                        \n",
        "print(\"Hamming Loss:\", Hamming_Loss(y_test1, y_pred1))   \n",
        "print(\"Precision:\", Precision(y_test1, y_pred1))      \n",
        "print(\"Recall:\", Recall(y_test1, y_pred1))   \n",
        "print(\"F1Measure:\",F1Measure(y_test1, y_pred1))  \n",
        "print(\"Exact Match Ratio:\", np.all(y_pred1 == y_test1, axis=1).mean())\n",
        "print(\"0/1 loss ratio:\",np.any(y_test1 != y_pred1, axis=1).mean())"
      ],
      "execution_count": 34,
      "outputs": [
        {
          "output_type": "stream",
          "name": "stdout",
          "text": [
            "Accuracy: 0.0\n",
            "Hamming Loss: 0.03643472387597223\n",
            "Precision: 0.0\n",
            "Recall: 0.0\n",
            "F1Measure: 0.0\n",
            "Exact Match Ratio: 0.8988949468362892\n",
            "0/1 loss ratio: 0.10110505316371081\n"
          ]
        }
      ]
    },
    {
      "cell_type": "code",
      "metadata": {
        "colab": {
          "base_uri": "https://localhost:8080/"
        },
        "id": "8WJyShTVCElc",
        "outputId": "cd9a4834-fa96-4bc0-c613-501a7f4a93da"
      },
      "source": [
        "import sklearn.metrics\n",
        "print('Exact Match Ratio: {0}'.format(sklearn.metrics.accuracy_score(y_test1, y_pred1, normalize=True, sample_weight=None)))\n",
        "print('Zero one loss: {0}'.format(sklearn.metrics.zero_one_loss(y_true=y_test1, y_pred=y_pred1))) \n",
        "print('Hamming loss: {0}'.format(sklearn.metrics.hamming_loss(y_test1, y_pred1)))"
      ],
      "execution_count": 35,
      "outputs": [
        {
          "output_type": "stream",
          "name": "stdout",
          "text": [
            "Exact Match Ratio: 0.8988949468362892\n",
            "Zero one loss: 0.10110505316371077\n",
            "Hamming loss: 0.03643472387597223\n"
          ]
        }
      ]
    },
    {
      "cell_type": "code",
      "metadata": {
        "colab": {
          "base_uri": "https://localhost:8080/"
        },
        "id": "PZ9z0n1NmJRQ",
        "outputId": "a6df2ccf-5f72-489b-8b66-b2d1c5b6be5e"
      },
      "source": [
        "#samples\n",
        "print('Jaccard Score: {0}'.format(sklearn.metrics.jaccard_score(y_true=y_test1, y_pred=y_pred1,average='samples')))\n",
        "print('Recall: {0}'.format(sklearn.metrics.precision_score(y_true=y_test1, y_pred=y_pred1, average='samples'))) \n",
        "print('Precision: {0}'.format(sklearn.metrics.recall_score(y_true=y_test1, y_pred=y_pred1, average='samples')))\n",
        "print('F1 Measure: {0}'.format(sklearn.metrics.f1_score(y_true=y_test1, y_pred=y_pred1, average='samples'))) \n",
        "\n"
      ],
      "execution_count": 36,
      "outputs": [
        {
          "output_type": "stream",
          "name": "stdout",
          "text": [
            "Jaccard Score: 0.0\n",
            "Recall: 0.0\n",
            "Precision: 0.0\n",
            "F1 Measure: 0.0\n"
          ]
        },
        {
          "output_type": "stream",
          "name": "stderr",
          "text": [
            "/usr/local/lib/python3.7/dist-packages/sklearn/metrics/_classification.py:1308: UndefinedMetricWarning: Jaccard is ill-defined and being set to 0.0 in samples with no true or predicted labels. Use `zero_division` parameter to control this behavior.\n",
            "  _warn_prf(average, modifier, msg_start, len(result))\n",
            "/usr/local/lib/python3.7/dist-packages/sklearn/metrics/_classification.py:1308: UndefinedMetricWarning: Precision is ill-defined and being set to 0.0 in samples with no predicted labels. Use `zero_division` parameter to control this behavior.\n",
            "  _warn_prf(average, modifier, msg_start, len(result))\n",
            "/usr/local/lib/python3.7/dist-packages/sklearn/metrics/_classification.py:1308: UndefinedMetricWarning: Recall is ill-defined and being set to 0.0 in samples with no true labels. Use `zero_division` parameter to control this behavior.\n",
            "  _warn_prf(average, modifier, msg_start, len(result))\n",
            "/usr/local/lib/python3.7/dist-packages/sklearn/metrics/_classification.py:1570: UndefinedMetricWarning: F-score is ill-defined and being set to 0.0 in samples with no true nor predicted labels. Use `zero_division` parameter to control this behavior.\n",
            "  _warn_prf(average, \"true nor predicted\", \"F-score is\", len(true_sum))\n"
          ]
        }
      ]
    },
    {
      "cell_type": "code",
      "metadata": {
        "colab": {
          "base_uri": "https://localhost:8080/"
        },
        "id": "ZrgONr7OmU1-",
        "outputId": "9899956b-b36c-434e-bb5c-6ffb813bf752"
      },
      "source": [
        "#micro\n",
        "print('Jaccard Score: {0}'.format(sklearn.metrics.jaccard_score(y_true=y_test1, y_pred=y_pred1,average='micro')))\n",
        "print('Recall: {0}'.format(sklearn.metrics.precision_score(y_true=y_test1, y_pred=y_pred1, average='micro'))) \n",
        "print('Precision: {0}'.format(sklearn.metrics.recall_score(y_true=y_test1, y_pred=y_pred1, average='micro')))\n",
        "print('F1 Measure: {0}'.format(sklearn.metrics.f1_score(y_true=y_test1, y_pred=y_pred1, average='micro'))) \n"
      ],
      "execution_count": 37,
      "outputs": [
        {
          "output_type": "stream",
          "name": "stdout",
          "text": [
            "Jaccard Score: 0.0\n",
            "Recall: 0.0\n",
            "Precision: 0.0\n",
            "F1 Measure: 0.0\n"
          ]
        },
        {
          "output_type": "stream",
          "name": "stderr",
          "text": [
            "/usr/local/lib/python3.7/dist-packages/sklearn/metrics/_classification.py:1308: UndefinedMetricWarning: Precision is ill-defined and being set to 0.0 due to no predicted samples. Use `zero_division` parameter to control this behavior.\n",
            "  _warn_prf(average, modifier, msg_start, len(result))\n"
          ]
        }
      ]
    },
    {
      "cell_type": "code",
      "metadata": {
        "colab": {
          "base_uri": "https://localhost:8080/"
        },
        "id": "K5R_u5H7p9Kd",
        "outputId": "ffd4db58-192d-4cb0-fa48-9940a974a41c"
      },
      "source": [
        "#macro\n",
        "print('Jaccard Score: {0}'.format(sklearn.metrics.jaccard_score(y_true=y_test1, y_pred=y_pred1,average='macro')))\n",
        "print('Recall: {0}'.format(sklearn.metrics.precision_score(y_true=y_test1, y_pred=y_pred1, average='macro'))) \n",
        "print('Precision: {0}'.format(sklearn.metrics.recall_score(y_true=y_test1, y_pred=y_pred1, average='macro')))\n",
        "print('F1 Measure: {0}'.format(sklearn.metrics.f1_score(y_true=y_test1, y_pred=y_pred1, average='macro'))) \n"
      ],
      "execution_count": 38,
      "outputs": [
        {
          "output_type": "stream",
          "name": "stdout",
          "text": [
            "Jaccard Score: 0.0\n"
          ]
        },
        {
          "output_type": "stream",
          "name": "stderr",
          "text": [
            "/usr/local/lib/python3.7/dist-packages/sklearn/metrics/_classification.py:1308: UndefinedMetricWarning: Precision is ill-defined and being set to 0.0 in labels with no predicted samples. Use `zero_division` parameter to control this behavior.\n",
            "  _warn_prf(average, modifier, msg_start, len(result))\n"
          ]
        },
        {
          "output_type": "stream",
          "name": "stdout",
          "text": [
            "Recall: 0.0\n",
            "Precision: 0.0\n",
            "F1 Measure: 0.0\n"
          ]
        }
      ]
    },
    {
      "cell_type": "code",
      "metadata": {
        "colab": {
          "base_uri": "https://localhost:8080/"
        },
        "id": "xYLfGcacCpRA",
        "outputId": "8a0eee0c-7549-447c-b412-418bd14bce38"
      },
      "source": [
        "#weighted\n",
        "print('Jaccard Score: {0}'.format(sklearn.metrics.jaccard_score(y_true=y_test1, y_pred=y_pred1,average='weighted')))\n",
        "print('Recall: {0}'.format(sklearn.metrics.precision_score(y_true=y_test1, y_pred=y_pred1, average='weighted'))) \n",
        "print('Precision: {0}'.format(sklearn.metrics.recall_score(y_true=y_test1, y_pred=y_pred1, average='weighted')))\n",
        "print('F1 Measure: {0}'.format(sklearn.metrics.f1_score(y_true=y_test1, y_pred=y_pred1, average='weighted'))) \n"
      ],
      "execution_count": 39,
      "outputs": [
        {
          "output_type": "stream",
          "name": "stdout",
          "text": [
            "Jaccard Score: 0.0\n"
          ]
        },
        {
          "output_type": "stream",
          "name": "stderr",
          "text": [
            "/usr/local/lib/python3.7/dist-packages/sklearn/metrics/_classification.py:1308: UndefinedMetricWarning: Precision is ill-defined and being set to 0.0 in labels with no predicted samples. Use `zero_division` parameter to control this behavior.\n",
            "  _warn_prf(average, modifier, msg_start, len(result))\n"
          ]
        },
        {
          "output_type": "stream",
          "name": "stdout",
          "text": [
            "Recall: 0.0\n",
            "Precision: 0.0\n",
            "F1 Measure: 0.0\n"
          ]
        }
      ]
    },
    {
      "cell_type": "code",
      "metadata": {
        "colab": {
          "base_uri": "https://localhost:8080/"
        },
        "id": "UFGH6RTUuWzf",
        "outputId": "8704d387-42e2-4469-aa0e-dc1a8908d377"
      },
      "source": [
        "print(sklearn.metrics.classification_report(y_test1, y_pred1))"
      ],
      "execution_count": 40,
      "outputs": [
        {
          "output_type": "stream",
          "name": "stdout",
          "text": [
            "              precision    recall  f1-score   support\n",
            "\n",
            "           0       0.00      0.00      0.00      4546\n",
            "           1       0.00      0.00      0.00       486\n",
            "           2       0.00      0.00      0.00      2524\n",
            "           3       0.00      0.00      0.00       131\n",
            "           4       0.00      0.00      0.00      2356\n",
            "           5       0.00      0.00      0.00       422\n",
            "\n",
            "   micro avg       0.00      0.00      0.00     10465\n",
            "   macro avg       0.00      0.00      0.00     10465\n",
            "weighted avg       0.00      0.00      0.00     10465\n",
            " samples avg       0.00      0.00      0.00     10465\n",
            "\n"
          ]
        },
        {
          "output_type": "stream",
          "name": "stderr",
          "text": [
            "/usr/local/lib/python3.7/dist-packages/sklearn/metrics/_classification.py:1308: UndefinedMetricWarning: Precision and F-score are ill-defined and being set to 0.0 in labels with no predicted samples. Use `zero_division` parameter to control this behavior.\n",
            "  _warn_prf(average, modifier, msg_start, len(result))\n",
            "/usr/local/lib/python3.7/dist-packages/sklearn/metrics/_classification.py:1308: UndefinedMetricWarning: Precision and F-score are ill-defined and being set to 0.0 due to no predicted samples. Use `zero_division` parameter to control this behavior.\n",
            "  _warn_prf(average, modifier, msg_start, len(result))\n",
            "/usr/local/lib/python3.7/dist-packages/sklearn/metrics/_classification.py:1308: UndefinedMetricWarning: Precision and F-score are ill-defined and being set to 0.0 in samples with no predicted labels. Use `zero_division` parameter to control this behavior.\n",
            "  _warn_prf(average, modifier, msg_start, len(result))\n",
            "/usr/local/lib/python3.7/dist-packages/sklearn/metrics/_classification.py:1308: UndefinedMetricWarning: Recall and F-score are ill-defined and being set to 0.0 in samples with no true labels. Use `zero_division` parameter to control this behavior.\n",
            "  _warn_prf(average, modifier, msg_start, len(result))\n"
          ]
        }
      ]
    },
    {
      "cell_type": "code",
      "metadata": {
        "colab": {
          "base_uri": "https://localhost:8080/"
        },
        "id": "_SI8pbYUAmak",
        "outputId": "09c8b54d-b53b-4a6b-bf06-464f3847d9a6"
      },
      "source": [
        "from sklearn.metrics import multilabel_confusion_matrix\n",
        "multilabel_confusion_matrix(y_test1, y_pred1)"
      ],
      "execution_count": 41,
      "outputs": [
        {
          "output_type": "execute_result",
          "data": {
            "text/plain": [
              "array([[[43325,     0],\n",
              "        [ 4546,     0]],\n",
              "\n",
              "       [[47385,     0],\n",
              "        [  486,     0]],\n",
              "\n",
              "       [[45347,     0],\n",
              "        [ 2524,     0]],\n",
              "\n",
              "       [[47740,     0],\n",
              "        [  131,     0]],\n",
              "\n",
              "       [[45515,     0],\n",
              "        [ 2356,     0]],\n",
              "\n",
              "       [[47449,     0],\n",
              "        [  422,     0]]])"
            ]
          },
          "metadata": {},
          "execution_count": 41
        }
      ]
    },
    {
      "cell_type": "code",
      "metadata": {
        "id": "vdLmi8Gmpk5j"
      },
      "source": [
        "from sklearn.metrics import ConfusionMatrixDisplay\n",
        "from sklearn.metrics import confusion_matrix\n",
        "import matplotlib.pyplot as plt\n",
        "import numpy as np\n",
        "cm = multilabel_confusion_matrix(y_test1, y_pred1)\n",
        "list_classes = [\"toxic\", \"severe_toxic\", \"obscene\", \"threat\", \"insult\", \"identity_hate\"]\n"
      ],
      "execution_count": 42,
      "outputs": []
    },
    {
      "cell_type": "code",
      "metadata": {
        "colab": {
          "base_uri": "https://localhost:8080/",
          "height": 279
        },
        "id": "-k82-KvFE9xh",
        "outputId": "43b1c1f0-f4b5-4756-a2f8-00ba85779a94"
      },
      "source": [
        "disp = ConfusionMatrixDisplay(confusion_matrix=cm[0], display_labels=list_classes[0])\n",
        "disp.plot(cmap=plt.cm.Blues)\n",
        "plt.show()"
      ],
      "execution_count": 43,
      "outputs": [
        {
          "output_type": "display_data",
          "data": {
            "image/png": "[encoded data removed]",
            "text/plain": [
              "<Figure size 432x288 with 2 Axes>"
            ]
          },
          "metadata": {
            "needs_background": "light"
          }
        }
      ]
    },
    {
      "cell_type": "code",
      "metadata": {
        "colab": {
          "base_uri": "https://localhost:8080/",
          "height": 279
        },
        "id": "I6Ic0zJOFB1F",
        "outputId": "61392717-34af-485b-a0d2-e904e74544b8"
      },
      "source": [
        "disp = ConfusionMatrixDisplay(confusion_matrix=cm[1], display_labels=list_classes[1])\n",
        "disp.plot(cmap=plt.cm.Blues)\n",
        "plt.show()"
      ],
      "execution_count": 44,
      "outputs": [
        {
          "output_type": "display_data",
          "data": {
            "image/png": "[encoded data removed]",
            "text/plain": [
              "<Figure size 432x288 with 2 Axes>"
            ]
          },
          "metadata": {
            "needs_background": "light"
          }
        }
      ]
    },
    {
      "cell_type": "code",
      "metadata": {
        "colab": {
          "base_uri": "https://localhost:8080/",
          "height": 279
        },
        "id": "Y2t6jCzmFD4c",
        "outputId": "6f8fadaa-ea82-471e-d7d1-ac084f7cdfd3"
      },
      "source": [
        "disp = ConfusionMatrixDisplay(confusion_matrix=cm[2], display_labels=list_classes[2])\n",
        "\n",
        "disp.plot(cmap=plt.cm.Blues)\n",
        "plt.show()"
      ],
      "execution_count": 45,
      "outputs": [
        {
          "output_type": "display_data",
          "data": {
            "image/png": "[encoded data removed]",
            "text/plain": [
              "<Figure size 432x288 with 2 Axes>"
            ]
          },
          "metadata": {
            "needs_background": "light"
          }
        }
      ]
    },
    {
      "cell_type": "code",
      "metadata": {
        "colab": {
          "base_uri": "https://localhost:8080/",
          "height": 279
        },
        "id": "LYaJiEyEFFnm",
        "outputId": "5488a86b-62d5-4931-caa7-fe6f0e142810"
      },
      "source": [
        "disp = ConfusionMatrixDisplay(confusion_matrix=cm[3], display_labels=list_classes[3])\n",
        "disp.plot(cmap=plt.cm.Blues)\n",
        "plt.show()"
      ],
      "execution_count": 46,
      "outputs": [
        {
          "output_type": "display_data",
          "data": {
            "image/png": "[encoded data removed]",
            "text/plain": [
              "<Figure size 432x288 with 2 Axes>"
            ]
          },
          "metadata": {
            "needs_background": "light"
          }
        }
      ]
    },
    {
      "cell_type": "code",
      "metadata": {
        "colab": {
          "base_uri": "https://localhost:8080/",
          "height": 279
        },
        "id": "TS1eLDjFFH1_",
        "outputId": "750f28ba-4097-4b65-db9c-a5ec00dcff5c"
      },
      "source": [
        "disp = ConfusionMatrixDisplay(confusion_matrix=cm[4], display_labels=list_classes[4])\n",
        "\n",
        "disp.plot(cmap=plt.cm.Blues)\n",
        "plt.show()"
      ],
      "execution_count": 47,
      "outputs": [
        {
          "output_type": "display_data",
          "data": {
            "image/png": "[encoded data removed]",
            "text/plain": [
              "<Figure size 432x288 with 2 Axes>"
            ]
          },
          "metadata": {
            "needs_background": "light"
          }
        }
      ]
    },
    {
      "cell_type": "code",
      "metadata": {
        "colab": {
          "base_uri": "https://localhost:8080/",
          "height": 279
        },
        "id": "mtNXiCD2FJ99",
        "outputId": "ee325c15-7630-4717-e4de-360dcfd504c4"
      },
      "source": [
        "disp = ConfusionMatrixDisplay(confusion_matrix=cm[5], display_labels=list_classes[5])\n",
        "\n",
        "disp.plot(cmap=plt.cm.Blues)\n",
        "plt.show()"
      ],
      "execution_count": 48,
      "outputs": [
        {
          "output_type": "display_data",
          "data": {
            "image/png": "[encoded data removed]",
            "text/plain": [
              "<Figure size 432x288 with 2 Axes>"
            ]
          },
          "metadata": {
            "needs_background": "light"
          }
        }
      ]
    }
  ]
}